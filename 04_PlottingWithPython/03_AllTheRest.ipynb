{
 "cells": [
  {
   "cell_type": "markdown",
   "metadata": {},
   "source": [
    "Your Plotting Friend is Out There\n",
    "=================================\n",
    "\n",
    "Welcome to the \"freeform\" section of today's session. I haven't prepared much out here other than color commentary.\n",
    "\n",
    "APLpy: https://aplpy.github.io/\n",
    "  - Absolutely fantastic for all kinds of image work (esp. making cutouts/galleries/etc.)\n",
    "  - Astropy affiliated, Montage integrated\n",
    "  \n",
    "Seaborn: https://seaborn.pydata.org/\n",
    "  - Seems great if you need to make slick looking plots, and if you use Pandas a lot. I don't really do either of those so I can't say much more than that.\n",
    "  -  Would probably look great on a blog post or in a public article.\n",
    "\n",
    "bokeh: https://bokeh.pydata.org/en/latest/\n",
    "  - Strong emphasis on interactivity, similar to plotly's emphasis\n",
    "  - Intuitative interface, much more so than glueviz\n",
    "  \n",
    "basemap: https://matplotlib.org/basemap/\n",
    "  - Few astronomy applications, but hugely impressive projection collection\n",
    "  - Can get creative with it\n",
    " \n",
    "glueviz: http://glueviz.org/\n",
    "  - Conda-installable and easy to get up and running\n",
    "  - NASA/NSF supported development thru CfA (https://seamlessastronomy.org/)\n",
    "  - Growing still, but can take care of catalog matching in a few clicks and start playing with interactive plots (can demo if curious)\n",
    "  \n",
    "yt: http://yt-project.org/doc/index.html\n",
    "  - For the cosmologists or cosmologistsly-curious, powerful simulation viz.\n",
    "  \n",
    "plplot: http://plplot.sourceforge.net/\n",
    "  - I mean no offense, but the PGPlot inspired designs all need to be retired. And I say this having first learned scientific plotting with PGPlot in F77.\n",
    "  - If you've got code that is using PGPlot still and you're finally fed up with dealing with all the compliation quirks, this is your easy onramp to the past.\n",
    "  \n",
    "gnuplot: http://gnuplot.info/\n",
    "  - Depends on a python wrapper (PyGnuplot) and it's decidedly un-pythonic. Much more like SM syntax it seems.\n",
    "\n",
    "Anything else anyone knows about?"
   ]
  },
  {
   "cell_type": "code",
   "execution_count": null,
   "metadata": {},
   "outputs": [],
   "source": []
  }
 ],
 "metadata": {
  "kernelspec": {
   "display_name": "Python 3",
   "language": "python",
   "name": "python3"
  },
  "language_info": {
   "codemirror_mode": {
    "name": "ipython",
    "version": 3
   },
   "file_extension": ".py",
   "mimetype": "text/x-python",
   "name": "python",
   "nbconvert_exporter": "python",
   "pygments_lexer": "ipython3",
   "version": "3.6.5"
  }
 },
 "nbformat": 4,
 "nbformat_minor": 2
}
