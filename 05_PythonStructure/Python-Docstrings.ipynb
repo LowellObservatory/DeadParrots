{
 "cells": [
  {
   "cell_type": "markdown",
   "metadata": {},
   "source": [
    "<h1><b>Python DocStrings</b></h1>"
   ]
  },
  {
   "cell_type": "markdown",
   "metadata": {},
   "source": [
    "<ul>\n",
    "    <li>Generally, a string constant that is the first statement in a function or object definition.</li>\n",
    "    <li>It is used like a comment, to document a specific segment of code.</li>\n",
    "    <li>The comment describes what the function or object does, not how it does it.</li>\n",
    "    <li>All functions should have a docstring.</li>\n",
    "    <li>The docstring can be accessed using the \\_\\_doc\\_\\_ attribute on objects.\n",
    "    <p></p>\n",
    "    <li>The docstring should begin with a capitol letter and end with a period.</li>\n",
    "    <li>The first line should be a short description of the function or object.</li>\n",
    "    <li>If there are more lines in the docstring, a blank line should be left after the first line</li>\n",
    "    <li>The following lines should be one or more paragraphs describing the object’s\n",
    "        calling conventions, its side effects, etc.</li>\n",
    "</ul>"
   ]
  },
  {
   "cell_type": "markdown",
   "metadata": {},
   "source": [
    "<hr>\n",
    "Define a very simple function with a docstring."
   ]
  },
  {
   "cell_type": "code",
   "execution_count": null,
   "metadata": {},
   "outputs": [],
   "source": [
    "def my_function():\n",
    "    \"\"\"Do nothing, but document it.\n",
    "\n",
    "    No, really, it doesn't do anything.\n",
    "    \"\"\"\n",
    "    pass"
   ]
  },
  {
   "cell_type": "markdown",
   "metadata": {},
   "source": [
    "Now, print the \\_\\_doc\\_\\_ attribute."
   ]
  },
  {
   "cell_type": "code",
   "execution_count": null,
   "metadata": {},
   "outputs": [],
   "source": [
    "print(my_function.__doc__)"
   ]
  },
  {
   "cell_type": "markdown",
   "metadata": {},
   "source": [
    "A docstring with more details about the function."
   ]
  },
  {
   "cell_type": "code",
   "execution_count": null,
   "metadata": {},
   "outputs": [],
   "source": [
    "def my_function2(arg1):\n",
    "    \"\"\"\n",
    "    Summary line.\n",
    " \n",
    "    Extended description of function.\n",
    " \n",
    "    Parameters:\n",
    "    arg1 (int): Description of arg1\n",
    " \n",
    "    Returns:\n",
    "    int: Description of return value\n",
    " \n",
    "    \"\"\"\n",
    " \n",
    "    return arg1"
   ]
  },
  {
   "cell_type": "code",
   "execution_count": null,
   "metadata": {},
   "outputs": [],
   "source": [
    "help(my_function2)"
   ]
  },
  {
   "cell_type": "markdown",
   "metadata": {},
   "source": [
    "Help is available on various builtin functions."
   ]
  },
  {
   "cell_type": "code",
   "execution_count": null,
   "metadata": {},
   "outputs": [],
   "source": [
    "help(len)"
   ]
  },
  {
   "cell_type": "markdown",
   "metadata": {},
   "source": [
    "Most external modules also have extensive documentation."
   ]
  },
  {
   "cell_type": "code",
   "execution_count": null,
   "metadata": {},
   "outputs": [],
   "source": [
    "import matplotlib.pyplot as plt\n",
    "help(plt)"
   ]
  },
  {
   "cell_type": "markdown",
   "metadata": {},
   "source": [
    "Even our little module we wrote in the Python-Functions notebook has documentation we can see with 'help'."
   ]
  },
  {
   "cell_type": "code",
   "execution_count": null,
   "metadata": {},
   "outputs": [],
   "source": [
    "import squarestuff\n",
    "help(squarestuff.square)"
   ]
  },
  {
   "cell_type": "markdown",
   "metadata": {},
   "source": [
    "Although we haven't talked about classes today, here is an example of a class with docstrings."
   ]
  },
  {
   "cell_type": "code",
   "execution_count": null,
   "metadata": {},
   "outputs": [],
   "source": [
    "class ComplexNumber:\n",
    "    \"\"\"\n",
    "    This is a class for mathematical operations on complex numbers.\n",
    "     \n",
    "    Attributes:\n",
    "        real (int): The real part of complex number.\n",
    "        imag (int): The imaginary part of complex number.\n",
    "    \"\"\"\n",
    " \n",
    "    def __init__(self, real, imag):\n",
    "        \"\"\"\n",
    "        The constructor for ComplexNumber class.\n",
    " \n",
    "        Parameters:\n",
    "           real (int): The real part of complex number.\n",
    "           imag (int): The imaginary part of complex number.   \n",
    "        \"\"\"\n",
    " \n",
    "    def add(self, num):\n",
    "        \"\"\"\n",
    "        The function to add two Complex Numbers.\n",
    " \n",
    "        Parameters:\n",
    "            num (ComplexNumber): The complex number to be added.\n",
    "         \n",
    "        Returns:\n",
    "            ComplexNumber: A complex number which contains the sum.\n",
    "        \"\"\"\n",
    " \n",
    "        re = self.real + num.real\n",
    "        im = self.imag + num.imag\n",
    " \n",
    "        return ComplexNumber(re, im)\n",
    " \n",
    "help(ComplexNumber)  # to access Class docstring\n",
    "print(\"\\n--------------------------------------\\n\")\n",
    "help(ComplexNumber.add)  # to access method's docstring"
   ]
  },
  {
   "cell_type": "code",
   "execution_count": null,
   "metadata": {},
   "outputs": [],
   "source": []
  }
 ],
 "metadata": {
  "kernelspec": {
   "display_name": "Python 3",
   "language": "python",
   "name": "python3"
  },
  "language_info": {
   "codemirror_mode": {
    "name": "ipython",
    "version": 3
   },
   "file_extension": ".py",
   "mimetype": "text/x-python",
   "name": "python",
   "nbconvert_exporter": "python",
   "pygments_lexer": "ipython3",
   "version": "3.6.5"
  }
 },
 "nbformat": 4,
 "nbformat_minor": 2
}
