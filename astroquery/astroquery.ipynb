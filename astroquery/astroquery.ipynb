{
 "cells": [
  {
   "cell_type": "markdown",
   "metadata": {},
   "source": [
    "# Using astroquery\n",
    "\n",
    "## Installation\n",
    "\n",
    "`astroquery` is affiliated to `astropy`, but not a core element of it. In case `astroquery` is not installed on your machine, you can use \n",
    "\n",
    "    pip install astroquery\n",
    "    \n",
    "to install it."
   ]
  },
  {
   "cell_type": "markdown",
   "metadata": {},
   "source": [
    "## Overview\n",
    "\n",
    "`astroquery` is a collection of database query and service tools to load data into a Python environment. It heavily uses functionality defined in `astropy` and is fully compatible to the latter.\n",
    "\n",
    "Note that `astroquery` is steadily under development. Functionality is added constantly and might also break at any time, as every `astroquery` submodule relies on external services to be active and stable.\n",
    "\n",
    "`astroquery` includes submodules for many different use cases: [https://github.com/astropy/astroquery](https://github.com/astropy/astroquery)"
   ]
  },
  {
   "cell_type": "markdown",
   "metadata": {},
   "source": [
    "## Examples\n",
    "\n",
    "Please note in the following examples that there is no consistent `astroquery` API. While the API of some modules dealing with similar services is similar, other APIs might be completely different. Please have a look at the documentation and references if you are interested in using a specific service."
   ]
  },
  {
   "cell_type": "markdown",
   "metadata": {},
   "source": [
    "### Gaia queries through Vizier\n",
    "\n",
    "[`astroquery.vizier`](https://astroquery.readthedocs.io/en/latest/vizier/vizier.html) enables the query of the more than 11,000 catalogs provided by the [CDS Vizier service](http://vizier.u-strasbg.fr/). In this example, we will query Gaia DR2 using a cone search and sort the results by absolute proper motion.\n",
    "\n",
    "Before performing any query with `astroquery.vizier`, we have to take a look at the corresponding Vizier catalog website: [http://vizier.u-strasbg.fr/viz-bin/VizieR-3?-source=I/345/gaia2](http://vizier.u-strasbg.fr/viz-bin/VizieR-3?-source=I/345/gaia2) \n",
    "\n",
    "From this website we need the catalog identifier (`I/345/gaia2`) and a list of fields (columns) we are interested in. We will also implement a filter on the G magnitude and only query 100 sources (to keep the query short)."
   ]
  },
  {
   "cell_type": "code",
   "execution_count": 1,
   "metadata": {},
   "outputs": [
    {
     "data": {
      "text/plain": [
       "TableList with 1 tables:\n",
       "\t'0:I/345/gaia2' with 6 column(s) and 100 row(s) "
      ]
     },
     "execution_count": 1,
     "metadata": {},
     "output_type": "execute_result"
    }
   ],
   "source": [
    "from astroquery.vizier import Vizier \n",
    "import astropy.units as u \n",
    "import astropy.coordinates as coord\n",
    "\n",
    "vquery = Vizier(columns=['Source', 'RA_ICRS', 'DE_ICRS', 'phot_g_mean_mag', 'pmRA', 'pmDE'], \n",
    "                column_filters={\"phot_g_mean_mag\": \"<21\"}, \n",
    "                row_limit=100) \n",
    " \n",
    "field = coord.SkyCoord(ra=100*u.deg, dec=0*u.deg, frame='icrs')\n",
    "gaia = vquery.query_region(field, width=(\"{:d}d\".format(1)), catalog=\"I/345/gaia2\")\n",
    "\n",
    "# this is a TableList object\n",
    "gaia"
   ]
  },
  {
   "cell_type": "code",
   "execution_count": 2,
   "metadata": {},
   "outputs": [
    {
     "data": {
      "text/html": [
       "<i>Table masked=True length=100</i>\n",
       "<table id=\"table140121361102552\" class=\"table-striped table-bordered table-condensed\">\n",
       "<thead><tr><th>Source</th><th>RA_ICRS</th><th>DE_ICRS</th><th>Gmag</th><th>pmRA</th><th>pmDE</th></tr></thead>\n",
       "<thead><tr><th></th><th>deg</th><th>deg</th><th>mag</th><th>mas / yr</th><th>mas / yr</th></tr></thead>\n",
       "<thead><tr><th>int64</th><th>float64</th><th>float64</th><th>float64</th><th>float64</th><th>float64</th></tr></thead>\n",
       "<tr><td>3119357300235686912</td><td>100.39849717193</td><td>-0.49956384560</td><td>18.5440</td><td>-6.490</td><td>1.337</td></tr>\n",
       "<tr><td>3119357338894051712</td><td>100.41281415805</td><td>-0.49083679497</td><td>16.8573</td><td>0.520</td><td>0.060</td></tr>\n",
       "<tr><td>3119357265875957376</td><td>100.42665579052</td><td>-0.49668103566</td><td>19.3305</td><td>-0.019</td><td>-3.088</td></tr>\n",
       "<tr><td>3119357334595435904</td><td>100.40859744742</td><td>-0.49604258296</td><td>19.7285</td><td>2.102</td><td>4.444</td></tr>\n",
       "<tr><td>3119357300235693824</td><td>100.40261364975</td><td>-0.49727401855</td><td>18.8356</td><td>0.460</td><td>1.207</td></tr>\n",
       "<tr><td>3119357338894052352</td><td>100.41853528847</td><td>-0.49642801332</td><td>17.5472</td><td>-0.259</td><td>2.193</td></tr>\n",
       "<tr><td>3119357334595452544</td><td>100.41834945103</td><td>-0.48902409494</td><td>19.1575</td><td>-1.925</td><td>0.804</td></tr>\n",
       "<tr><td>3119357338892658432</td><td>100.41139028221</td><td>-0.49632364983</td><td>20.1793</td><td>-1.389</td><td>1.199</td></tr>\n",
       "<tr><td>3119357338892658816</td><td>100.40857159234</td><td>-0.49794928343</td><td>19.7607</td><td>1.489</td><td>-3.683</td></tr>\n",
       "<tr><td>...</td><td>...</td><td>...</td><td>...</td><td>...</td><td>...</td></tr>\n",
       "<tr><td>3119358163524852864</td><td>100.39059097127</td><td>-0.47722254684</td><td>20.0590</td><td>0.230</td><td>-0.925</td></tr>\n",
       "<tr><td>3119358090509700736</td><td>100.39972275350</td><td>-0.48758227374</td><td>19.7788</td><td>0.637</td><td>1.478</td></tr>\n",
       "<tr><td>3119358094805379584</td><td>100.40009217137</td><td>-0.48818999558</td><td>19.5438</td><td>-2.220</td><td>-0.195</td></tr>\n",
       "<tr><td>3119358163524856960</td><td>100.38635542503</td><td>-0.47710490392</td><td>20.3003</td><td>-1.070</td><td>1.420</td></tr>\n",
       "<tr><td>3119358090509712000</td><td>100.40960432988</td><td>-0.48235703174</td><td>19.8425</td><td>1.133</td><td>-0.817</td></tr>\n",
       "<tr><td>3119358060445658624</td><td>100.38773320224</td><td>-0.49004255026</td><td>20.4921</td><td>-2.691</td><td>1.793</td></tr>\n",
       "<tr><td>3119358090509712768</td><td>100.40156663446</td><td>-0.48198772701</td><td>20.1965</td><td>-2.170</td><td>-3.147</td></tr>\n",
       "<tr><td>3119358094805358208</td><td>100.40521071710</td><td>-0.47765179094</td><td>20.0380</td><td>-2.975</td><td>1.871</td></tr>\n",
       "<tr><td>3119358124869455360</td><td>100.37838662286</td><td>-0.48039085400</td><td>17.7395</td><td>-0.240</td><td>1.364</td></tr>\n",
       "<tr><td>3119358060445656064</td><td>100.39174583446</td><td>-0.49121804040</td><td>18.4704</td><td>-1.775</td><td>-0.595</td></tr>\n",
       "</table>"
      ],
      "text/plain": [
       "<Table masked=True length=100>\n",
       "       Source           RA_ICRS         DE_ICRS       Gmag     pmRA      pmDE  \n",
       "                          deg             deg         mag    mas / yr  mas / yr\n",
       "       int64            float64         float64     float64  float64   float64 \n",
       "------------------- --------------- --------------- ------- --------- ---------\n",
       "3119357300235686912 100.39849717193  -0.49956384560 18.5440    -6.490     1.337\n",
       "3119357338894051712 100.41281415805  -0.49083679497 16.8573     0.520     0.060\n",
       "3119357265875957376 100.42665579052  -0.49668103566 19.3305    -0.019    -3.088\n",
       "3119357334595435904 100.40859744742  -0.49604258296 19.7285     2.102     4.444\n",
       "3119357300235693824 100.40261364975  -0.49727401855 18.8356     0.460     1.207\n",
       "3119357338894052352 100.41853528847  -0.49642801332 17.5472    -0.259     2.193\n",
       "3119357334595452544 100.41834945103  -0.48902409494 19.1575    -1.925     0.804\n",
       "3119357338892658432 100.41139028221  -0.49632364983 20.1793    -1.389     1.199\n",
       "3119357338892658816 100.40857159234  -0.49794928343 19.7607     1.489    -3.683\n",
       "                ...             ...             ...     ...       ...       ...\n",
       "3119358163524852864 100.39059097127  -0.47722254684 20.0590     0.230    -0.925\n",
       "3119358090509700736 100.39972275350  -0.48758227374 19.7788     0.637     1.478\n",
       "3119358094805379584 100.40009217137  -0.48818999558 19.5438    -2.220    -0.195\n",
       "3119358163524856960 100.38635542503  -0.47710490392 20.3003    -1.070     1.420\n",
       "3119358090509712000 100.40960432988  -0.48235703174 19.8425     1.133    -0.817\n",
       "3119358060445658624 100.38773320224  -0.49004255026 20.4921    -2.691     1.793\n",
       "3119358090509712768 100.40156663446  -0.48198772701 20.1965    -2.170    -3.147\n",
       "3119358094805358208 100.40521071710  -0.47765179094 20.0380    -2.975     1.871\n",
       "3119358124869455360 100.37838662286  -0.48039085400 17.7395    -0.240     1.364\n",
       "3119358060445656064 100.39174583446  -0.49121804040 18.4704    -1.775    -0.595"
      ]
     },
     "execution_count": 2,
     "metadata": {},
     "output_type": "execute_result"
    }
   ],
   "source": [
    "gaia[0]  # this is the actual data we requested"
   ]
  },
  {
   "cell_type": "markdown",
   "metadata": {},
   "source": [
    "Now, we create a column `pm`, which holds the absolute proper motions, and sort the entire table based on this column. Note that although each column has a unit associated with it, we have to multiply the result with the correct unit again. This is one of the shortcoming of `astropy.table.Table` that has been fixed in `astropy.table.QTable`."
   ]
  },
  {
   "cell_type": "code",
   "execution_count": 3,
   "metadata": {},
   "outputs": [
    {
     "data": {
      "text/html": [
       "<i>Table masked=True length=100</i>\n",
       "<table id=\"table140121361102552\" class=\"table-striped table-bordered table-condensed\">\n",
       "<thead><tr><th>Source</th><th>RA_ICRS</th><th>DE_ICRS</th><th>Gmag</th><th>pmRA</th><th>pmDE</th><th>pm</th></tr></thead>\n",
       "<thead><tr><th></th><th>deg</th><th>deg</th><th>mag</th><th>mas / yr</th><th>mas / yr</th><th>mas / yr</th></tr></thead>\n",
       "<thead><tr><th>int64</th><th>float64</th><th>float64</th><th>float64</th><th>float64</th><th>float64</th><th>float64</th></tr></thead>\n",
       "<tr><td>3119358094805382528</td><td>100.40233183699</td><td>-0.49265819774</td><td>20.2494</td><td>--</td><td>--</td><td>0.0</td></tr>\n",
       "<tr><td>3119358094807179392</td><td>100.40929844560</td><td>-0.48653311658</td><td>20.8954</td><td>--</td><td>--</td><td>0.0</td></tr>\n",
       "<tr><td>3119358060447546880</td><td>100.39271690060</td><td>-0.49251149818</td><td>20.8315</td><td>--</td><td>--</td><td>0.0</td></tr>\n",
       "<tr><td>3119358094807179520</td><td>100.40937042525</td><td>-0.48086671562</td><td>20.9400</td><td>--</td><td>--</td><td>0.0</td></tr>\n",
       "<tr><td>3119357957366466304</td><td>100.37917226562</td><td>-0.50000179469</td><td>20.7541</td><td>--</td><td>--</td><td>0.0</td></tr>\n",
       "<tr><td>3119357888649901568</td><td>100.33239301209</td><td>-0.49130195188</td><td>20.4484</td><td>--</td><td>--</td><td>0.0</td></tr>\n",
       "<tr><td>3119357819927569536</td><td>100.34027930269</td><td>-0.49642895150</td><td>19.3612</td><td>--</td><td>--</td><td>0.0</td></tr>\n",
       "<tr><td>3119358129166754560</td><td>100.38390270366</td><td>-0.48458758116</td><td>20.8485</td><td>--</td><td>--</td><td>0.0</td></tr>\n",
       "<tr><td>3119358129166916736</td><td>100.38832478642</td><td>-0.48228255660</td><td>20.8913</td><td>--</td><td>--</td><td>0.0</td></tr>\n",
       "<tr><td>...</td><td>...</td><td>...</td><td>...</td><td>...</td><td>...</td><td>...</td></tr>\n",
       "<tr><td>3119357334595435904</td><td>100.40859744742</td><td>-0.49604258296</td><td>19.7285</td><td>2.102</td><td>4.444</td><td>4.916049226767364</td></tr>\n",
       "<tr><td>3119358094808300928</td><td>100.40220783105</td><td>-0.49256093763</td><td>19.0139</td><td>1.499</td><td>-5.504</td><td>5.704473420045009</td></tr>\n",
       "<tr><td>3119358159229200640</td><td>100.38953137444</td><td>-0.47740434791</td><td>18.9864</td><td>-0.195</td><td>-6.118</td><td>6.121106844354214</td></tr>\n",
       "<tr><td>3119358090509719296</td><td>100.40694315563</td><td>-0.47968150901</td><td>16.7992</td><td>3.355</td><td>-5.405</td><td>6.361607501253123</td></tr>\n",
       "<tr><td>3119357300235686912</td><td>100.39849717193</td><td>-0.49956384560</td><td>18.5440</td><td>-6.490</td><td>1.337</td><td>6.626286214766156</td></tr>\n",
       "<tr><td>3119358163524854272</td><td>100.39453902301</td><td>-0.48199053051</td><td>19.8942</td><td>6.551</td><td>5.816</td><td>8.76022014563561</td></tr>\n",
       "<tr><td>3119357338891115136</td><td>100.42313346251</td><td>-0.49390094008</td><td>20.6232</td><td>-9.470</td><td>3.342</td><td>10.04240329801587</td></tr>\n",
       "<tr><td>3119358090509695744</td><td>100.40788237069</td><td>-0.48975107243</td><td>16.5776</td><td>-14.765</td><td>15.503</td><td>21.409068966211493</td></tr>\n",
       "<tr><td>3119357815630605824</td><td>100.33629637872</td><td>-0.49627414956</td><td>11.8584</td><td>-51.680</td><td>-10.237</td><td>52.684139634239074</td></tr>\n",
       "<tr><td>3119358163524858112</td><td>100.39092481969</td><td>-0.48164301004</td><td>18.9326</td><td>15.960</td><td>-67.254</td><td>69.12179190385619</td></tr>\n",
       "</table>"
      ],
      "text/plain": [
       "<Table masked=True length=100>\n",
       "       Source           RA_ICRS     ...    pmDE           pm        \n",
       "                          deg       ...  mas / yr      mas / yr     \n",
       "       int64            float64     ...  float64       float64      \n",
       "------------------- --------------- ... --------- ------------------\n",
       "3119358094805382528 100.40233183699 ...        --                0.0\n",
       "3119358094807179392 100.40929844560 ...        --                0.0\n",
       "3119358060447546880 100.39271690060 ...        --                0.0\n",
       "3119358094807179520 100.40937042525 ...        --                0.0\n",
       "3119357957366466304 100.37917226562 ...        --                0.0\n",
       "3119357888649901568 100.33239301209 ...        --                0.0\n",
       "3119357819927569536 100.34027930269 ...        --                0.0\n",
       "3119358129166754560 100.38390270366 ...        --                0.0\n",
       "3119358129166916736 100.38832478642 ...        --                0.0\n",
       "                ...             ... ...       ...                ...\n",
       "3119357334595435904 100.40859744742 ...     4.444  4.916049226767364\n",
       "3119358094808300928 100.40220783105 ...    -5.504  5.704473420045009\n",
       "3119358159229200640 100.38953137444 ...    -6.118  6.121106844354214\n",
       "3119358090509719296 100.40694315563 ...    -5.405  6.361607501253123\n",
       "3119357300235686912 100.39849717193 ...     1.337  6.626286214766156\n",
       "3119358163524854272 100.39453902301 ...     5.816   8.76022014563561\n",
       "3119357338891115136 100.42313346251 ...     3.342  10.04240329801587\n",
       "3119358090509695744 100.40788237069 ...    15.503 21.409068966211493\n",
       "3119357815630605824 100.33629637872 ...   -10.237 52.684139634239074\n",
       "3119358163524858112 100.39092481969 ...   -67.254  69.12179190385619"
      ]
     },
     "execution_count": 3,
     "metadata": {},
     "output_type": "execute_result"
    }
   ],
   "source": [
    "import numpy as np\n",
    "\n",
    "# compute absolute proper motion\n",
    "gaia[0]['pm'] = np.sqrt(gaia[0]['pmRA']**2 + gaia[0]['pmDE']**2) * u.mas/u.yr\n",
    "\n",
    "# sort table by absolute proper motion\n",
    "gaia[0].sort('pm')\n",
    "\n",
    "gaia[0]"
   ]
  },
  {
   "cell_type": "markdown",
   "metadata": {},
   "source": [
    "### MAST Queries\n",
    "\n",
    "[`astroquery.mast`](https://astroquery.readthedocs.io/en/latest/mast/mast.html) enables queries on the [Barbara A. Mikulski Archive for Space Telescope](http://archive.stsci.edu/) (MAST), including catalog and image database queries, as well as object queries. "
   ]
  },
  {
   "cell_type": "markdown",
   "metadata": {},
   "source": [
    "#### Observations Queries\n",
    "\n",
    "`astroquery.mast.observations` queries allow for querying for archived observations around a specific target or position.\n",
    "\n",
    "The following example performs such a query around a names target. The target name is resolved on the server-side into a position."
   ]
  },
  {
   "cell_type": "code",
   "execution_count": 4,
   "metadata": {},
   "outputs": [
    {
     "data": {
      "text/html": [
       "<i>Table masked=True length=1547</i>\n",
       "<table id=\"table140121158372544\" class=\"table-striped table-bordered table-condensed\">\n",
       "<thead><tr><th>intentType</th><th>obs_collection</th><th>instrument_name</th><th>project</th><th>filters</th><th>wavelength_region</th><th>target_name</th><th>target_classification</th><th>obs_id</th><th>s_ra</th><th>s_dec</th><th>proposal_id</th><th>proposal_pi</th><th>dataproduct_type</th><th>calib_level</th><th>t_min</th><th>t_max</th><th>t_exptime</th><th>em_min</th><th>em_max</th><th>obs_title</th><th>t_obs_release</th><th>proposal_type</th><th>sequence_number</th><th>s_region</th><th>jpegURL</th><th>dataURL</th><th>dataRights</th><th>mtFlag</th><th>srcDen</th><th>obsid</th><th>objID</th><th>distance</th></tr></thead>\n",
       "<thead><tr><th>str7</th><th>str5</th><th>str13</th><th>str12</th><th>str9</th><th>str16</th><th>str25</th><th>str56</th><th>str92</th><th>float64</th><th>float64</th><th>str5</th><th>str25</th><th>str8</th><th>int64</th><th>float64</th><th>float64</th><th>float64</th><th>float64</th><th>float64</th><th>str106</th><th>float64</th><th>str12</th><th>int64</th><th>str1270</th><th>str142</th><th>str190</th><th>str6</th><th>bool</th><th>float64</th><th>str11</th><th>str11</th><th>float64</th></tr></thead>\n",
       "<tr><td>science</td><td>SWIFT</td><td>UVOT</td><td>--</td><td>UVW1</td><td>UV;OPTICAL</td><td>Non-GRB (322.498, 12.163)</td><td>--</td><td>00031992001</td><td>322.498403398037</td><td>12.1626805405845</td><td>--</td><td>--</td><td>cube</td><td>2</td><td>55699.1562153</td><td>55699.1677315</td><td>978.897841439691</td><td>160900000000.0</td><td>457000000000.0</td><td>--</td><td>--</td><td>--</td><td>--</td><td>POLYGON -37.650571000000014 12.049681 -37.518820000000005 12.026015 -37.374259999999992 12.00758 -37.327605000000005 12.282816 -37.448332999999991 12.303783 -37.600768000000016 12.322455 -37.650571000000014 12.049681 -37.650571000000014 12.049681</td><td>http://archive.stsci.edu/cgi-bin/hla/fitscut.cgi?red=sw00031992001uw1[1]&amp;size=ALL&amp;output_size=1133</td><td>http://archive.stsci.edu/missions/swift_uvot/00031992/00031992001/sw00031992001uw1_sk.img</td><td>PUBLIC</td><td>--</td><td>5885.0</td><td>15000731855</td><td>15000288230</td><td>0.0</td></tr>\n",
       "<tr><td>science</td><td>SWIFT</td><td>UVOT</td><td>--</td><td>UVW1</td><td>UV;OPTICAL</td><td>Non-GRB (322.497, 12.166)</td><td>--</td><td>00031992002</td><td>322.496972776142</td><td>12.1656577596317</td><td>--</td><td>--</td><td>cube</td><td>2</td><td>55699.6925231</td><td>55699.7040278</td><td>978.745837283376</td><td>160900000000.0</td><td>457000000000.0</td><td>--</td><td>--</td><td>--</td><td>--</td><td>POLYGON -37.653026000000011 12.047648 -37.519279999999981 12.023982 -37.376716999999985 12.006384 -37.330918999999994 12.281622 -37.455929000000026 12.302867 -37.604081000000008 12.320422 -37.653026000000011 12.047648 -37.653026000000011 12.047648</td><td>http://archive.stsci.edu/cgi-bin/hla/fitscut.cgi?red=sw00031992002uw1[1]&amp;size=ALL&amp;output_size=1130</td><td>http://archive.stsci.edu/missions/swift_uvot/00031992/00031992002/sw00031992002uw1_sk.img</td><td>PUBLIC</td><td>--</td><td>5885.0</td><td>15000731856</td><td>15000722047</td><td>0.0</td></tr>\n",
       "<tr><td>science</td><td>SWIFT</td><td>UVOT</td><td>--</td><td>UVM2</td><td>UV</td><td>M15</td><td>--</td><td>00031992003</td><td>322.53942205677</td><td>12.1467062707566</td><td>--</td><td>--</td><td>cube</td><td>2</td><td>55702.3805208</td><td>55702.4246412</td><td>479.61622722387386</td><td>167900000000.0</td><td>292700000000.0</td><td>--</td><td>--</td><td>--</td><td>--</td><td>POLYGON -37.678161999999986 12.048732 -37.543551999999977 12.016453 -37.405266999999981 11.990802 -37.404303290754214 11.994938211016436 -37.342689000000007 11.983393 -37.279211999999973 12.255274 -37.391077999999993 12.281819 -37.549495999999976 12.311096 -37.550515670450466 12.306959780133395 -37.612157000000025 12.318181 -37.678161999999986 12.048732 -37.678161999999986 12.048732</td><td>http://archive.stsci.edu/cgi-bin/hla/fitscut.cgi?red=sw00031992003um2[2]&amp;size=ALL&amp;output_size=1181</td><td>http://archive.stsci.edu/missions/swift_uvot/00031992/00031992003/sw00031992003um2_sk.img</td><td>PUBLIC</td><td>--</td><td>5885.0</td><td>15000790494</td><td>15000436293</td><td>0.0</td></tr>\n",
       "<tr><td>science</td><td>SWIFT</td><td>UVOT</td><td>--</td><td>UVW1</td><td>UV;OPTICAL</td><td>M15</td><td>--</td><td>00031992004</td><td>322.493218756606</td><td>12.1111203651402</td><td>--</td><td>--</td><td>cube</td><td>2</td><td>55703.4987847</td><td>55703.5739352</td><td>623.865999921728</td><td>160900000000.0</td><td>457000000000.0</td><td>--</td><td>--</td><td>--</td><td>--</td><td>POLYGON -37.628225999999984 11.969998 -37.59010303069828 11.970793496732506 -37.589431999999988 11.945031 -37.46258 11.947271 -37.310350000000028 11.957804 -37.32070299999998 12.236419 -37.359043687822279 12.235545858118858 -37.360083999999972 12.261981 -37.487371999999993 12.258394 -37.635771999999974 12.24693 -37.628225999999984 11.969998 -37.628225999999984 11.969998</td><td>http://archive.stsci.edu/cgi-bin/hla/fitscut.cgi?red=sw00031992004uw1[2]&amp;size=ALL&amp;output_size=1046</td><td>http://archive.stsci.edu/missions/swift_uvot/00031992/00031992004/sw00031992004uw1_sk.img</td><td>PUBLIC</td><td>--</td><td>5885.0</td><td>15000731857</td><td>15000288232</td><td>0.0</td></tr>\n",
       "<tr><td>science</td><td>SWIFT</td><td>UVOT</td><td>--</td><td>UVW1</td><td>UV;OPTICAL</td><td>M15</td><td>--</td><td>00031992005</td><td>322.524200623569</td><td>12.1211748543715</td><td>--</td><td>--</td><td>cube</td><td>2</td><td>55707.5153588</td><td>55707.5249884</td><td>819.34808726792</td><td>160900000000.0</td><td>457000000000.0</td><td>--</td><td>--</td><td>--</td><td>--</td><td>POLYGON -37.602655000000027 11.986191 -37.480346 11.984267 -37.323251000000027 11.990082 -37.324519000000009 12.26897 -37.444389 12.269847 -37.600504 12.263127 -37.602655000000027 11.986191 -37.602655000000027 11.986191</td><td>http://archive.stsci.edu/cgi-bin/hla/fitscut.cgi?red=sw00031992005uw1[1]&amp;size=ALL&amp;output_size=1026</td><td>http://archive.stsci.edu/missions/swift_uvot/00031992/00031992005/sw00031992005uw1_sk.img</td><td>PUBLIC</td><td>--</td><td>5885.0</td><td>15000791686</td><td>15000501726</td><td>0.0</td></tr>\n",
       "<tr><td>science</td><td>SWIFT</td><td>UVOT</td><td>--</td><td>UVW1</td><td>UV;OPTICAL</td><td>M15</td><td>--</td><td>00031992006</td><td>322.518430513146</td><td>12.1610310015292</td><td>--</td><td>--</td><td>cube</td><td>2</td><td>55711.4697801</td><td>55711.4763773</td><td>561.557636212264</td><td>160900000000.0</td><td>457000000000.0</td><td>--</td><td>--</td><td>--</td><td>--</td><td>POLYGON -37.600888 12.014177 -37.470297000000016 12.018385 -37.322018000000014 12.03089 -37.336979999999983 12.309507 -37.457154 12.304803 -37.61242900000002 12.290828 -37.600888 12.014177 -37.600888 12.014177</td><td>http://archive.stsci.edu/cgi-bin/hla/fitscut.cgi?red=sw00031992006uw1[1]&amp;size=ALL&amp;output_size=1060</td><td>http://archive.stsci.edu/missions/swift_uvot/00031992/00031992006/sw00031992006uw1_sk.img</td><td>PUBLIC</td><td>--</td><td>5885.0</td><td>15000791687</td><td>15000501728</td><td>0.0</td></tr>\n",
       "<tr><td>science</td><td>SWIFT</td><td>UVOT</td><td>--</td><td>UVW1</td><td>UV;OPTICAL</td><td>M15</td><td>--</td><td>00031992007</td><td>322.495710364586</td><td>12.1302652023872</td><td>--</td><td>--</td><td>cube</td><td>2</td><td>55795.7445023</td><td>55795.7560185</td><td>979.028527247051</td><td>160900000000.0</td><td>457000000000.0</td><td>--</td><td>--</td><td>--</td><td>--</td><td>POLYGON -37.692830000000015 12.098973 -37.570735000000013 12.021777 -37.451844999999992 11.953174 -37.384235999999987 12.058294 -37.309995000000015 12.188492 -37.554540999999972 12.332462 -37.616733000000011 12.234275 -37.692830000000015 12.098973 -37.692830000000015 12.098973</td><td>http://archive.stsci.edu/cgi-bin/hla/fitscut.cgi?red=sw00031992007uw1[1]&amp;size=ALL&amp;output_size=1361</td><td>http://archive.stsci.edu/missions/swift_uvot/00031992/00031992007/sw00031992007uw1_sk.img</td><td>PUBLIC</td><td>--</td><td>5885.0</td><td>15000729841</td><td>15000278604</td><td>0.0</td></tr>\n",
       "<tr><td>science</td><td>SWIFT</td><td>UVOT</td><td>--</td><td>U</td><td>OPTICAL</td><td>Non-GRB (322.495, 12.177)</td><td>--</td><td>00033949001</td><td>322.494882128886</td><td>12.1767957678127</td><td>--</td><td>--</td><td>cube</td><td>2</td><td>57252.7398032</td><td>57252.7411806</td><td>117.059057275331</td><td>301400000000.0</td><td>394200000000.0</td><td>--</td><td>--</td><td>--</td><td>--</td><td>POLYGON -37.680956999999978 12.100462 -37.547750000000008 12.055334 -37.411163999999985 12.015162 -37.369471999999973 12.138413 -37.330871 12.27672 -37.603472000000011 12.359308 -37.639390999999989 12.251363 -37.680956999999978 12.100462 -37.680956999999978 12.100462</td><td>http://archive.stsci.edu/cgi-bin/hla/fitscut.cgi?red=sw00033949001uuu[1]&amp;size=ALL&amp;output_size=1235</td><td>http://archive.stsci.edu/missions/swift_uvot/00033949/00033949001/sw00033949001uuu_sk.img</td><td>PUBLIC</td><td>--</td><td>5885.0</td><td>15000754475</td><td>15000373400</td><td>0.0</td></tr>\n",
       "<tr><td>science</td><td>SWIFT</td><td>UVOT</td><td>--</td><td>UVW2</td><td>UV;OPTICAL</td><td>M15</td><td>--</td><td>00084193001</td><td>322.454350940464</td><td>12.1636983627142</td><td>--</td><td>--</td><td>cube</td><td>2</td><td>56946.1425231</td><td>56946.2102894</td><td>286.946650036605</td><td>159300000000.0</td><td>337000000000.0</td><td>--</td><td>--</td><td>--</td><td>--</td><td>POLYGON -37.756147999999996 12.130265 -37.653141000000005 12.055861 -37.528523000000007 11.975003 -37.5192381516368 11.986773754302286 -37.507874000000015 11.980188 -37.419434000000024 12.105382 -37.359752068604791 12.197605167647689 -37.359022999999979 12.198609 -37.359076582324441 12.198648519469231 -37.350330999999983 12.212156 -37.459309000000019 12.283886 -37.587761 12.358917 -37.5939634487943 12.34953070254903 -37.756147999999996 12.130265 -37.756147999999996 12.130265</td><td>http://archive.stsci.edu/cgi-bin/hla/fitscut.cgi?red=sw00084193001uw2[2]&amp;size=ALL&amp;output_size=1393</td><td>http://archive.stsci.edu/missions/swift_uvot/00084193/00084193001/sw00084193001uw2_sk.img</td><td>PUBLIC</td><td>--</td><td>5885.0</td><td>15000779204</td><td>15000455063</td><td>0.0</td></tr>\n",
       "<tr><td>science</td><td>SWIFT</td><td>UVOT</td><td>--</td><td>UVW1</td><td>UV;OPTICAL</td><td>M15</td><td>--</td><td>00084193001</td><td>322.454350940464</td><td>12.1636983627142</td><td>--</td><td>--</td><td>cube</td><td>2</td><td>56946.145787</td><td>56946.2138542</td><td>261.189324926901</td><td>160900000000.0</td><td>457000000000.0</td><td>--</td><td>--</td><td>--</td><td>--</td><td>POLYGON -37.755280000000027 12.1324 -37.65398399999998 12.059111 -37.529079000000024 11.977975 -37.519892806648187 11.989581302120936 -37.508729000000017 11.983116 -37.426567999999975 12.09911 -37.36623148049587 12.192109015914218 -37.360148999999979 12.200466 -37.360594582201976 12.200793394581966 -37.352040999999986 12.21397 -37.461877000000015 12.286257 -37.58833199999998 12.360171 -37.59904879579026 12.343920895401759 -37.755280000000027 12.1324 -37.755280000000027 12.1324</td><td>http://archive.stsci.edu/cgi-bin/hla/fitscut.cgi?red=sw00084193001uw1[2]&amp;size=ALL&amp;output_size=1386</td><td>http://archive.stsci.edu/missions/swift_uvot/00084193/00084193001/sw00084193001uw1_sk.img</td><td>PUBLIC</td><td>--</td><td>5885.0</td><td>15000779205</td><td>15000455065</td><td>0.0</td></tr>\n",
       "<tr><td>...</td><td>...</td><td>...</td><td>...</td><td>...</td><td>...</td><td>...</td><td>...</td><td>...</td><td>...</td><td>...</td><td>...</td><td>...</td><td>...</td><td>...</td><td>...</td><td>...</td><td>...</td><td>...</td><td>...</td><td>...</td><td>...</td><td>...</td><td>...</td><td>...</td><td>...</td><td>...</td><td>...</td><td>...</td><td>...</td><td>...</td><td>...</td><td>...</td></tr>\n",
       "<tr><td>science</td><td>HLA</td><td>WFPC2/PC</td><td>HLA</td><td>F439W</td><td>OPTICAL</td><td>ANY</td><td>--</td><td>hst_09826_01_wfpc2_f439w_pc</td><td>322.57963140415603</td><td>12.160531559051185</td><td>9826</td><td>BIANCHI</td><td>image</td><td>3</td><td>53183.60296</td><td>53183.61326</td><td>700.0</td><td>405600006103.5156</td><td>452920013427.7344</td><td>--</td><td>53549.83895</td><td>HLA</td><td>--</td><td>POLYGON J2000 322.58417700 12.15492800 322.58536400 12.16497700 322.57508800 12.16613700 322.57389900 12.15608600 322.58417700 12.15492800</td><td>https://hla.stsci.edu/cgi-bin/preview.cgi?dataset=hst_09826_01_wfpc2_f439w_pc</td><td>https://hla.stsci.edu/cgi-bin/getdata.cgi?dataset=hst_09826_01_wfpc2_f439w_pc_drz.fits</td><td>PUBLIC</td><td>--</td><td>--</td><td>2007484832</td><td>2017921748</td><td>287.1882987843916</td></tr>\n",
       "<tr><td>science</td><td>HLA</td><td>WFPC2/PC</td><td>HLA</td><td>F555W</td><td>OPTICAL</td><td>ANY</td><td>--</td><td>hst_09826_01_wfpc2_f555w_pc</td><td>322.57963140415603</td><td>12.160531559051185</td><td>9826</td><td>BIANCHI</td><td>image</td><td>3</td><td>53183.59809</td><td>53183.60098</td><td>140.0</td><td>472260009765.625</td><td>595099975585.9375</td><td>--</td><td>53549.82223</td><td>HLA</td><td>--</td><td>POLYGON J2000 322.57508800 12.16613700 322.57389900 12.15608600 322.58417700 12.15492800 322.58536400 12.16497700 322.57508800 12.16613700</td><td>https://hla.stsci.edu/cgi-bin/preview.cgi?dataset=hst_09826_01_wfpc2_f555w_pc</td><td>https://hla.stsci.edu/cgi-bin/getdata.cgi?dataset=hst_09826_01_wfpc2_f555w_pc_drz.fits</td><td>PUBLIC</td><td>--</td><td>--</td><td>2007484834</td><td>2017921750</td><td>287.1882987843916</td></tr>\n",
       "<tr><td>science</td><td>GALEX</td><td>GALEX</td><td>AIS</td><td>NUV</td><td>UV</td><td>AIS_155_1_10</td><td>--</td><td>6376369343898320896</td><td>321.957150132255</td><td>12.5162195792924</td><td>--</td><td>--</td><td>image</td><td>2</td><td>53234.056817129625</td><td>53634.298148148155</td><td>289.6</td><td>169300000000.0</td><td>300700000000.0</td><td>--</td><td>55426.76073</td><td>AIS</td><td>--</td><td>CIRCLE ICRS 321.95715013  12.51621958 0.625</td><td>http://galex.stsci.edu/data/GR6/pipe/02-vsn/50155-AIS_155/d/01-main/0001-img/07-try/qa/AIS_155_sg10-xd-int_2color.jpg</td><td>http://galex.stsci.edu/data/GR6/pipe/02-vsn/50155-AIS_155/d/01-main/0001-img/07-try/AIS_155_sg10-nd-int.fits.gz</td><td>PUBLIC</td><td>--</td><td>5885.0</td><td>1000020291</td><td>1000020272</td><td>23.597470370868738</td></tr>\n",
       "<tr><td>science</td><td>GALEX</td><td>GALEX</td><td>AIS</td><td>FUV</td><td>UV</td><td>AIS_155_1_10</td><td>--</td><td>6376369343898320896</td><td>321.957150132255</td><td>12.5162195792924</td><td>--</td><td>--</td><td>image</td><td>2</td><td>53234.056817129625</td><td>53240.017118055555</td><td>202.1</td><td>134000000000.0</td><td>180600000000.0</td><td>--</td><td>55426.76073</td><td>AIS</td><td>--</td><td>CIRCLE ICRS 321.95715013  12.51621958 0.625</td><td>http://galex.stsci.edu/data/GR6/pipe/02-vsn/50155-AIS_155/d/01-main/0001-img/07-try/qa/AIS_155_sg10-xd-int_2color.jpg</td><td>http://galex.stsci.edu/data/GR6/pipe/02-vsn/50155-AIS_155/d/01-main/0001-img/07-try/AIS_155_sg10-fd-exp.fits.gz</td><td>PUBLIC</td><td>--</td><td>5885.0</td><td>1000020291</td><td>1000058481</td><td>23.597470370868738</td></tr>\n",
       "<tr><td>science</td><td>GALEX</td><td>GALEX</td><td>MIS</td><td>NUV</td><td>UV</td><td>MISMWS_19921_0156</td><td>--</td><td>6395887863577182208</td><td>321.952188291964</td><td>12.5417963594158</td><td>--</td><td>--</td><td>image</td><td>2</td><td>54665.75513888889</td><td>55464.77868055556</td><td>1591.6</td><td>169300000000.0</td><td>300700000000.0</td><td>--</td><td>56218.72712</td><td>MIS</td><td>--</td><td>CIRCLE ICRS 321.95218829  12.54179636 0.625</td><td>http://galex.stsci.edu/data/GR6/pipe/02-vsn/50710-MISMWS_19921_0156/d/01-main/0001-img/07-try/qa/MISMWS_19921_0156-xd-int_2color.jpg</td><td>http://galex.stsci.edu/data/GR6/pipe/02-vsn/50710-MISMWS_19921_0156/d/01-main/0001-img/07-try/MISMWS_19921_0156-xd-mcat.fits.gz</td><td>PUBLIC</td><td>--</td><td>5885.0</td><td>1000043419</td><td>1000043331</td><td>89.60522438827785</td></tr>\n",
       "<tr><td>science</td><td>GALEX</td><td>GALEX</td><td>MIS</td><td>FUV</td><td>UV</td><td>MISMWS_19921_0156</td><td>--</td><td>6395887863577182208</td><td>321.952188291964</td><td>12.5417963594158</td><td>--</td><td>--</td><td>image</td><td>2</td><td>54665.75513888889</td><td>54666.64770833333</td><td>472.05</td><td>134000000000.0</td><td>180600000000.0</td><td>--</td><td>56218.72712</td><td>MIS</td><td>--</td><td>CIRCLE ICRS 321.95218829  12.54179636 0.625</td><td>http://galex.stsci.edu/data/GR6/pipe/02-vsn/50710-MISMWS_19921_0156/d/01-main/0001-img/07-try/qa/MISMWS_19921_0156-xd-int_2color.jpg</td><td>http://galex.stsci.edu/data/GR6/pipe/02-vsn/50710-MISMWS_19921_0156/d/01-main/0001-img/07-try/MISMWS_19921_0156-xd-mcat.fits.gz</td><td>PUBLIC</td><td>--</td><td>5885.0</td><td>1000043419</td><td>1000078344</td><td>89.60522438827785</td></tr>\n",
       "<tr><td>science</td><td>FUSE</td><td>FUV</td><td>--</td><td>--</td><td>UV</td><td>PK65-27D1</td><td>--</td><td>p1330201000</td><td>322.497233</td><td>12.173805</td><td>P133</td><td>Bianchi</td><td>spectrum</td><td>2</td><td>52221.86532407</td><td>52222.4948017</td><td>9187.0</td><td>90000000000.0</td><td>119000000000.0</td><td>Planetary Nebulae Central Stars</td><td>--</td><td>--</td><td>--</td><td>CIRCLE ICRS 322.497233 12.173805 0.00416666666667</td><td>http://archive.stsci.edu/browse/previews/fuse/p1330201/p133020100000specttagf.gif</td><td>http://archive.stsci.edu/pub/vospectra/fuse2/p133020100000nvo4ttagfcal_vo.fits</td><td>PUBLIC</td><td>--</td><td>5885.0</td><td>3001003650</td><td>3001004201</td><td>13.603976306102254</td></tr>\n",
       "<tr><td>science</td><td>FUSE</td><td>FUV</td><td>--</td><td>--</td><td>UV</td><td>NGC7078-K648</td><td>--</td><td>d1570101000</td><td>322.497208</td><td>12.173947</td><td>D157</td><td>Dixon</td><td>spectrum</td><td>2</td><td>53310.8541088</td><td>53312.04953568</td><td>27760.0</td><td>90000000000.0</td><td>119000000000.0</td><td>FUSE Spectroscopy of Hot Post-AGB Stars in Globular Clusters</td><td>--</td><td>--</td><td>--</td><td>CIRCLE ICRS 322.497208 12.173947 0.00416666666667</td><td>http://archive.stsci.edu/browse/previews/fuse/d1570101/d157010100000specttagf.gif</td><td>http://archive.stsci.edu/pub/vospectra/fuse2/d157010100000nvo4ttagfcal_vo.fits</td><td>PUBLIC</td><td>--</td><td>5885.0</td><td>3001001442</td><td>3001003462</td><td>13.993780570321269</td></tr>\n",
       "<tr><td>science</td><td>EUVE</td><td>DS/S</td><td>EUVE</td><td>--</td><td>EUV</td><td>M15</td><td>--</td><td>m15__9407061354D</td><td>322.4920043945</td><td>12.1674442291</td><td>--</td><td>--</td><td>spectrum</td><td>2</td><td>49539.5792</td><td>49541.25571556</td><td>30537.2109</td><td>70050000000.0</td><td>189950000000.0</td><td>--</td><td>--</td><td>EUVE</td><td>--</td><td>CIRCLE ICRS 322.4920043945 12.1674442291 0.01125</td><td>http://archive.stsci.edu/missions/euve/previews/gif/m15__9407061354D.gif</td><td>http://archive.stsci.edu/missions/euve/vocontainer/euve2/m15__9407061354D_vo.fits</td><td>PUBLIC</td><td>--</td><td>5885.0</td><td>5000000771</td><td>5000000808</td><td>0.0</td></tr>\n",
       "<tr><td>science</td><td>EUVE</td><td>DS/S</td><td>EUVE</td><td>--</td><td>EUV</td><td>M15</td><td>--</td><td>m15__9407061354N</td><td>322.4920043945</td><td>12.1674442291</td><td>--</td><td>--</td><td>spectrum</td><td>2</td><td>49539.5792</td><td>49541.25571556</td><td>45062.5195</td><td>70050000000.0</td><td>699800000000.0</td><td>--</td><td>--</td><td>EUVE</td><td>--</td><td>CIRCLE ICRS 322.4920043945 12.1674442291 0.01125</td><td>http://archive.stsci.edu/missions/euve/previews/gif/m15__9407061354N.gif</td><td>http://archive.stsci.edu/missions/euve/vocontainer/euve2/m15__9407061354N_vo.fits</td><td>PUBLIC</td><td>--</td><td>5885.0</td><td>5000000772</td><td>5000000809</td><td>0.0</td></tr>\n",
       "</table>"
      ],
      "text/plain": [
       "<Table masked=True length=1547>\n",
       "intentType obs_collection instrument_name ...    objID         distance     \n",
       "   str7         str5           str13      ...    str11         float64      \n",
       "---------- -------------- --------------- ... ----------- ------------------\n",
       "   science          SWIFT            UVOT ... 15000288230                0.0\n",
       "   science          SWIFT            UVOT ... 15000722047                0.0\n",
       "   science          SWIFT            UVOT ... 15000436293                0.0\n",
       "   science          SWIFT            UVOT ... 15000288232                0.0\n",
       "   science          SWIFT            UVOT ... 15000501726                0.0\n",
       "   science          SWIFT            UVOT ... 15000501728                0.0\n",
       "   science          SWIFT            UVOT ... 15000278604                0.0\n",
       "   science          SWIFT            UVOT ... 15000373400                0.0\n",
       "   science          SWIFT            UVOT ... 15000455063                0.0\n",
       "   science          SWIFT            UVOT ... 15000455065                0.0\n",
       "       ...            ...             ... ...         ...                ...\n",
       "   science            HLA        WFPC2/PC ...  2017921748  287.1882987843916\n",
       "   science            HLA        WFPC2/PC ...  2017921750  287.1882987843916\n",
       "   science          GALEX           GALEX ...  1000020272 23.597470370868738\n",
       "   science          GALEX           GALEX ...  1000058481 23.597470370868738\n",
       "   science          GALEX           GALEX ...  1000043331  89.60522438827785\n",
       "   science          GALEX           GALEX ...  1000078344  89.60522438827785\n",
       "   science           FUSE             FUV ...  3001004201 13.603976306102254\n",
       "   science           FUSE             FUV ...  3001003462 13.993780570321269\n",
       "   science           EUVE            DS/S ...  5000000808                0.0\n",
       "   science           EUVE            DS/S ...  5000000809                0.0"
      ]
     },
     "execution_count": 4,
     "metadata": {},
     "output_type": "execute_result"
    }
   ],
   "source": [
    "from astroquery.mast import Observations\n",
    "\n",
    "obsTable = Observations.query_object(\"M15\",radius=\".1 deg\")\n",
    "obsTable"
   ]
  },
  {
   "cell_type": "code",
   "execution_count": 5,
   "metadata": {},
   "outputs": [
    {
     "data": {
      "text/html": [
       "<i>Table masked=True length=5</i>\n",
       "<table id=\"table140121162424448\" class=\"table-striped table-bordered table-condensed\">\n",
       "<thead><tr><th>obsID</th><th>obs_collection</th><th>dataproduct_type</th><th>obs_id</th><th>description</th><th>type</th><th>dataURI</th><th>productType</th><th>productGroupDescription</th><th>productSubGroupDescription</th><th>productDocumentationURL</th><th>project</th><th>prvversion</th><th>proposal_id</th><th>productFilename</th><th>size</th><th>parent_obsid</th></tr></thead>\n",
       "<thead><tr><th>str11</th><th>str5</th><th>str4</th><th>str11</th><th>str132</th><th>str1</th><th>str88</th><th>str7</th><th>str28</th><th>str1</th><th>str53</th><th>str1</th><th>str1</th><th>str1</th><th>str26</th><th>int64</th><th>str11</th></tr></thead>\n",
       "<tr><td>15000731855</td><td>SWIFT</td><td>cube</td><td>00031992001</td><td>Preview-Full</td><td>S</td><td>mast:SWIFT/url/cgi-bin/hla/fitscut.cgi?red=sw00031992001uw1[1]&amp;size=ALL&amp;output_size=1133</td><td>PREVIEW</td><td>--</td><td>--</td><td>--</td><td>--</td><td>--</td><td>--</td><td>sw00031992001uw1_1.jpg</td><td>12164</td><td>15000731855</td></tr>\n",
       "<tr><td>15000731855</td><td>SWIFT</td><td>cube</td><td>00031992001</td><td>Level 2 files describing exposure times per pixel for each observation</td><td>S</td><td>mast:SWIFT/url/missions/swift_uvot/00031992/00031992001/sw00031992001u_ex.img.gz</td><td>SCIENCE</td><td>--</td><td>--</td><td>https://archive.stsci.edu/swiftuvot/file_formats.html</td><td>--</td><td>--</td><td>--</td><td>sw00031992001u_ex.img.gz</td><td>470206</td><td>15000731855</td></tr>\n",
       "<tr><td>15000731855</td><td>SWIFT</td><td>cube</td><td>00031992001</td><td>Level 2 files describing exposure times per pixel for each observation</td><td>S</td><td>mast:SWIFT/url/missions/swift_uvot/00031992/00031992001/sw00031992001uw1_ex.img.gz</td><td>SCIENCE</td><td>--</td><td>--</td><td>https://archive.stsci.edu/swiftuvot/file_formats.html</td><td>--</td><td>--</td><td>--</td><td>sw00031992001uw1_ex.img.gz</td><td>100445</td><td>15000731855</td></tr>\n",
       "<tr><td>15000731855</td><td>SWIFT</td><td>cube</td><td>00031992001</td><td>Level 1 images in raw units (pixels)</td><td>S</td><td>mast:SWIFT/url/missions/swift_uvot/00031992/00031992001/sw00031992001uw1_rw.img.gz</td><td>SCIENCE</td><td>--</td><td>--</td><td>https://archive.stsci.edu/swiftuvot/file_formats.html</td><td>--</td><td>--</td><td>--</td><td>sw00031992001uw1_rw.img.gz</td><td>848287</td><td>15000731855</td></tr>\n",
       "<tr><td>15000731855</td><td>SWIFT</td><td>cube</td><td>00031992001</td><td>Level 2 images are named sw[obsid]u&lt;filter&gt;_sk.img. Here &lt;filter&gt; will be w1/w2/m2/u/b/v/uvw1/uvw2/uvm2. sk means sky image (Ra/Dec)</td><td>S</td><td>mast:SWIFT/url/missions/swift_uvot/00031992/00031992001/sw00031992001uw1_sk.img</td><td>SCIENCE</td><td>Minimum Recommended Products</td><td>--</td><td>--</td><td>--</td><td>--</td><td>--</td><td>sw00031992001uw1_sk.img</td><td>5152300</td><td>15000731855</td></tr>\n",
       "</table>"
      ],
      "text/plain": [
       "<Table masked=True length=5>\n",
       "   obsID    obs_collection dataproduct_type ...   size  parent_obsid\n",
       "   str11         str5            str4       ...  int64     str11    \n",
       "----------- -------------- ---------------- ... ------- ------------\n",
       "15000731855          SWIFT             cube ...   12164  15000731855\n",
       "15000731855          SWIFT             cube ...  470206  15000731855\n",
       "15000731855          SWIFT             cube ...  100445  15000731855\n",
       "15000731855          SWIFT             cube ...  848287  15000731855\n",
       "15000731855          SWIFT             cube ... 5152300  15000731855"
      ]
     },
     "execution_count": 5,
     "metadata": {},
     "output_type": "execute_result"
    }
   ],
   "source": [
    "dataproducts = Observations.get_product_list(obsTable[0])\n",
    "dataproducts"
   ]
  },
  {
   "cell_type": "markdown",
   "metadata": {},
   "source": [
    "Any of these data products can be downloaded into your current working directory."
   ]
  },
  {
   "cell_type": "code",
   "execution_count": 6,
   "metadata": {},
   "outputs": [],
   "source": [
    "# the following code will download the selected data products\n",
    "#Observations.download_products('15000731855', productType=\"SCIENCE\")"
   ]
  },
  {
   "cell_type": "markdown",
   "metadata": {},
   "source": [
    "#### Catalog queries with MAST\n",
    "\n",
    "The following example performs a Gaia DR2 query that is similar to the one we used for vizier above:"
   ]
  },
  {
   "cell_type": "code",
   "execution_count": 7,
   "metadata": {},
   "outputs": [
    {
     "data": {
      "text/html": [
       "<i>Table masked=True length=1525</i>\n",
       "<table id=\"table140121158370584\" class=\"table-striped table-bordered table-condensed\">\n",
       "<thead><tr><th>solution_id</th><th>designation</th><th>source_id</th><th>random_index</th><th>ref_epoch</th><th>ra</th><th>ra_error</th><th>dec</th><th>dec_error</th><th>parallax</th><th>parallax_error</th><th>parallax_over_error</th><th>pmra</th><th>pmra_error</th><th>pmdec</th><th>pmdec_error</th><th>ra_dec_corr</th><th>ra_parallax_corr</th><th>ra_pmra_corr</th><th>ra_pmdec_corr</th><th>dec_parallax_corr</th><th>dec_pmra_corr</th><th>dec_pmdec_corr</th><th>parallax_pmra_corr</th><th>parallax_pmdec_corr</th><th>pmra_pmdec_corr</th><th>astrometric_n_obs_al</th><th>astrometric_n_obs_ac</th><th>astrometric_n_good_obs_al</th><th>astrometric_n_bad_obs_al</th><th>astrometric_gof_al</th><th>astrometric_chi2_al</th><th>astrometric_excess_noise</th><th>astrometric_excess_noise_sig</th><th>astrometric_params_solved</th><th>astrometric_primary_flag</th><th>astrometric_weight_al</th><th>astrometric_pseudo_colour</th><th>astrometric_pseudo_colour_error</th><th>mean_varpi_factor_al</th><th>astrometric_matched_observations</th><th>visibility_periods_used</th><th>astrometric_sigma5d_max</th><th>frame_rotator_object_type</th><th>matched_observations</th><th>duplicated_source</th><th>phot_g_n_obs</th><th>phot_g_mean_flux</th><th>phot_g_mean_flux_error</th><th>phot_g_mean_flux_over_error</th><th>phot_g_mean_mag</th><th>phot_bp_n_obs</th><th>phot_bp_mean_flux</th><th>phot_bp_mean_flux_error</th><th>phot_bp_mean_flux_over_error</th><th>phot_bp_mean_mag</th><th>phot_rp_n_obs</th><th>phot_rp_mean_flux</th><th>phot_rp_mean_flux_error</th><th>phot_rp_mean_flux_over_error</th><th>phot_rp_mean_mag</th><th>phot_bp_rp_excess_factor</th><th>phot_proc_mode</th><th>bp_rp</th><th>bp_g</th><th>g_rp</th><th>radial_velocity</th><th>radial_velocity_error</th><th>rv_nb_transits</th><th>rv_template_teff</th><th>rv_template_logg</th><th>rv_template_fe_h</th><th>phot_variable_flag</th><th>l</th><th>b</th><th>ecl_lon</th><th>ecl_lat</th><th>priam_flags</th><th>teff_val</th><th>teff_percentile_lower</th><th>teff_percentile_upper</th><th>a_g_val</th><th>a_g_percentile_lower</th><th>a_g_percentile_upper</th><th>e_bp_min_rp_val</th><th>e_bp_min_rp_percentile_lower</th><th>e_bp_min_rp_percentile_upper</th><th>flame_flags</th><th>radius_val</th><th>radius_percentile_lower</th><th>radius_percentile_upper</th><th>lum_val</th><th>lum_percentile_lower</th><th>lum_percentile_upper</th><th>distance</th></tr></thead>\n",
       "<thead><tr><th>str19</th><th>str28</th><th>str19</th><th>str10</th><th>float64</th><th>float64</th><th>float64</th><th>float64</th><th>float64</th><th>float64</th><th>float64</th><th>float64</th><th>float64</th><th>float64</th><th>float64</th><th>float64</th><th>float64</th><th>float64</th><th>float64</th><th>float64</th><th>float64</th><th>float64</th><th>float64</th><th>float64</th><th>float64</th><th>float64</th><th>int64</th><th>int64</th><th>int64</th><th>int64</th><th>float64</th><th>float64</th><th>float64</th><th>float64</th><th>int64</th><th>bool</th><th>float64</th><th>float64</th><th>float64</th><th>float64</th><th>int64</th><th>int64</th><th>float64</th><th>int64</th><th>int64</th><th>bool</th><th>int64</th><th>float64</th><th>float64</th><th>float64</th><th>float64</th><th>int64</th><th>float64</th><th>float64</th><th>float64</th><th>float64</th><th>int64</th><th>float64</th><th>float64</th><th>float64</th><th>float64</th><th>float64</th><th>int64</th><th>float64</th><th>float64</th><th>float64</th><th>float64</th><th>float64</th><th>int64</th><th>float64</th><th>float64</th><th>float64</th><th>str13</th><th>float64</th><th>float64</th><th>float64</th><th>float64</th><th>str6</th><th>float64</th><th>float64</th><th>float64</th><th>float64</th><th>float64</th><th>float64</th><th>float64</th><th>float64</th><th>float64</th><th>str6</th><th>float64</th><th>float64</th><th>float64</th><th>float64</th><th>float64</th><th>float64</th><th>float64</th></tr></thead>\n",
       "<tr><td>1635721458409799680</td><td>Gaia DR2 3119539475569633280</td><td>3119539475569633280</td><td>1209540135</td><td>2015.5</td><td>99.99820962998557</td><td>1.0150851807369816</td><td>-0.004160362234407944</td><td>1.0330155560455725</td><td>-0.773933132621446</td><td>1.1897356144186264</td><td>-0.6505085</td><td>2.581938245359542</td><td>2.040928817356255</td><td>1.4644105004155272</td><td>2.236846321851782</td><td>-0.169850662</td><td>-0.180685878</td><td>-0.40652585</td><td>0.16464828</td><td>-0.304460466</td><td>0.107157975</td><td>-0.462901562</td><td>0.319120556</td><td>0.262989223</td><td>-0.255585551</td><td>122</td><td>0</td><td>120</td><td>2</td><td>0.6540877</td><td>124.503448</td><td>0.7678914056175942</td><td>0.10342815128025092</td><td>31</td><td>False</td><td>0.0207638</td><td>1.4151500037267832</td><td>0.28653239314879864</td><td>-0.107793681</td><td>14</td><td>9</td><td>2.19536185</td><td>0</td><td>14</td><td>False</td><td>121</td><td>127.48637184776655</td><td>1.66033913199935</td><td>76.78333</td><td>20.4247055</td><td>8</td><td>43.958453113227456</td><td>11.620339982103648</td><td>3.78288865</td><td>21.243782</td><td>12</td><td>145.64102729581197</td><td>15.690285862300296</td><td>9.282242</td><td>19.35371</td><td>1.48721373</td><td>0</td><td>1.89007187</td><td>0.819076538</td><td>1.07099533</td><td>--</td><td>--</td><td>0</td><td>--</td><td>--</td><td>--</td><td>NOT_AVAILABLE</td><td>211.6300728487335</td><td>-2.5481752321652023</td><td>100.87720431834708</td><td>-23.06671051507548</td><td>--</td><td>--</td><td>--</td><td>--</td><td>--</td><td>--</td><td>--</td><td>--</td><td>--</td><td>--</td><td>--</td><td>--</td><td>--</td><td>--</td><td>--</td><td>--</td><td>--</td><td>0.27175455715781127</td></tr>\n",
       "<tr><td>1635721458409799680</td><td>Gaia DR2 3119539479866859136</td><td>3119539479866859136</td><td>1646356482</td><td>2015.5</td><td>100.00213285582558</td><td>11.00606997788218</td><td>-0.004075779834609664</td><td>3.3233918944872713</td><td>--</td><td>--</td><td>--</td><td>--</td><td>--</td><td>--</td><td>--</td><td>-0.4200466</td><td>--</td><td>--</td><td>--</td><td>--</td><td>--</td><td>--</td><td>--</td><td>--</td><td>--</td><td>51</td><td>0</td><td>51</td><td>0</td><td>-0.7565366</td><td>38.52308</td><td>0.0</td><td>0.0</td><td>3</td><td>False</td><td>0.0220471453</td><td>--</td><td>--</td><td>-0.0121318866</td><td>6</td><td>6</td><td>148.607025</td><td>0</td><td>6</td><td>False</td><td>53</td><td>96.62806807406264</td><td>2.022916838539997</td><td>47.7667046</td><td>20.7256069</td><td>4</td><td>54.6098645197454</td><td>7.933002503796303</td><td>6.88388348</td><td>21.0082111</td><td>5</td><td>128.0620411595305</td><td>7.370249624990056</td><td>17.375536</td><td>19.4933681</td><td>1.89046419</td><td>0</td><td>1.514843</td><td>0.282604218</td><td>1.23223877</td><td>--</td><td>--</td><td>0</td><td>--</td><td>--</td><td>--</td><td>NOT_AVAILABLE</td><td>211.631789969357</td><td>-2.5446459019288863</td><td>100.88144952329746</td><td>-23.066331627842246</td><td>--</td><td>--</td><td>--</td><td>--</td><td>--</td><td>--</td><td>--</td><td>--</td><td>--</td><td>--</td><td>--</td><td>--</td><td>--</td><td>--</td><td>--</td><td>--</td><td>--</td><td>0.2760068818180716</td></tr>\n",
       "<tr><td>1635721458409799680</td><td>Gaia DR2 3119539514223465728</td><td>3119539514223465728</td><td>988665848</td><td>2015.5</td><td>100.00413303038435</td><td>0.7975457523916399</td><td>-0.0022234805210726133</td><td>0.9315294475473385</td><td>0.2204910271992613</td><td>0.9757845562147405</td><td>0.225962818</td><td>-4.1801614852345885</td><td>1.7455374432790687</td><td>4.645316340302875</td><td>2.083731101194336</td><td>-0.4136076</td><td>-0.168168068</td><td>-0.323323071</td><td>0.165130839</td><td>-0.300076634</td><td>0.149550974</td><td>-0.3174373</td><td>0.161573634</td><td>0.280291528</td><td>-0.606925666</td><td>105</td><td>0</td><td>105</td><td>0</td><td>0.732057154</td><td>110.002289</td><td>0.7687549300108674</td><td>0.13843573658756095</td><td>31</td><td>False</td><td>0.0381691046</td><td>1.126263033188291</td><td>0.23997292954286017</td><td>-0.230518669</td><td>12</td><td>9</td><td>2.178096</td><td>0</td><td>12</td><td>False</td><td>105</td><td>177.79917400939152</td><td>1.5021982766197404</td><td>118.359322</td><td>20.0635414</td><td>5</td><td>107.0258001915767</td><td>28.77034114646781</td><td>3.72000456</td><td>20.2776661</td><td>5</td><td>272.30600420156406</td><td>13.524078162342533</td><td>20.134903</td><td>18.6742764</td><td>2.1334846</td><td>0</td><td>1.60338974</td><td>0.21412468</td><td>1.38926506</td><td>--</td><td>--</td><td>0</td><td>--</td><td>--</td><td>--</td><td>NOT_AVAILABLE</td><td>211.63105408635204</td><td>-2.5420207822100918</td><td>100.88346615759468</td><td>-23.0643343496045</td><td>--</td><td>--</td><td>--</td><td>--</td><td>--</td><td>--</td><td>--</td><td>--</td><td>--</td><td>--</td><td>--</td><td>--</td><td>--</td><td>--</td><td>--</td><td>--</td><td>--</td><td>0.28158995152033695</td></tr>\n",
       "<tr><td>1635721458409799680</td><td>Gaia DR2 3119539514225810048</td><td>3119539514225810048</td><td>459828271</td><td>2015.5</td><td>100.0048136719057</td><td>10.178049734724084</td><td>0.0014242210412145086</td><td>12.117386766412906</td><td>--</td><td>--</td><td>--</td><td>--</td><td>--</td><td>--</td><td>--</td><td>-0.974294543</td><td>--</td><td>--</td><td>--</td><td>--</td><td>--</td><td>--</td><td>--</td><td>--</td><td>--</td><td>51</td><td>0</td><td>51</td><td>0</td><td>0.9904156</td><td>55.41051</td><td>3.0165024394546687</td><td>0.39632530664756727</td><td>3</td><td>False</td><td>0.0108610792</td><td>--</td><td>--</td><td>-0.465170443</td><td>6</td><td>5</td><td>97.80256</td><td>0</td><td>6</td><td>False</td><td>52</td><td>81.49349140314192</td><td>1.8766046222516122</td><td>43.426033</td><td>20.9105587</td><td>6</td><td>48.78142712905267</td><td>9.092702569462086</td><td>5.36489868</td><td>21.1307526</td><td>5</td><td>61.455317417938225</td><td>3.459410938810911</td><td>17.764677</td><td>20.2905216</td><td>1.35270607</td><td>0</td><td>0.840230942</td><td>0.220193863</td><td>0.6200371</td><td>--</td><td>--</td><td>0</td><td>--</td><td>--</td><td>--</td><td>NOT_AVAILABLE</td><td>211.62811629241114</td><td>-2.5397502473486457</td><td>100.88390606870823</td><td>-23.060645830267802</td><td>--</td><td>--</td><td>--</td><td>--</td><td>--</td><td>--</td><td>--</td><td>--</td><td>--</td><td>--</td><td>--</td><td>--</td><td>--</td><td>--</td><td>--</td><td>--</td><td>--</td><td>0.3011966700124765</td></tr>\n",
       "<tr><td>1635721458409799680</td><td>Gaia DR2 3119539578648995200</td><td>3119539578648995200</td><td>1466448391</td><td>2015.5</td><td>99.99914354939955</td><td>0.48089357156242046</td><td>0.005481905521657663</td><td>0.5409180250843268</td><td>0.9827081773477065</td><td>0.6545386574363571</td><td>1.50137532</td><td>0.03183789521800111</td><td>1.0158133130607871</td><td>1.0696619423641078</td><td>1.3578393044173125</td><td>0.054577</td><td>-0.347068667</td><td>-0.234648868</td><td>-0.181682631</td><td>-0.5389313</td><td>-0.0435924456</td><td>-0.444868356</td><td>0.108796537</td><td>0.478868127</td><td>-0.319756269</td><td>134</td><td>0</td><td>134</td><td>0</td><td>-0.0204299614</td><td>128.007736</td><td>0.0</td><td>0.0</td><td>31</td><td>False</td><td>0.08157496</td><td>1.5202241014864446</td><td>0.13544174963919084</td><td>-0.0617339052</td><td>15</td><td>8</td><td>1.28902137</td><td>0</td><td>15</td><td>False</td><td>134</td><td>252.1135176375277</td><td>1.5189840539115216</td><td>165.9751</td><td>19.6843758</td><td>10</td><td>83.10224251750398</td><td>6.633685237756437</td><td>12.5273113</td><td>20.5523567</td><td>10</td><td>264.9410790494833</td><td>13.531555161681991</td><td>19.5795</td><td>18.7040462</td><td>1.38050246</td><td>0</td><td>1.84831047</td><td>0.867980957</td><td>0.9803295</td><td>--</td><td>--</td><td>0</td><td>--</td><td>--</td><td>--</td><td>NOT_AVAILABLE</td><td>211.62191179433717</td><td>-2.5429432054324796</td><td>100.87742984748101</td><td>-23.0570253473194</td><td>--</td><td>--</td><td>--</td><td>--</td><td>--</td><td>--</td><td>--</td><td>--</td><td>--</td><td>--</td><td>--</td><td>--</td><td>--</td><td>--</td><td>--</td><td>--</td><td>--</td><td>0.3329042877431635</td></tr>\n",
       "<tr><td>1635721458409799680</td><td>Gaia DR2 3119539475569163136</td><td>3119539475569163136</td><td>786521807</td><td>2015.5</td><td>100.0015696466021</td><td>0.3182492465550773</td><td>-0.005323588411732927</td><td>0.3457040586043163</td><td>0.7594411961789701</td><td>0.3807919319810425</td><td>1.99437308</td><td>-0.2056371074726452</td><td>0.6074696038141747</td><td>2.2641696571996923</td><td>0.5681247099246771</td><td>-0.2901405</td><td>-0.116318367</td><td>-0.360100746</td><td>0.362399071</td><td>-0.332621872</td><td>0.2028002</td><td>-0.503168464</td><td>0.374049425</td><td>0.07914279</td><td>-0.268419027</td><td>157</td><td>0</td><td>156</td><td>1</td><td>10.570507</td><td>417.9395</td><td>1.8178088835093518</td><td>11.72918971255192</td><td>31</td><td>False</td><td>0.170774236</td><td>1.4190994220587474</td><td>0.09026179342707809</td><td>-0.118554473</td><td>18</td><td>10</td><td>0.630783558</td><td>0</td><td>18</td><td>False</td><td>154</td><td>766.2401498623485</td><td>3.015181066445312</td><td>254.127411</td><td>18.4774532</td><td>15</td><td>272.60532886546656</td><td>10.316448783423121</td><td>26.4243374</td><td>19.2625523</td><td>15</td><td>815.4270155506862</td><td>9.198953935911511</td><td>88.64345</td><td>17.4834576</td><td>1.41996264</td><td>0</td><td>1.7790947</td><td>0.785099</td><td>0.993995667</td><td>--</td><td>--</td><td>0</td><td>--</td><td>--</td><td>--</td><td>NOT_AVAILABLE</td><td>211.6326439950945</td><td>-2.545716560235006</td><td>100.8809409390079</td><td>-23.067618204757057</td><td>--</td><td>--</td><td>--</td><td>--</td><td>--</td><td>--</td><td>--</td><td>--</td><td>--</td><td>--</td><td>--</td><td>--</td><td>--</td><td>--</td><td>--</td><td>--</td><td>--</td><td>0.3330101837683061</td></tr>\n",
       "<tr><td>1635721458409799680</td><td>Gaia DR2 3119539514227332096</td><td>3119539514227332096</td><td>947379023</td><td>2015.5</td><td>100.00541544876641</td><td>0.03182224817040657</td><td>-0.0021077960777081822</td><td>0.03391931634438308</td><td>0.18846751732162606</td><td>0.038546028699417645</td><td>4.889415</td><td>-0.07708591441036941</td><td>0.06283705797396393</td><td>0.13085406256588364</td><td>0.059464989421646824</td><td>-0.03960832</td><td>0.0145813022</td><td>-0.3017154</td><td>0.106361188</td><td>-0.425340265</td><td>-0.034020707</td><td>-0.4509962</td><td>0.303194344</td><td>0.205512345</td><td>-0.0187507831</td><td>176</td><td>18</td><td>171</td><td>5</td><td>10.3692322</td><td>434.414764</td><td>0.19963182544377348</td><td>9.031593959346306</td><td>31</td><td>False</td><td>20.8014832</td><td>1.387631178805815</td><td>0.008391653670248389</td><td>-0.02441723</td><td>20</td><td>11</td><td>0.06141594</td><td>0</td><td>20</td><td>False</td><td>162</td><td>119054.36577448042</td><td>79.45914330047326</td><td>1498.3092</td><td>12.9990025</td><td>19</td><td>34989.75828985222</td><td>89.7934459130713</td><td>389.6694</td><td>13.9915361</td><td>18</td><td>125298.28389920745</td><td>107.82749341812693</td><td>1162.02539</td><td>12.0170574</td><td>1.34634328</td><td>0</td><td>1.97447872</td><td>0.9925337</td><td>0.981945038</td><td>55.03391884914407</td><td>2.353914452908523</td><td>9</td><td>5500.0</td><td>3.5</td><td>0.0</td><td>NOT_AVAILABLE</td><td>211.63153696559846</td><td>-2.5408269372085015</td><td>100.88484660909644</td><td>-23.06412266974604</td><td>100001</td><td>3877.5</td><td>3727.0</td><td>4413.33</td><td>0.6812</td><td>0.473</td><td>1.4291</td><td>0.305</td><td>0.2199</td><td>0.6341</td><td>--</td><td>--</td><td>--</td><td>--</td><td>--</td><td>--</td><td>--</td><td>0.3486711956575438</td></tr>\n",
       "<tr><td>1635721458409799680</td><td>Gaia DR2 3119539544291891968</td><td>3119539544291891968</td><td>1394082986</td><td>2015.5</td><td>99.99386281891975</td><td>0.4887435263776888</td><td>-0.001951742600927619</td><td>0.5411822390672718</td><td>-0.2994477994743905</td><td>0.6389271560454028</td><td>-0.468672842</td><td>-0.5281329117883443</td><td>0.9868005178747307</td><td>-4.345410086626905</td><td>1.1394735686473292</td><td>-0.0281023141</td><td>-0.33957836</td><td>-0.36047253</td><td>0.133486778</td><td>-0.545090258</td><td>0.113699108</td><td>-0.424572349</td><td>0.159694955</td><td>0.274077624</td><td>-0.332664847</td><td>133</td><td>0</td><td>133</td><td>0</td><td>0.421917945</td><td>134.180923</td><td>0.0</td><td>0.0</td><td>31</td><td>False</td><td>0.08561942</td><td>1.3679828705539632</td><td>0.13698540955441363</td><td>-0.05363872</td><td>15</td><td>9</td><td>1.1238935</td><td>0</td><td>16</td><td>False</td><td>133</td><td>260.9714429336043</td><td>1.705853805321488</td><td>152.985825</td><td>19.646883</td><td>10</td><td>109.97650939761888</td><td>16.39233274987073</td><td>6.709021</td><td>20.2481384</td><td>13</td><td>307.29254754365274</td><td>11.99971160632981</td><td>25.6083279</td><td>18.54304</td><td>1.598907</td><td>0</td><td>1.70509911</td><td>0.6012554</td><td>1.10384369</td><td>--</td><td>--</td><td>0</td><td>--</td><td>--</td><td>--</td><td>NOT_AVAILABLE</td><td>211.62611977023</td><td>-2.5510347532162494</td><td>100.8723129830828</td><td>-23.06483433316212</td><td>--</td><td>--</td><td>--</td><td>--</td><td>--</td><td>--</td><td>--</td><td>--</td><td>--</td><td>--</td><td>--</td><td>--</td><td>--</td><td>--</td><td>--</td><td>--</td><td>--</td><td>0.3864032178936384</td></tr>\n",
       "<tr><td>1635721458409799680</td><td>Gaia DR2 3119539548583218944</td><td>3119539548583218944</td><td>25196844</td><td>2015.5</td><td>99.99250828056267</td><td>2.026029578241181</td><td>-0.0010395339901647345</td><td>3.7464518861468106</td><td>--</td><td>--</td><td>--</td><td>--</td><td>--</td><td>--</td><td>--</td><td>-0.0625050962</td><td>--</td><td>--</td><td>--</td><td>--</td><td>--</td><td>--</td><td>--</td><td>--</td><td>--</td><td>63</td><td>0</td><td>63</td><td>0</td><td>0.6216213</td><td>64.23967</td><td>0.0</td><td>0.0</td><td>3</td><td>False</td><td>0.0105010159</td><td>--</td><td>--</td><td>-0.173467517</td><td>8</td><td>6</td><td>6.93240452</td><td>0</td><td>8</td><td>False</td><td>63</td><td>76.98646252619656</td><td>1.4923248912785958</td><td>51.5882721</td><td>20.97233</td><td>2</td><td>30.968821151575273</td><td>19.656395038432866</td><td>1.57550871</td><td>21.6240768</td><td>7</td><td>97.00046875471621</td><td>9.693380549118586</td><td>10.0068769</td><td>19.7949848</td><td>1.66223109</td><td>0</td><td>1.829092</td><td>0.65174675</td><td>1.17734528</td><td>--</td><td>--</td><td>0</td><td>--</td><td>--</td><td>--</td><td>NOT_AVAILABLE</td><td>211.62468844873686</td><td>-2.5518235987865654</td><td>100.8707705285259</td><td>-23.064026318003613</td><td>--</td><td>--</td><td>--</td><td>--</td><td>--</td><td>--</td><td>--</td><td>--</td><td>--</td><td>--</td><td>--</td><td>--</td><td>--</td><td>--</td><td>--</td><td>--</td><td>--</td><td>0.4538098365364931</td></tr>\n",
       "<tr><td>1635721458409799680</td><td>Gaia DR2 3119539475569631232</td><td>3119539475569631232</td><td>1006378350</td><td>2015.5</td><td>99.9949856656825</td><td>0.7609347329943081</td><td>-0.005690213046936658</td><td>0.810900794179125</td><td>1.028925223936067</td><td>0.8975297773950621</td><td>1.14639676</td><td>0.6766766948399592</td><td>1.601707348064451</td><td>-0.49024202120297866</td><td>1.7699596868425282</td><td>-0.115658917</td><td>-0.235906392</td><td>-0.426000446</td><td>0.0273173917</td><td>-0.4384436</td><td>0.00498711644</td><td>-0.4197907</td><td>0.198929682</td><td>0.2793076</td><td>-0.283862054</td><td>143</td><td>0</td><td>143</td><td>0</td><td>0.538857341</td><td>146.452438</td><td>0.0</td><td>0.0</td><td>31</td><td>False</td><td>0.0324223153</td><td>1.2952804758176066</td><td>0.22057287549674806</td><td>-0.107391708</td><td>16</td><td>10</td><td>1.72344184</td><td>0</td><td>16</td><td>False</td><td>142</td><td>148.23850696752416</td><td>1.5531318160168215</td><td>95.4449</td><td>20.2609634</td><td>13</td><td>84.98384952568729</td><td>14.654027351364883</td><td>5.799351</td><td>20.5280476</td><td>13</td><td>172.7846575075606</td><td>11.062379672358501</td><td>15.6191216</td><td>19.1681576</td><td>1.73887682</td><td>0</td><td>1.35989</td><td>0.267084122</td><td>1.09280586</td><td>--</td><td>--</td><td>0</td><td>--</td><td>--</td><td>--</td><td>NOT_AVAILABLE</td><td>211.62996241673798</td><td>-2.5517420540239715</td><td>100.87383485170635</td><td>-23.068478012740957</td><td>--</td><td>--</td><td>--</td><td>--</td><td>--</td><td>--</td><td>--</td><td>--</td><td>--</td><td>--</td><td>--</td><td>--</td><td>--</td><td>--</td><td>--</td><td>--</td><td>--</td><td>0.4550598456292416</td></tr>\n",
       "<tr><td>...</td><td>...</td><td>...</td><td>...</td><td>...</td><td>...</td><td>...</td><td>...</td><td>...</td><td>...</td><td>...</td><td>...</td><td>...</td><td>...</td><td>...</td><td>...</td><td>...</td><td>...</td><td>...</td><td>...</td><td>...</td><td>...</td><td>...</td><td>...</td><td>...</td><td>...</td><td>...</td><td>...</td><td>...</td><td>...</td><td>...</td><td>...</td><td>...</td><td>...</td><td>...</td><td>...</td><td>...</td><td>...</td><td>...</td><td>...</td><td>...</td><td>...</td><td>...</td><td>...</td><td>...</td><td>...</td><td>...</td><td>...</td><td>...</td><td>...</td><td>...</td><td>...</td><td>...</td><td>...</td><td>...</td><td>...</td><td>...</td><td>...</td><td>...</td><td>...</td><td>...</td><td>...</td><td>...</td><td>...</td><td>...</td><td>...</td><td>...</td><td>...</td><td>...</td><td>...</td><td>...</td><td>...</td><td>...</td><td>...</td><td>...</td><td>...</td><td>...</td><td>...</td><td>...</td><td>...</td><td>...</td><td>...</td><td>...</td><td>...</td><td>...</td><td>...</td><td>...</td><td>...</td><td>...</td><td>...</td><td>...</td><td>...</td><td>...</td><td>...</td><td>...</td></tr>\n",
       "<tr><td>1635721458409799680</td><td>Gaia DR2 3119534871363728384</td><td>3119534871363728384</td><td>1540966937</td><td>2015.5</td><td>100.00899899189776</td><td>0.12860621844386524</td><td>-0.09928858149939028</td><td>0.1258325152147117</td><td>0.09822210801078587</td><td>0.13987053480143913</td><td>0.7022359</td><td>0.7068796350723359</td><td>0.2562683934002162</td><td>-1.4445744415154251</td><td>0.23441002355057375</td><td>-0.191855356</td><td>0.027769791</td><td>-0.2436814</td><td>0.2868259</td><td>-0.300289452</td><td>0.2212619</td><td>-0.345104665</td><td>0.130501419</td><td>-0.0157400165</td><td>-0.07297198</td><td>150</td><td>0</td><td>149</td><td>1</td><td>-0.119327858</td><td>141.325012</td><td>0.0</td><td>0.0</td><td>31</td><td>False</td><td>1.061906</td><td>1.436402303762139</td><td>0.03999414700056149</td><td>0.00136047229</td><td>17</td><td>11</td><td>0.241342381</td><td>0</td><td>17</td><td>False</td><td>148</td><td>1377.7032888444626</td><td>2.2507431996354845</td><td>612.1104</td><td>17.840477</td><td>14</td><td>538.7775729368662</td><td>11.365999230160408</td><td>47.40257</td><td>18.5228653</td><td>16</td><td>1219.7459134143392</td><td>13.42681365159544</td><td>90.84403</td><td>17.0462475</td><td>1.27641666</td><td>0</td><td>1.47661781</td><td>0.6823883</td><td>0.7942295</td><td>--</td><td>--</td><td>0</td><td>--</td><td>--</td><td>--</td><td>NOT_AVAILABLE</td><td>211.71972959790946</td><td>-2.58199173935789</td><td>100.89667284278944</td><td>-23.160759295227763</td><td>--</td><td>--</td><td>--</td><td>--</td><td>--</td><td>--</td><td>--</td><td>--</td><td>--</td><td>--</td><td>--</td><td>--</td><td>--</td><td>--</td><td>--</td><td>--</td><td>--</td><td>5.981733451516183</td></tr>\n",
       "<tr><td>1635721458409799680</td><td>Gaia DR2 3119538616579081216</td><td>3119538616579081216</td><td>1402156809</td><td>2015.5</td><td>100.08860117143311</td><td>1.3777926152524964</td><td>0.04576811596953014</td><td>1.323545135679389</td><td>-0.333242616007665</td><td>1.2886574959432144</td><td>-0.258596718</td><td>-5.318012740160961</td><td>3.234688033914669</td><td>3.5855605375431</td><td>3.3037286932972765</td><td>-0.164832637</td><td>-0.375197142</td><td>-0.5474475</td><td>-0.09213053</td><td>-0.390840352</td><td>-0.0275372881</td><td>-0.3962979</td><td>0.08496997</td><td>0.282083571</td><td>-0.391944736</td><td>92</td><td>0</td><td>92</td><td>0</td><td>0.7752697</td><td>96.9142761</td><td>0.0</td><td>0.0</td><td>31</td><td>False</td><td>0.0308781173</td><td>1.9975545735428146</td><td>0.313637998273568</td><td>-0.153801247</td><td>11</td><td>9</td><td>3.41928387</td><td>0</td><td>11</td><td>False</td><td>92</td><td>112.09909994930509</td><td>1.580593786829101</td><td>70.92214</td><td>20.56436</td><td>9</td><td>71.33404975804196</td><td>30.939194692105616</td><td>2.30562067</td><td>20.7181454</td><td>8</td><td>98.5862291545117</td><td>10.385768801336082</td><td>9.4924345</td><td>19.77738</td><td>1.51580417</td><td>0</td><td>0.9407654</td><td>0.1537857</td><td>0.7869797</td><td>--</td><td>--</td><td>0</td><td>--</td><td>--</td><td>--</td><td>NOT_AVAILABLE</td><td>211.62690324270662</td><td>-2.4449596579066966</td><td>100.97106066903896</td><td>-23.01011017111193</td><td>--</td><td>--</td><td>--</td><td>--</td><td>--</td><td>--</td><td>--</td><td>--</td><td>--</td><td>--</td><td>--</td><td>--</td><td>--</td><td>--</td><td>--</td><td>--</td><td>--</td><td>5.983443060351835</td></tr>\n",
       "<tr><td>1635721458409799680</td><td>Gaia DR2 3119540334563282048</td><td>3119540334563282048</td><td>755366656</td><td>2015.5</td><td>99.90112332711405</td><td>0.1681754481792373</td><td>0.013289650484607507</td><td>0.18065185475666656</td><td>1.0796574793487395</td><td>0.19954652158274752</td><td>5.41055536</td><td>-5.986408953635952</td><td>0.32114095814454185</td><td>0.8201539880685995</td><td>0.2968806006262411</td><td>-0.1857628</td><td>-0.119171642</td><td>-0.271051347</td><td>0.3733389</td><td>-0.2840169</td><td>0.248174921</td><td>-0.461272359</td><td>0.348366559</td><td>0.0303999372</td><td>-0.182306811</td><td>132</td><td>0</td><td>131</td><td>1</td><td>0.225959018</td><td>128.942947</td><td>0.0</td><td>0.0</td><td>31</td><td>False</td><td>0.708378136</td><td>1.3598824280545059</td><td>0.05134693426805095</td><td>0.0008200547</td><td>15</td><td>10</td><td>0.323120683</td><td>0</td><td>15</td><td>False</td><td>129</td><td>1052.90566551614</td><td>2.2517652419005776</td><td>467.591217</td><td>18.1323929</td><td>14</td><td>295.1086828915035</td><td>10.698065435429827</td><td>27.5852375</td><td>19.1764336</td><td>14</td><td>1065.4232619389497</td><td>10.285932991925284</td><td>103.580612</td><td>17.1931152</td><td>1.29216886</td><td>0</td><td>1.98331833</td><td>1.04404068</td><td>0.939277649</td><td>--</td><td>--</td><td>0</td><td>--</td><td>--</td><td>--</td><td>NOT_AVAILABLE</td><td>211.57017035494573</td><td>-2.6265924331111328</td><td>100.77056345138637</td><td>-23.056561488526626</td><td>--</td><td>--</td><td>--</td><td>--</td><td>--</td><td>--</td><td>--</td><td>--</td><td>--</td><td>--</td><td>--</td><td>--</td><td>--</td><td>--</td><td>--</td><td>--</td><td>--</td><td>5.985946865151426</td></tr>\n",
       "<tr><td>1635721458409799680</td><td>Gaia DR2 3119540918679105408</td><td>3119540918679105408</td><td>161636957</td><td>2015.5</td><td>99.9227566286953</td><td>0.19573319488715005</td><td>0.06316237373123416</td><td>0.18540937577539837</td><td>0.3882081753505506</td><td>0.16999172888899974</td><td>2.28368855</td><td>0.7571310577308928</td><td>0.373799039875145</td><td>-2.0182025611995478</td><td>0.3250348828397082</td><td>-0.462463677</td><td>-0.295569152</td><td>-0.6145423</td><td>0.5791974</td><td>0.04903525</td><td>0.5202757</td><td>-0.667386353</td><td>0.447783768</td><td>-0.195724785</td><td>-0.460776269</td><td>113</td><td>0</td><td>111</td><td>2</td><td>-0.341305137</td><td>100.463158</td><td>0.0</td><td>0.0</td><td>31</td><td>False</td><td>1.05191326</td><td>1.4834050292833392</td><td>0.04284239036446715</td><td>0.03231208</td><td>13</td><td>10</td><td>0.427931666</td><td>0</td><td>13</td><td>False</td><td>108</td><td>1391.2758757927904</td><td>3.615163421824969</td><td>384.844543</td><td>17.8298321</td><td>12</td><td>514.4419514859484</td><td>22.89140334928307</td><td>22.47315</td><td>18.5730476</td><td>12</td><td>1320.6318215191334</td><td>14.52701632237036</td><td>90.9086761</td><td>16.9599648</td><td>1.3189863</td><td>0</td><td>1.61308289</td><td>0.743215561</td><td>0.8698673</td><td>--</td><td>--</td><td>0</td><td>--</td><td>--</td><td>--</td><td>NOT_AVAILABLE</td><td>211.53563666601113</td><td>-2.584578423104995</td><td>100.78997326398611</td><td>-23.005217445626677</td><td>--</td><td>--</td><td>--</td><td>--</td><td>--</td><td>--</td><td>--</td><td>--</td><td>--</td><td>--</td><td>--</td><td>--</td><td>--</td><td>--</td><td>--</td><td>--</td><td>--</td><td>5.986791896838084</td></tr>\n",
       "<tr><td>1635721458409799680</td><td>Gaia DR2 3119535180601559552</td><td>3119535180601559552</td><td>87436074</td><td>2015.5</td><td>100.07796303846938</td><td>0.26165198866268685</td><td>-0.06237834533866872</td><td>0.2655007659486073</td><td>0.7800217768463178</td><td>0.2785350172811264</td><td>2.80044413</td><td>0.3960355638564649</td><td>0.5356954526588315</td><td>0.8653848162741221</td><td>0.5602289652145251</td><td>-0.3417519</td><td>-0.0632519946</td><td>-0.2854492</td><td>0.280036747</td><td>-0.240658</td><td>0.237876415</td><td>-0.341930062</td><td>0.134255692</td><td>0.0701880753</td><td>-0.388264865</td><td>173</td><td>0</td><td>172</td><td>1</td><td>1.10808194</td><td>187.3598</td><td>0.0</td><td>0.0</td><td>31</td><td>False</td><td>0.214940369</td><td>1.4337648950188515</td><td>0.07013812528159595</td><td>-0.11127869</td><td>20</td><td>11</td><td>0.586837649</td><td>0</td><td>20</td><td>False</td><td>171</td><td>468.7782198858712</td><td>1.6498130154371817</td><td>284.1402</td><td>19.0109463</td><td>16</td><td>180.4131255744324</td><td>9.64836304078019</td><td>18.6988335</td><td>19.7107182</td><td>19</td><td>429.8818485332826</td><td>9.290640674436915</td><td>46.27042</td><td>18.1785469</td><td>1.30188429</td><td>0</td><td>1.53217125</td><td>0.6997719</td><td>0.832399368</td><td>--</td><td>--</td><td>0</td><td>--</td><td>--</td><td>--</td><td>NOT_AVAILABLE</td><td>211.71835906333737</td><td>-2.503783549538083</td><td>100.96842861949114</td><td>-23.118751611242583</td><td>--</td><td>--</td><td>--</td><td>--</td><td>--</td><td>--</td><td>--</td><td>--</td><td>--</td><td>--</td><td>--</td><td>--</td><td>--</td><td>--</td><td>--</td><td>--</td><td>--</td><td>5.990780196194685</td></tr>\n",
       "<tr><td>1635721458409799680</td><td>Gaia DR2 3119538547859614208</td><td>3119538547859614208</td><td>948339859</td><td>2015.5</td><td>100.09515802356277</td><td>3.1221324070325522</td><td>0.03034940747708081</td><td>3.1801145261485315</td><td>--</td><td>--</td><td>--</td><td>--</td><td>--</td><td>--</td><td>--</td><td>-0.9026943</td><td>--</td><td>--</td><td>--</td><td>--</td><td>--</td><td>--</td><td>--</td><td>--</td><td>--</td><td>71</td><td>0</td><td>71</td><td>0</td><td>2.7718358</td><td>102.346863</td><td>3.097723365085435</td><td>1.2107892822718822</td><td>3</td><td>False</td><td>0.0216869917</td><td>--</td><td>--</td><td>-0.507412553</td><td>8</td><td>6</td><td>11.3517237</td><td>0</td><td>13</td><td>False</td><td>76</td><td>106.83977019513084</td><td>1.962601308485498</td><td>54.4378357</td><td>20.6165333</td><td>0</td><td>--</td><td>--</td><td>--</td><td>--</td><td>0</td><td>--</td><td>--</td><td>--</td><td>--</td><td>--</td><td>2</td><td>--</td><td>--</td><td>--</td><td>--</td><td>--</td><td>0</td><td>--</td><td>--</td><td>--</td><td>NOT_AVAILABLE</td><td>211.64363016313655</td><td>-2.4461631611133283</td><td>100.9794329160635</td><td>-23.02498804657326</td><td>--</td><td>--</td><td>--</td><td>--</td><td>--</td><td>--</td><td>--</td><td>--</td><td>--</td><td>--</td><td>--</td><td>--</td><td>--</td><td>--</td><td>--</td><td>--</td><td>--</td><td>5.992836264116888</td></tr>\n",
       "<tr><td>1635721458409799680</td><td>Gaia DR2 3119538616579075200</td><td>3119538616579075200</td><td>827414039</td><td>2015.5</td><td>100.08500478277918</td><td>0.5717995458056835</td><td>0.05244769539654381</td><td>0.6525631162642942</td><td>-1.557601907989067</td><td>0.8227463475714432</td><td>-1.89317393</td><td>-5.464542248501841</td><td>1.2720926289123635</td><td>0.7091927704504628</td><td>1.565694947249137</td><td>-0.0943084955</td><td>-0.259166032</td><td>0.0936861038</td><td>-0.276886523</td><td>-0.5209627</td><td>-0.158622533</td><td>-0.123564556</td><td>0.008220699</td><td>0.3904032</td><td>-0.4612459</td><td>130</td><td>0</td><td>130</td><td>0</td><td>0.808595061</td><td>137.514175</td><td>0.0</td><td>0.0</td><td>31</td><td>False</td><td>0.05600228</td><td>1.3286891067187767</td><td>0.1584475615303459</td><td>-0.220996335</td><td>15</td><td>10</td><td>1.54755807</td><td>0</td><td>15</td><td>False</td><td>133</td><td>193.25651766671194</td><td>1.3531055966936605</td><td>142.824417</td><td>19.97303</td><td>7</td><td>66.10690768893028</td><td>6.951992724581219</td><td>9.509059</td><td>20.8007717</td><td>7</td><td>246.4269076352152</td><td>6.801846962007354</td><td>36.2294121</td><td>18.7827</td><td>1.6171968</td><td>0</td><td>2.01807213</td><td>0.8277416</td><td>1.19033051</td><td>--</td><td>--</td><td>0</td><td>--</td><td>--</td><td>--</td><td>NOT_AVAILABLE</td><td>211.61931161316417</td><td>-2.445110765101655</td><td>100.96661545721909</td><td>-23.003721951306062</td><td>--</td><td>--</td><td>--</td><td>--</td><td>--</td><td>--</td><td>--</td><td>--</td><td>--</td><td>--</td><td>--</td><td>--</td><td>--</td><td>--</td><td>--</td><td>--</td><td>--</td><td>5.992967427427942</td></tr>\n",
       "<tr><td>1635721458409799680</td><td>Gaia DR2 3119540094045050496</td><td>3119540094045050496</td><td>1423527125</td><td>2015.5</td><td>99.90004850131427</td><td>0.09497484975968999</td><td>0.0012716217146812767</td><td>0.09950710584535417</td><td>0.203620012467575</td><td>0.11847321871688847</td><td>1.71870077</td><td>-0.11840467897672434</td><td>0.18187372274408545</td><td>1.190722932453085</td><td>0.16855517198372658</td><td>-0.08087396</td><td>0.0927881</td><td>-0.171695977</td><td>0.234687075</td><td>-0.399027348</td><td>0.0600908734</td><td>-0.415844172</td><td>0.357233971</td><td>0.219362259</td><td>-0.0646518841</td><td>159</td><td>0</td><td>159</td><td>0</td><td>-0.206531093</td><td>149.748459</td><td>0.0</td><td>0.0</td><td>31</td><td>False</td><td>1.720902</td><td>1.4789341841497978</td><td>0.028775939586992535</td><td>0.0385741368</td><td>18</td><td>11</td><td>0.169907466</td><td>0</td><td>18</td><td>False</td><td>157</td><td>2084.0172973617864</td><td>2.2273085849184806</td><td>935.6662</td><td>17.3911133</td><td>16</td><td>827.9722349865098</td><td>12.571559840511965</td><td>65.86074</td><td>18.0563488</td><td>17</td><td>1820.891410251192</td><td>10.500648868220113</td><td>173.407516</td><td>16.61121</td><td>1.27103722</td><td>0</td><td>1.44513893</td><td>0.6652355</td><td>0.7799034</td><td>--</td><td>--</td><td>0</td><td>--</td><td>--</td><td>--</td><td>NOT_AVAILABLE</td><td>211.58038338929006</td><td>-2.6330346209306192</td><td>100.7703694489772</td><td>-23.06862616443305</td><td>--</td><td>--</td><td>--</td><td>--</td><td>--</td><td>--</td><td>--</td><td>--</td><td>--</td><td>--</td><td>--</td><td>--</td><td>--</td><td>--</td><td>--</td><td>--</td><td>--</td><td>5.9975752429462315</td></tr>\n",
       "<tr><td>1635721458409799680</td><td>Gaia DR2 3119537074685872896</td><td>3119537074685872896</td><td>893268180</td><td>2015.5</td><td>100.09862709668799</td><td>0.04313984989729685</td><td>-0.016404594320162565</td><td>0.04529800111373764</td><td>0.44171699460659547</td><td>0.04928276641020382</td><td>8.96291</td><td>-1.25528600739098</td><td>0.08478857841001751</td><td>-2.938584401219204</td><td>0.0842886561370834</td><td>-0.232475519</td><td>-0.07866508</td><td>-0.3598242</td><td>0.2924653</td><td>-0.354309976</td><td>0.174305454</td><td>-0.4653963</td><td>0.290879041</td><td>0.153434053</td><td>-0.274809718</td><td>164</td><td>0</td><td>164</td><td>0</td><td>-1.67416251</td><td>130.390015</td><td>0.0</td><td>0.0</td><td>31</td><td>False</td><td>9.532792</td><td>1.5295051817133967</td><td>0.011485548189424481</td><td>-0.0661364</td><td>19</td><td>11</td><td>0.0973430648</td><td>0</td><td>20</td><td>False</td><td>164</td><td>8813.874637893983</td><td>5.146077809868168</td><td>1712.73633</td><td>15.825449</td><td>18</td><td>4015.921118580249</td><td>10.999804544825281</td><td>365.0902</td><td>16.3419247</td><td>17</td><td>6935.303814309207</td><td>26.646753099553454</td><td>260.26825</td><td>15.159256</td><td>1.2424984</td><td>0</td><td>1.18266869</td><td>0.5164757</td><td>0.666193</td><td>--</td><td>--</td><td>0</td><td>--</td><td>--</td><td>--</td><td>NOT_AVAILABLE</td><td>211.68685349383574</td><td>-2.464415381804875</td><td>100.9870427183019</td><td>-23.07134468731478</td><td>100001</td><td>4896.25</td><td>4849.0</td><td>4932.5</td><td>--</td><td>--</td><td>--</td><td>--</td><td>--</td><td>--</td><td>200111</td><td>1.97406292</td><td>1.94515383</td><td>2.012722</td><td>2.017767</td><td>1.522028</td><td>2.513506</td><td>5.998924298605471</td></tr>\n",
       "<tr><td>1635721458409799680</td><td>Gaia DR2 3119541949473663616</td><td>3119541949473663616</td><td>1590250983</td><td>2015.5</td><td>100.06296231416707</td><td>2.0926698534515094</td><td>0.07767576751169901</td><td>5.784808171179623</td><td>--</td><td>--</td><td>--</td><td>--</td><td>--</td><td>--</td><td>--</td><td>0.271517</td><td>--</td><td>--</td><td>--</td><td>--</td><td>--</td><td>--</td><td>--</td><td>--</td><td>--</td><td>62</td><td>0</td><td>62</td><td>0</td><td>-1.94512773</td><td>38.1396675</td><td>0.0</td><td>6.654842448353506e-16</td><td>3</td><td>False</td><td>0.0159846</td><td>--</td><td>--</td><td>-0.137660578</td><td>7</td><td>7</td><td>21.5736885</td><td>0</td><td>7</td><td>False</td><td>63</td><td>100.68994537049232</td><td>2.059501089224039</td><td>48.8904533</td><td>20.6809</td><td>0</td><td>--</td><td>--</td><td>--</td><td>--</td><td>0</td><td>--</td><td>--</td><td>--</td><td>--</td><td>--</td><td>2</td><td>--</td><td>--</td><td>--</td><td>--</td><td>--</td><td>0</td><td>--</td><td>--</td><td>--</td><td>NOT_AVAILABLE</td><td>211.58677396333383</td><td>-2.453207680833328</td><td>100.9406679476185</td><td>-22.980232090969317</td><td>--</td><td>--</td><td>--</td><td>--</td><td>--</td><td>--</td><td>--</td><td>--</td><td>--</td><td>--</td><td>--</td><td>--</td><td>--</td><td>--</td><td>--</td><td>--</td><td>--</td><td>5.999332593425002</td></tr>\n",
       "</table>"
      ],
      "text/plain": [
       "<Table masked=True length=1525>\n",
       "    solution_id             designation          ...       distance     \n",
       "       str19                   str28             ...       float64      \n",
       "------------------- ---------------------------- ... -------------------\n",
       "1635721458409799680 Gaia DR2 3119539475569633280 ... 0.27175455715781127\n",
       "1635721458409799680 Gaia DR2 3119539479866859136 ...  0.2760068818180716\n",
       "1635721458409799680 Gaia DR2 3119539514223465728 ... 0.28158995152033695\n",
       "1635721458409799680 Gaia DR2 3119539514225810048 ...  0.3011966700124765\n",
       "1635721458409799680 Gaia DR2 3119539578648995200 ...  0.3329042877431635\n",
       "1635721458409799680 Gaia DR2 3119539475569163136 ...  0.3330101837683061\n",
       "1635721458409799680 Gaia DR2 3119539514227332096 ...  0.3486711956575438\n",
       "1635721458409799680 Gaia DR2 3119539544291891968 ...  0.3864032178936384\n",
       "1635721458409799680 Gaia DR2 3119539548583218944 ...  0.4538098365364931\n",
       "1635721458409799680 Gaia DR2 3119539475569631232 ...  0.4550598456292416\n",
       "                ...                          ... ...                 ...\n",
       "1635721458409799680 Gaia DR2 3119534871363728384 ...   5.981733451516183\n",
       "1635721458409799680 Gaia DR2 3119538616579081216 ...   5.983443060351835\n",
       "1635721458409799680 Gaia DR2 3119540334563282048 ...   5.985946865151426\n",
       "1635721458409799680 Gaia DR2 3119540918679105408 ...   5.986791896838084\n",
       "1635721458409799680 Gaia DR2 3119535180601559552 ...   5.990780196194685\n",
       "1635721458409799680 Gaia DR2 3119538547859614208 ...   5.992836264116888\n",
       "1635721458409799680 Gaia DR2 3119538616579075200 ...   5.992967427427942\n",
       "1635721458409799680 Gaia DR2 3119540094045050496 ...  5.9975752429462315\n",
       "1635721458409799680 Gaia DR2 3119537074685872896 ...   5.998924298605471\n",
       "1635721458409799680 Gaia DR2 3119541949473663616 ...   5.999332593425002"
      ]
     },
     "execution_count": 7,
     "metadata": {},
     "output_type": "execute_result"
    }
   ],
   "source": [
    "from astroquery.mast import Catalogs\n",
    "\n",
    "catalogData = Catalogs.query_region(field, radius=0.1*u.deg, catalog=\"Gaia\", version=2)\n",
    "\n",
    "catalogData"
   ]
  },
  {
   "cell_type": "markdown",
   "metadata": {},
   "source": [
    "### NASA Exoplanet Archive\n",
    "\n",
    "[astroquery.nasa_exoplanet_archive](https://astroquery.readthedocs.io/en/latest/nasa_exoplanet_archive/nasa_exoplanet_archive.html) enables query of a NASA-hosted exoplanet database. The interface is rather simplistic:"
   ]
  },
  {
   "cell_type": "code",
   "execution_count": 8,
   "metadata": {},
   "outputs": [
    {
     "data": {
      "text/html": [
       "<i>QTable masked=True length=3917</i>\n",
       "<table id=\"table140121163836104\" class=\"table-striped table-bordered table-condensed\">\n",
       "<thead><tr><th>pl_hostname</th><th>pl_letter</th><th>pl_name</th><th>pl_discmethod</th><th>pl_controvflag</th><th>pl_pnum</th><th>pl_orbper</th><th>pl_orbpererr1</th><th>pl_orbpererr2</th><th>pl_orbperlim</th><th>pl_orbpern</th><th>pl_orbsmax</th><th>pl_orbsmaxerr1</th><th>pl_orbsmaxerr2</th><th>pl_orbsmaxlim</th><th>pl_orbsmaxn</th><th>pl_orbeccen</th><th>pl_orbeccenerr1</th><th>pl_orbeccenerr2</th><th>pl_orbeccenlim</th><th>pl_orbeccenn</th><th>pl_orbincl</th><th>pl_orbinclerr1</th><th>pl_orbinclerr2</th><th>pl_orbincllim</th><th>pl_orbincln</th><th>pl_bmassj</th><th>pl_bmassjerr1</th><th>pl_bmassjerr2</th><th>pl_bmassjlim</th><th>pl_bmassn</th><th>pl_bmassprov</th><th>pl_radj</th><th>pl_radjerr1</th><th>pl_radjerr2</th><th>pl_radjlim</th><th>pl_radn</th><th>pl_dens</th><th>pl_denserr1</th><th>pl_denserr2</th><th>pl_denslim</th><th>pl_densn</th><th>pl_ttvflag</th><th>pl_kepflag</th><th>pl_k2flag</th><th>ra_str</th><th>dec_str</th><th>ra</th><th>st_raerr</th><th>dec</th><th>st_decerr</th><th>st_posn</th><th>st_dist</th><th>st_disterr1</th><th>st_disterr2</th><th>st_distlim</th><th>st_distn</th><th>st_optmag</th><th>st_optmagerr</th><th>st_optmaglim</th><th>st_optband</th><th>gaia_gmag</th><th>gaia_gmagerr</th><th>gaia_gmaglim</th><th>st_teff</th><th>st_tefferr1</th><th>st_tefferr2</th><th>st_tefflim</th><th>st_teffn</th><th>st_mass</th><th>st_masserr1</th><th>st_masserr2</th><th>st_masslim</th><th>st_massn</th><th>st_rad</th><th>st_raderr1</th><th>st_raderr2</th><th>st_radlim</th><th>st_radn</th><th>pl_nnotes</th><th>rowupdate</th><th>pl_facility</th><th>NAME_LOWERCASE</th><th>sky_coord</th></tr></thead>\n",
       "<thead><tr><th></th><th></th><th></th><th></th><th></th><th></th><th>d</th><th>d</th><th>d</th><th>d</th><th></th><th>AU</th><th>AU</th><th>AU</th><th>AU</th><th></th><th></th><th></th><th></th><th></th><th></th><th>deg</th><th>deg</th><th>deg</th><th>deg</th><th></th><th>jupiterMass</th><th>jupiterMass</th><th>jupiterMass</th><th>jupiterMass</th><th></th><th></th><th>jupiterRad</th><th>jupiterRad</th><th>jupiterRad</th><th>jupiterRad</th><th></th><th></th><th></th><th></th><th></th><th></th><th></th><th></th><th></th><th></th><th></th><th>deg</th><th></th><th>deg</th><th></th><th></th><th>pc</th><th>pc</th><th>pc</th><th>pc</th><th></th><th>mag</th><th>mag</th><th>mag</th><th></th><th></th><th></th><th></th><th>K</th><th>K</th><th>K</th><th>K</th><th></th><th>solMass</th><th>solMass</th><th>solMass</th><th>solMass</th><th></th><th>solRad</th><th>solRad</th><th>solRad</th><th>solRad</th><th></th><th></th><th></th><th></th><th></th><th>deg,deg</th></tr></thead>\n",
       "<thead><tr><th>str27</th><th>str1</th><th>str29</th><th>str29</th><th>int64</th><th>int64</th><th>float64</th><th>float64</th><th>float64</th><th>float64</th><th>int64</th><th>float64</th><th>float64</th><th>float64</th><th>float64</th><th>int64</th><th>float64</th><th>float64</th><th>float64</th><th>int64</th><th>int64</th><th>float64</th><th>float64</th><th>float64</th><th>float64</th><th>int64</th><th>float64</th><th>float64</th><th>float64</th><th>float64</th><th>int64</th><th>str14</th><th>float64</th><th>float64</th><th>float64</th><th>float64</th><th>int64</th><th>float64</th><th>float64</th><th>float64</th><th>int64</th><th>int64</th><th>int64</th><th>int64</th><th>int64</th><th>str14</th><th>str15</th><th>float64</th><th>float64</th><th>float64</th><th>float64</th><th>int64</th><th>float64</th><th>float64</th><th>float64</th><th>float64</th><th>int64</th><th>float64</th><th>float64</th><th>float64</th><th>str11</th><th>float64</th><th>int64</th><th>int64</th><th>float64</th><th>float64</th><th>float64</th><th>float64</th><th>int64</th><th>float64</th><th>float64</th><th>float64</th><th>float64</th><th>int64</th><th>float64</th><th>float64</th><th>float64</th><th>float64</th><th>int64</th><th>int64</th><th>str10</th><th>str44</th><th>str26</th><th>object</th></tr></thead>\n",
       "<tr><td>Kepler-56</td><td>c</td><td>Kepler-56 c</td><td>Transit</td><td>0</td><td>3</td><td>21.40239</td><td>0.00059</td><td>-0.00062</td><td>0.0</td><td>6</td><td>0.1652</td><td>0.0059</td><td>-0.0059</td><td>0.0</td><td>1</td><td>--</td><td>--</td><td>--</td><td>--</td><td>1</td><td>0.0</td><td>0.0</td><td>0.0</td><td>0.0</td><td>0</td><td>0.57</td><td>0.066</td><td>-0.06</td><td>0.0</td><td>4</td><td>Mass</td><td>0.874</td><td>0.041</td><td>-0.041</td><td>0.0</td><td>6</td><td>1.06</td><td>0.14</td><td>-0.13</td><td>0</td><td>2</td><td>1</td><td>1</td><td>0</td><td>19h35m02.00s</td><td>+41d52m18.7s</td><td>293.758347</td><td>2.2e-05</td><td>41.871869</td><td>1.7e-05</td><td>2</td><td>914.0</td><td>40.45</td><td>-44.76</td><td>0.0</td><td>3</td><td>12.44</td><td>0.0</td><td>0.0</td><td>Kepler-band</td><td>12.43</td><td>--</td><td>0</td><td>4840.0</td><td>97.0</td><td>-97.0</td><td>0.0</td><td>7</td><td>1.32</td><td>0.13</td><td>-0.13</td><td>0.0</td><td>5</td><td>4.23</td><td>0.15</td><td>-0.15</td><td>0.0</td><td>8</td><td>1</td><td>2014-05-14</td><td>Kepler</td><td>kepler-56c</td><td>293.758347,41.871869</td></tr>\n",
       "<tr><td>Kepler-57</td><td>b</td><td>Kepler-57 b</td><td>Transit</td><td>0</td><td>2</td><td>5.7293196</td><td>1.8e-05</td><td>-1.8e-05</td><td>0.0</td><td>4</td><td>0.0</td><td>0.0</td><td>0.0</td><td>0.0</td><td>0</td><td>--</td><td>--</td><td>--</td><td>--</td><td>0</td><td>0.0</td><td>0.0</td><td>0.0</td><td>0.0</td><td>0</td><td>18.86</td><td>0.0</td><td>0.0</td><td>1.0</td><td>2</td><td>Mass</td><td>0.195</td><td>0.0</td><td>0.0</td><td>0.0</td><td>4</td><td>--</td><td>--</td><td>--</td><td>--</td><td>0</td><td>1</td><td>1</td><td>0</td><td>19h34m33.91s</td><td>+44d39m25.3s</td><td>293.641285</td><td>2.5e-05</td><td>44.65704</td><td>1.7e-05</td><td>2</td><td>674.0</td><td>72.97</td><td>-51.3</td><td>0.0</td><td>3</td><td>14.809</td><td>0.0</td><td>0.0</td><td>Kepler-band</td><td>14.774</td><td>--</td><td>0</td><td>5145.0</td><td>0.0</td><td>0.0</td><td>0.0</td><td>6</td><td>0.83</td><td>0.0</td><td>0.0</td><td>0.0</td><td>4</td><td>0.73</td><td>0.0</td><td>0.0</td><td>0.0</td><td>7</td><td>1</td><td>2014-05-14</td><td>Kepler</td><td>kepler-57b</td><td>293.641285,44.65704</td></tr>\n",
       "<tr><td>Kepler-57</td><td>c</td><td>Kepler-57 c</td><td>Transit</td><td>0</td><td>2</td><td>11.6092567</td><td>8.6e-05</td><td>-8.6e-05</td><td>0.0</td><td>4</td><td>0.0</td><td>0.0</td><td>0.0</td><td>0.0</td><td>0</td><td>--</td><td>--</td><td>--</td><td>--</td><td>0</td><td>0.0</td><td>0.0</td><td>0.0</td><td>0.0</td><td>0</td><td>6.95</td><td>0.0</td><td>0.0</td><td>1.0</td><td>2</td><td>Mass</td><td>0.138</td><td>0.0</td><td>0.0</td><td>0.0</td><td>4</td><td>--</td><td>--</td><td>--</td><td>--</td><td>0</td><td>1</td><td>1</td><td>0</td><td>19h34m33.91s</td><td>+44d39m25.3s</td><td>293.641285</td><td>2.5e-05</td><td>44.65704</td><td>1.7e-05</td><td>2</td><td>674.0</td><td>72.97</td><td>-51.3</td><td>0.0</td><td>3</td><td>14.809</td><td>0.0</td><td>0.0</td><td>Kepler-band</td><td>14.774</td><td>--</td><td>0</td><td>5145.0</td><td>0.0</td><td>0.0</td><td>0.0</td><td>6</td><td>0.83</td><td>0.0</td><td>0.0</td><td>0.0</td><td>4</td><td>0.73</td><td>0.0</td><td>0.0</td><td>0.0</td><td>7</td><td>1</td><td>2014-05-14</td><td>Kepler</td><td>kepler-57c</td><td>293.641285,44.65704</td></tr>\n",
       "<tr><td>Kepler-58</td><td>b</td><td>Kepler-58 b</td><td>Transit</td><td>0</td><td>3</td><td>10.2184954</td><td>0.00015</td><td>-0.00015</td><td>0.0</td><td>4</td><td>0.0</td><td>0.0</td><td>0.0</td><td>0.0</td><td>0</td><td>--</td><td>--</td><td>--</td><td>--</td><td>0</td><td>0.0</td><td>0.0</td><td>0.0</td><td>0.0</td><td>0</td><td>1.39</td><td>0.0</td><td>0.0</td><td>1.0</td><td>2</td><td>Mass</td><td>0.248</td><td>0.0</td><td>0.0</td><td>0.0</td><td>4</td><td>--</td><td>--</td><td>--</td><td>--</td><td>0</td><td>1</td><td>1</td><td>0</td><td>19h45m26.08s</td><td>+39d06m54.7s</td><td>296.358649</td><td>1.9e-05</td><td>39.115194</td><td>1.7e-05</td><td>2</td><td>1562.0</td><td>655.82</td><td>-252.14</td><td>0.0</td><td>3</td><td>14.82</td><td>0.0</td><td>0.0</td><td>Kepler-band</td><td>14.866</td><td>--</td><td>0</td><td>6099.0</td><td>200.0</td><td>-200.0</td><td>0.0</td><td>7</td><td>0.0</td><td>0.0</td><td>0.0</td><td>0.0</td><td>4</td><td>1.13</td><td>0.53</td><td>-0.53</td><td>0.0</td><td>8</td><td>1</td><td>2014-05-14</td><td>Kepler</td><td>kepler-58b</td><td>296.358649,39.115194</td></tr>\n",
       "<tr><td>Kepler-58</td><td>c</td><td>Kepler-58 c</td><td>Transit</td><td>0</td><td>3</td><td>15.5741568</td><td>0.00027</td><td>-0.00027</td><td>0.0</td><td>4</td><td>0.0</td><td>0.0</td><td>0.0</td><td>0.0</td><td>0</td><td>--</td><td>--</td><td>--</td><td>--</td><td>0</td><td>0.0</td><td>0.0</td><td>0.0</td><td>0.0</td><td>0</td><td>2.19</td><td>0.0</td><td>0.0</td><td>1.0</td><td>1</td><td>Mass</td><td>0.255</td><td>0.0</td><td>0.0</td><td>0.0</td><td>3</td><td>--</td><td>--</td><td>--</td><td>--</td><td>0</td><td>1</td><td>1</td><td>0</td><td>19h45m26.08s</td><td>+39d06m54.7s</td><td>296.358649</td><td>1.9e-05</td><td>39.115194</td><td>1.7e-05</td><td>2</td><td>1562.0</td><td>655.82</td><td>-252.14</td><td>0.0</td><td>3</td><td>14.82</td><td>0.0</td><td>0.0</td><td>Kepler-band</td><td>14.866</td><td>--</td><td>0</td><td>6099.0</td><td>200.0</td><td>-200.0</td><td>0.0</td><td>7</td><td>0.0</td><td>0.0</td><td>0.0</td><td>0.0</td><td>4</td><td>1.13</td><td>0.53</td><td>-0.53</td><td>0.0</td><td>8</td><td>1</td><td>2014-05-14</td><td>Kepler</td><td>kepler-58c</td><td>296.358649,39.115194</td></tr>\n",
       "<tr><td>Kepler-58</td><td>d</td><td>Kepler-58 d</td><td>Transit</td><td>0</td><td>3</td><td>40.101371</td><td>0.000612</td><td>-0.000612</td><td>0.0</td><td>3</td><td>0.236</td><td>0.0</td><td>0.0</td><td>0.0</td><td>1</td><td>--</td><td>--</td><td>--</td><td>--</td><td>0</td><td>0.0</td><td>0.0</td><td>0.0</td><td>0.0</td><td>0</td><td>0.0</td><td>0.0</td><td>0.0</td><td>0.0</td><td>0</td><td>--</td><td>0.262</td><td>0.125</td><td>-0.125</td><td>0.0</td><td>3</td><td>--</td><td>--</td><td>--</td><td>--</td><td>0</td><td>0</td><td>1</td><td>0</td><td>19h45m26.08s</td><td>+39d06m54.7s</td><td>296.358649</td><td>1.9e-05</td><td>39.115194</td><td>1.7e-05</td><td>2</td><td>1562.0</td><td>655.82</td><td>-252.14</td><td>0.0</td><td>3</td><td>14.82</td><td>0.0</td><td>0.0</td><td>Kepler-band</td><td>14.866</td><td>--</td><td>0</td><td>6099.0</td><td>200.0</td><td>-200.0</td><td>0.0</td><td>7</td><td>0.0</td><td>0.0</td><td>0.0</td><td>0.0</td><td>4</td><td>1.13</td><td>0.53</td><td>-0.53</td><td>0.0</td><td>8</td><td>1</td><td>2014-05-14</td><td>Kepler</td><td>kepler-58d</td><td>296.358649,39.115194</td></tr>\n",
       "<tr><td>Kepler-59</td><td>b</td><td>Kepler-59 b</td><td>Transit</td><td>0</td><td>2</td><td>11.8681707</td><td>0.00036</td><td>-0.00036</td><td>0.0</td><td>2</td><td>0.0</td><td>0.0</td><td>0.0</td><td>0.0</td><td>0</td><td>--</td><td>--</td><td>--</td><td>--</td><td>0</td><td>0.0</td><td>0.0</td><td>0.0</td><td>0.0</td><td>0</td><td>2.05</td><td>0.0</td><td>0.0</td><td>1.0</td><td>1</td><td>Mass</td><td>0.098</td><td>0.0</td><td>0.0</td><td>0.0</td><td>3</td><td>--</td><td>--</td><td>--</td><td>--</td><td>0</td><td>1</td><td>1</td><td>0</td><td>19h08m09.48s</td><td>+46d38m24.5s</td><td>287.039503</td><td>1.9e-05</td><td>46.640129</td><td>1.7e-05</td><td>2</td><td>1021.0</td><td>308.37</td><td>-127.42</td><td>0.0</td><td>3</td><td>14.307</td><td>0.0</td><td>0.0</td><td>Kepler-band</td><td>14.279</td><td>--</td><td>0</td><td>6074.0</td><td>0.0</td><td>0.0</td><td>0.0</td><td>6</td><td>1.04</td><td>0.0</td><td>0.0</td><td>0.0</td><td>3</td><td>0.94</td><td>0.0</td><td>0.0</td><td>0.0</td><td>6</td><td>1</td><td>2014-05-14</td><td>Kepler</td><td>kepler-59b</td><td>287.039503,46.640129</td></tr>\n",
       "<tr><td>Kepler-59</td><td>c</td><td>Kepler-59 c</td><td>Transit</td><td>0</td><td>2</td><td>17.9801235</td><td>0.0003</td><td>-0.0003</td><td>0.0</td><td>3</td><td>0.0</td><td>0.0</td><td>0.0</td><td>0.0</td><td>0</td><td>--</td><td>--</td><td>--</td><td>--</td><td>0</td><td>0.0</td><td>0.0</td><td>0.0</td><td>0.0</td><td>0</td><td>1.37</td><td>0.0</td><td>0.0</td><td>1.0</td><td>1</td><td>Mass</td><td>0.177</td><td>0.0</td><td>0.0</td><td>0.0</td><td>3</td><td>--</td><td>--</td><td>--</td><td>--</td><td>0</td><td>1</td><td>1</td><td>0</td><td>19h08m09.48s</td><td>+46d38m24.5s</td><td>287.039503</td><td>1.9e-05</td><td>46.640129</td><td>1.7e-05</td><td>2</td><td>1021.0</td><td>308.37</td><td>-127.42</td><td>0.0</td><td>3</td><td>14.307</td><td>0.0</td><td>0.0</td><td>Kepler-band</td><td>14.279</td><td>--</td><td>0</td><td>6074.0</td><td>0.0</td><td>0.0</td><td>0.0</td><td>6</td><td>1.04</td><td>0.0</td><td>0.0</td><td>0.0</td><td>3</td><td>0.94</td><td>0.0</td><td>0.0</td><td>0.0</td><td>6</td><td>1</td><td>2014-05-14</td><td>Kepler</td><td>kepler-59c</td><td>287.039503,46.640129</td></tr>\n",
       "<tr><td>Kepler-60</td><td>b</td><td>Kepler-60 b</td><td>Transit</td><td>0</td><td>3</td><td>7.1334</td><td>0.0001</td><td>-0.0001</td><td>0.0</td><td>6</td><td>0.0</td><td>0.0</td><td>0.0</td><td>0.0</td><td>1</td><td>--</td><td>--</td><td>--</td><td>--</td><td>1</td><td>0.0</td><td>0.0</td><td>0.0</td><td>0.0</td><td>0</td><td>0.01318</td><td>0.00176</td><td>-0.00164</td><td>0.0</td><td>5</td><td>Mass</td><td>0.153</td><td>0.012</td><td>-0.012</td><td>0.0</td><td>6</td><td>4.62</td><td>1.4</td><td>-1.1</td><td>0</td><td>2</td><td>1</td><td>1</td><td>0</td><td>19h15m50.70s</td><td>+42d15m54.0s</td><td>288.961242</td><td>1.7e-05</td><td>42.265011</td><td>1.7e-05</td><td>2</td><td>899.0</td><td>168.84</td><td>-130.2</td><td>0.0</td><td>3</td><td>13.959</td><td>0.0</td><td>0.0</td><td>Kepler-band</td><td>13.913</td><td>--</td><td>0</td><td>5905.0</td><td>144.0</td><td>-144.0</td><td>0.0</td><td>7</td><td>1.04</td><td>0.08</td><td>-0.08</td><td>0.0</td><td>6</td><td>1.26</td><td>0.09</td><td>-0.09</td><td>0.0</td><td>8</td><td>1</td><td>2016-04-07</td><td>Kepler</td><td>kepler-60b</td><td>288.961242,42.265011</td></tr>\n",
       "<tr><td>...</td><td>...</td><td>...</td><td>...</td><td>...</td><td>...</td><td>...</td><td>...</td><td>...</td><td>...</td><td>...</td><td>...</td><td>...</td><td>...</td><td>...</td><td>...</td><td>...</td><td>...</td><td>...</td><td>...</td><td>...</td><td>...</td><td>...</td><td>...</td><td>...</td><td>...</td><td>...</td><td>...</td><td>...</td><td>...</td><td>...</td><td>...</td><td>...</td><td>...</td><td>...</td><td>...</td><td>...</td><td>...</td><td>...</td><td>...</td><td>...</td><td>...</td><td>...</td><td>...</td><td>...</td><td>...</td><td>...</td><td>...</td><td>...</td><td>...</td><td>...</td><td>...</td><td>...</td><td>...</td><td>...</td><td>...</td><td>...</td><td>...</td><td>...</td><td>...</td><td>...</td><td>...</td><td>...</td><td>...</td><td>...</td><td>...</td><td>...</td><td>...</td><td>...</td><td>...</td><td>...</td><td>...</td><td>...</td><td>...</td><td>...</td><td>...</td><td>...</td><td>...</td><td>...</td><td>...</td><td>...</td><td>...</td><td>...</td><td>...</td></tr>\n",
       "<tr><td>HD 215152</td><td>d</td><td>HD 215152 d</td><td>Radial Velocity</td><td>0</td><td>4</td><td>10.86499</td><td>0.00564</td><td>-0.00613</td><td>0.0</td><td>1</td><td>0.08799</td><td>0.00113</td><td>-0.00116</td><td>0.0</td><td>1</td><td>0.0</td><td>--</td><td>--</td><td>0</td><td>1</td><td>0.0</td><td>0.0</td><td>0.0</td><td>0.0</td><td>0</td><td>0.00881</td><td>0.00255</td><td>-0.0029</td><td>0.0</td><td>1</td><td>Msini</td><td>0.0</td><td>0.0</td><td>0.0</td><td>0.0</td><td>0</td><td>--</td><td>--</td><td>--</td><td>0</td><td>0</td><td>0</td><td>0</td><td>0</td><td>22h43m21.30s</td><td>-06d24m03.0s</td><td>340.838745</td><td>4e-06</td><td>-6.400821</td><td>3e-06</td><td>3</td><td>21.61</td><td>0.05</td><td>-0.05</td><td>0.0</td><td>3</td><td>8.11</td><td>0.0</td><td>0.0</td><td>V (Johnson)</td><td>7.802</td><td>--</td><td>0</td><td>4935.0</td><td>76.0</td><td>-76.0</td><td>0.0</td><td>5</td><td>0.77</td><td>0.01</td><td>-0.01</td><td>0.0</td><td>3</td><td>0.73</td><td>0.02</td><td>-0.02</td><td>0.0</td><td>3</td><td>0</td><td>2018-02-22</td><td>La Silla Observatory</td><td>hd215152d</td><td>340.838745,-6.400821</td></tr>\n",
       "<tr><td>HD 215152</td><td>e</td><td>HD 215152 e</td><td>Radial Velocity</td><td>0</td><td>4</td><td>25.1967</td><td>0.0476</td><td>-0.0505</td><td>0.0</td><td>1</td><td>0.15417</td><td>0.00199</td><td>-0.00204</td><td>0.0</td><td>1</td><td>0.0</td><td>--</td><td>--</td><td>0</td><td>1</td><td>0.0</td><td>0.0</td><td>0.0</td><td>0.0</td><td>0</td><td>0.00905</td><td>0.00334</td><td>-0.00466</td><td>0.0</td><td>1</td><td>Msini</td><td>0.0</td><td>0.0</td><td>0.0</td><td>0.0</td><td>0</td><td>--</td><td>--</td><td>--</td><td>0</td><td>0</td><td>0</td><td>0</td><td>0</td><td>22h43m21.30s</td><td>-06d24m03.0s</td><td>340.838745</td><td>4e-06</td><td>-6.400821</td><td>3e-06</td><td>3</td><td>21.61</td><td>0.05</td><td>-0.05</td><td>0.0</td><td>3</td><td>8.11</td><td>0.0</td><td>0.0</td><td>V (Johnson)</td><td>7.802</td><td>--</td><td>0</td><td>4935.0</td><td>76.0</td><td>-76.0</td><td>0.0</td><td>5</td><td>0.77</td><td>0.01</td><td>-0.01</td><td>0.0</td><td>3</td><td>0.73</td><td>0.02</td><td>-0.02</td><td>0.0</td><td>3</td><td>0</td><td>2018-02-22</td><td>La Silla Observatory</td><td>hd215152e</td><td>340.838745,-6.400821</td></tr>\n",
       "<tr><td>OGLE-2017-BLG-0173L</td><td>b</td><td>OGLE-2017-BLG-0173L b</td><td>Microlensing</td><td>0</td><td>1</td><td>0.0</td><td>0.0</td><td>0.0</td><td>0.0</td><td>0</td><td>3.913</td><td>1.615</td><td>-1.649</td><td>0.0</td><td>1</td><td>--</td><td>--</td><td>--</td><td>0</td><td>0</td><td>0.0</td><td>0.0</td><td>0.0</td><td>0.0</td><td>0</td><td>0.01029</td><td>0.01211</td><td>-0.00634</td><td>0.0</td><td>1</td><td>Mass</td><td>0.0</td><td>0.0</td><td>0.0</td><td>0.0</td><td>0</td><td>--</td><td>--</td><td>--</td><td>0</td><td>0</td><td>0</td><td>0</td><td>0</td><td>17h51m52.95s</td><td>-29d16m16.9s</td><td>267.970612</td><td>0.0</td><td>-29.27136</td><td>0.0</td><td>1</td><td>4705.0</td><td>1468.0</td><td>-1763.0</td><td>0.0</td><td>1</td><td>0.0</td><td>0.0</td><td>0.0</td><td>--</td><td>--</td><td>--</td><td>--</td><td>0.0</td><td>0.0</td><td>0.0</td><td>0.0</td><td>0</td><td>0.4</td><td>0.39</td><td>-0.23</td><td>0.0</td><td>1</td><td>0.0</td><td>0.0</td><td>0.0</td><td>0.0</td><td>0</td><td>1</td><td>2018-03-26</td><td>OGLE</td><td>ogle-2017-blg-0173lb</td><td>267.970612,-29.27136</td></tr>\n",
       "<tr><td>K2-239</td><td>b</td><td>K2-239 b</td><td>Transit</td><td>0</td><td>3</td><td>5.24</td><td>0.001</td><td>-0.001</td><td>0.0</td><td>1</td><td>0.0441</td><td>0.0008</td><td>-0.0008</td><td>0.0</td><td>1</td><td>--</td><td>--</td><td>--</td><td>0</td><td>0</td><td>88.99</td><td>0.68</td><td>-0.87</td><td>0.0</td><td>1</td><td>0.0</td><td>0.0</td><td>0.0</td><td>0.0</td><td>0</td><td>--</td><td>0.098</td><td>0.009</td><td>-0.009</td><td>0.0</td><td>1</td><td>--</td><td>--</td><td>--</td><td>0</td><td>0</td><td>0</td><td>0</td><td>1</td><td>10h42m22.63s</td><td>+04d26m28.9s</td><td>160.594299</td><td>0.0</td><td>4.441349</td><td>0.0</td><td>1</td><td>49.0</td><td>3.0</td><td>-3.0</td><td>0.0</td><td>2</td><td>14.549</td><td>0.04</td><td>0.0</td><td>V (Johnson)</td><td>13.437</td><td>--</td><td>0</td><td>3420.0</td><td>18.0</td><td>-18.0</td><td>0.0</td><td>2</td><td>0.4</td><td>0.01</td><td>-0.01</td><td>0.0</td><td>1</td><td>0.36</td><td>0.01</td><td>-0.01</td><td>0.0</td><td>1</td><td>0</td><td>2018-06-21</td><td>K2</td><td>k2-239b</td><td>160.594299,4.441349</td></tr>\n",
       "<tr><td>K2-239</td><td>c</td><td>K2-239 c</td><td>Transit</td><td>0</td><td>3</td><td>7.775</td><td>0.001</td><td>-0.001</td><td>0.0</td><td>1</td><td>0.0576</td><td>0.0009</td><td>-0.0009</td><td>0.0</td><td>1</td><td>--</td><td>--</td><td>--</td><td>0</td><td>0</td><td>88.77</td><td>0.7</td><td>-0.57</td><td>0.0</td><td>1</td><td>0.0</td><td>0.0</td><td>0.0</td><td>0.0</td><td>0</td><td>--</td><td>0.089</td><td>0.009</td><td>-0.009</td><td>0.0</td><td>1</td><td>--</td><td>--</td><td>--</td><td>0</td><td>0</td><td>0</td><td>0</td><td>1</td><td>10h42m22.63s</td><td>+04d26m28.9s</td><td>160.594299</td><td>0.0</td><td>4.441349</td><td>0.0</td><td>1</td><td>49.0</td><td>3.0</td><td>-3.0</td><td>0.0</td><td>2</td><td>14.549</td><td>0.04</td><td>0.0</td><td>V (Johnson)</td><td>13.437</td><td>--</td><td>0</td><td>3420.0</td><td>18.0</td><td>-18.0</td><td>0.0</td><td>2</td><td>0.4</td><td>0.01</td><td>-0.01</td><td>0.0</td><td>1</td><td>0.36</td><td>0.01</td><td>-0.01</td><td>0.0</td><td>1</td><td>0</td><td>2018-06-21</td><td>K2</td><td>k2-239c</td><td>160.594299,4.441349</td></tr>\n",
       "<tr><td>K2-239</td><td>d</td><td>K2-239 d</td><td>Transit</td><td>0</td><td>3</td><td>10.115</td><td>0.001</td><td>-0.001</td><td>0.0</td><td>1</td><td>0.0685</td><td>0.0012</td><td>-0.0012</td><td>0.0</td><td>1</td><td>--</td><td>--</td><td>--</td><td>0</td><td>0</td><td>89.43</td><td>0.38</td><td>-0.45</td><td>0.0</td><td>1</td><td>0.0</td><td>0.0</td><td>0.0</td><td>0.0</td><td>0</td><td>--</td><td>0.098</td><td>0.009</td><td>-0.009</td><td>0.0</td><td>1</td><td>--</td><td>--</td><td>--</td><td>0</td><td>0</td><td>0</td><td>0</td><td>1</td><td>10h42m22.63s</td><td>+04d26m28.9s</td><td>160.594299</td><td>0.0</td><td>4.441349</td><td>0.0</td><td>1</td><td>49.0</td><td>3.0</td><td>-3.0</td><td>0.0</td><td>2</td><td>14.549</td><td>0.04</td><td>0.0</td><td>V (Johnson)</td><td>13.437</td><td>--</td><td>0</td><td>3420.0</td><td>18.0</td><td>-18.0</td><td>0.0</td><td>2</td><td>0.4</td><td>0.01</td><td>-0.01</td><td>0.0</td><td>1</td><td>0.36</td><td>0.01</td><td>-0.01</td><td>0.0</td><td>1</td><td>0</td><td>2018-06-21</td><td>K2</td><td>k2-239d</td><td>160.594299,4.441349</td></tr>\n",
       "<tr><td>K2-240</td><td>b</td><td>K2-240 b</td><td>Transit</td><td>0</td><td>2</td><td>6.034</td><td>0.001</td><td>-0.001</td><td>0.0</td><td>1</td><td>0.0513</td><td>0.0009</td><td>-0.0009</td><td>0.0</td><td>1</td><td>--</td><td>--</td><td>--</td><td>0</td><td>0</td><td>89.26</td><td>0.51</td><td>-0.64</td><td>0.0</td><td>1</td><td>0.0</td><td>0.0</td><td>0.0</td><td>0.0</td><td>0</td><td>--</td><td>0.178</td><td>0.018</td><td>-0.009</td><td>0.0</td><td>1</td><td>--</td><td>--</td><td>--</td><td>0</td><td>0</td><td>0</td><td>0</td><td>1</td><td>15h11m23.91s</td><td>-17d52m30.8s</td><td>227.849609</td><td>0.0</td><td>-17.875217</td><td>0.0</td><td>1</td><td>70.0</td><td>3.0</td><td>-3.0</td><td>0.0</td><td>2</td><td>13.392</td><td>0.01</td><td>0.0</td><td>V (Johnson)</td><td>12.621</td><td>--</td><td>0</td><td>3810.0</td><td>17.0</td><td>-17.0</td><td>0.0</td><td>2</td><td>0.58</td><td>0.01</td><td>-0.01</td><td>0.0</td><td>1</td><td>0.54</td><td>0.01</td><td>-0.01</td><td>0.0</td><td>2</td><td>0</td><td>2018-06-21</td><td>K2</td><td>k2-240b</td><td>227.849609,-17.875217</td></tr>\n",
       "<tr><td>K2-240</td><td>c</td><td>K2-240 c</td><td>Transit</td><td>0</td><td>2</td><td>20.523</td><td>0.001</td><td>-0.001</td><td>0.0</td><td>1</td><td>0.1159</td><td>0.002</td><td>-0.002</td><td>0.0</td><td>1</td><td>--</td><td>--</td><td>--</td><td>0</td><td>0</td><td>89.66</td><td>0.22</td><td>-0.26</td><td>0.0</td><td>1</td><td>0.0</td><td>0.0</td><td>0.0</td><td>0.0</td><td>0</td><td>--</td><td>0.161</td><td>0.027</td><td>-0.009</td><td>0.0</td><td>1</td><td>--</td><td>--</td><td>--</td><td>0</td><td>0</td><td>0</td><td>0</td><td>1</td><td>15h11m23.91s</td><td>-17d52m30.8s</td><td>227.849609</td><td>0.0</td><td>-17.875217</td><td>0.0</td><td>1</td><td>70.0</td><td>3.0</td><td>-3.0</td><td>0.0</td><td>2</td><td>13.392</td><td>0.01</td><td>0.0</td><td>V (Johnson)</td><td>12.621</td><td>--</td><td>0</td><td>3810.0</td><td>17.0</td><td>-17.0</td><td>0.0</td><td>2</td><td>0.58</td><td>0.01</td><td>-0.01</td><td>0.0</td><td>1</td><td>0.54</td><td>0.01</td><td>-0.01</td><td>0.0</td><td>2</td><td>0</td><td>2018-06-21</td><td>K2</td><td>k2-240c</td><td>227.849609,-17.875217</td></tr>\n",
       "<tr><td>OGLE-2014-BLG-1722L</td><td>b</td><td>OGLE-2014-BLG-1722L b</td><td>Microlensing</td><td>0</td><td>2</td><td>0.0</td><td>0.0</td><td>0.0</td><td>0.0</td><td>0</td><td>1.9</td><td>1.3</td><td>-0.8</td><td>0.0</td><td>1</td><td>--</td><td>--</td><td>--</td><td>0</td><td>0</td><td>0.0</td><td>0.0</td><td>0.0</td><td>0.0</td><td>0</td><td>0.17399</td><td>0.16141</td><td>-0.10414</td><td>0.0</td><td>1</td><td>Mass</td><td>0.0</td><td>0.0</td><td>0.0</td><td>0.0</td><td>0</td><td>--</td><td>--</td><td>--</td><td>0</td><td>0</td><td>0</td><td>0</td><td>0</td><td>17h55m00.57s</td><td>-31d28m08.6s</td><td>268.75238</td><td>0.0</td><td>-31.469055</td><td>0.0</td><td>1</td><td>6400.0</td><td>1280.0</td><td>-1870.0</td><td>0.0</td><td>1</td><td>0.0</td><td>0.0</td><td>0.0</td><td>--</td><td>--</td><td>--</td><td>--</td><td>0.0</td><td>0.0</td><td>0.0</td><td>0.0</td><td>0</td><td>0.4</td><td>0.36</td><td>-0.24</td><td>0.0</td><td>1</td><td>0.0</td><td>0.0</td><td>0.0</td><td>0.0</td><td>0</td><td>0</td><td>2018-06-21</td><td>OGLE</td><td>ogle-2014-blg-1722lb</td><td>268.75238,-31.469055</td></tr>\n",
       "<tr><td>OGLE-2014-BLG-1722L</td><td>c</td><td>OGLE-2014-BLG-1722L c</td><td>Microlensing</td><td>0</td><td>2</td><td>0.0</td><td>0.0</td><td>0.0</td><td>0.0</td><td>0</td><td>2.5</td><td>2.2</td><td>-1.1</td><td>0.0</td><td>1</td><td>--</td><td>--</td><td>--</td><td>0</td><td>0</td><td>0.0</td><td>0.0</td><td>0.0</td><td>0.0</td><td>0</td><td>0.26335</td><td>0.27184</td><td>-0.16109</td><td>0.0</td><td>1</td><td>Mass</td><td>0.0</td><td>0.0</td><td>0.0</td><td>0.0</td><td>0</td><td>--</td><td>--</td><td>--</td><td>0</td><td>0</td><td>0</td><td>0</td><td>0</td><td>17h55m00.57s</td><td>-31d28m08.6s</td><td>268.75238</td><td>0.0</td><td>-31.469055</td><td>0.0</td><td>1</td><td>6400.0</td><td>1280.0</td><td>-1870.0</td><td>0.0</td><td>1</td><td>0.0</td><td>0.0</td><td>0.0</td><td>--</td><td>--</td><td>--</td><td>--</td><td>0.0</td><td>0.0</td><td>0.0</td><td>0.0</td><td>0</td><td>0.4</td><td>0.36</td><td>-0.24</td><td>0.0</td><td>1</td><td>0.0</td><td>0.0</td><td>0.0</td><td>0.0</td><td>0</td><td>0</td><td>2018-06-21</td><td>OGLE</td><td>ogle-2014-blg-1722lc</td><td>268.75238,-31.469055</td></tr>\n",
       "</table>"
      ],
      "text/plain": [
       "<QTable masked=True length=3917>\n",
       "    pl_hostname     pl_letter ...    NAME_LOWERCASE          sky_coord      \n",
       "                              ...                             deg,deg       \n",
       "       str27           str1   ...        str26                 object       \n",
       "------------------- --------- ... -------------------- ---------------------\n",
       "          Kepler-56         c ...           kepler-56c  293.758347,41.871869\n",
       "          Kepler-57         b ...           kepler-57b   293.641285,44.65704\n",
       "          Kepler-57         c ...           kepler-57c   293.641285,44.65704\n",
       "          Kepler-58         b ...           kepler-58b  296.358649,39.115194\n",
       "          Kepler-58         c ...           kepler-58c  296.358649,39.115194\n",
       "          Kepler-58         d ...           kepler-58d  296.358649,39.115194\n",
       "          Kepler-59         b ...           kepler-59b  287.039503,46.640129\n",
       "          Kepler-59         c ...           kepler-59c  287.039503,46.640129\n",
       "          Kepler-60         b ...           kepler-60b  288.961242,42.265011\n",
       "                ...       ... ...                  ...                   ...\n",
       "          HD 215152         d ...            hd215152d  340.838745,-6.400821\n",
       "          HD 215152         e ...            hd215152e  340.838745,-6.400821\n",
       "OGLE-2017-BLG-0173L         b ... ogle-2017-blg-0173lb  267.970612,-29.27136\n",
       "             K2-239         b ...              k2-239b   160.594299,4.441349\n",
       "             K2-239         c ...              k2-239c   160.594299,4.441349\n",
       "             K2-239         d ...              k2-239d   160.594299,4.441349\n",
       "             K2-240         b ...              k2-240b 227.849609,-17.875217\n",
       "             K2-240         c ...              k2-240c 227.849609,-17.875217\n",
       "OGLE-2014-BLG-1722L         b ... ogle-2014-blg-1722lb  268.75238,-31.469055\n",
       "OGLE-2014-BLG-1722L         c ... ogle-2014-blg-1722lc  268.75238,-31.469055"
      ]
     },
     "execution_count": 8,
     "metadata": {},
     "output_type": "execute_result"
    }
   ],
   "source": [
    "from astroquery.nasa_exoplanet_archive import NasaExoplanetArchive\n",
    "\n",
    "exoplanet_archive_table = NasaExoplanetArchive.get_confirmed_planets_table()\n",
    "exoplanet_archive_table"
   ]
  },
  {
   "cell_type": "markdown",
   "metadata": {},
   "source": [
    "The following properties are available:"
   ]
  },
  {
   "cell_type": "code",
   "execution_count": 9,
   "metadata": {},
   "outputs": [
    {
     "data": {
      "text/plain": [
       "['pl_hostname',\n",
       " 'pl_letter',\n",
       " 'pl_name',\n",
       " 'pl_discmethod',\n",
       " 'pl_controvflag',\n",
       " 'pl_pnum',\n",
       " 'pl_orbper',\n",
       " 'pl_orbpererr1',\n",
       " 'pl_orbpererr2',\n",
       " 'pl_orbperlim',\n",
       " 'pl_orbpern',\n",
       " 'pl_orbsmax',\n",
       " 'pl_orbsmaxerr1',\n",
       " 'pl_orbsmaxerr2',\n",
       " 'pl_orbsmaxlim',\n",
       " 'pl_orbsmaxn',\n",
       " 'pl_orbeccen',\n",
       " 'pl_orbeccenerr1',\n",
       " 'pl_orbeccenerr2',\n",
       " 'pl_orbeccenlim',\n",
       " 'pl_orbeccenn',\n",
       " 'pl_orbincl',\n",
       " 'pl_orbinclerr1',\n",
       " 'pl_orbinclerr2',\n",
       " 'pl_orbincllim',\n",
       " 'pl_orbincln',\n",
       " 'pl_bmassj',\n",
       " 'pl_bmassjerr1',\n",
       " 'pl_bmassjerr2',\n",
       " 'pl_bmassjlim',\n",
       " 'pl_bmassn',\n",
       " 'pl_bmassprov',\n",
       " 'pl_radj',\n",
       " 'pl_radjerr1',\n",
       " 'pl_radjerr2',\n",
       " 'pl_radjlim',\n",
       " 'pl_radn',\n",
       " 'pl_dens',\n",
       " 'pl_denserr1',\n",
       " 'pl_denserr2',\n",
       " 'pl_denslim',\n",
       " 'pl_densn',\n",
       " 'pl_ttvflag',\n",
       " 'pl_kepflag',\n",
       " 'pl_k2flag',\n",
       " 'ra_str',\n",
       " 'dec_str',\n",
       " 'ra',\n",
       " 'st_raerr',\n",
       " 'dec',\n",
       " 'st_decerr',\n",
       " 'st_posn',\n",
       " 'st_dist',\n",
       " 'st_disterr1',\n",
       " 'st_disterr2',\n",
       " 'st_distlim',\n",
       " 'st_distn',\n",
       " 'st_optmag',\n",
       " 'st_optmagerr',\n",
       " 'st_optmaglim',\n",
       " 'st_optband',\n",
       " 'gaia_gmag',\n",
       " 'gaia_gmagerr',\n",
       " 'gaia_gmaglim',\n",
       " 'st_teff',\n",
       " 'st_tefferr1',\n",
       " 'st_tefferr2',\n",
       " 'st_tefflim',\n",
       " 'st_teffn',\n",
       " 'st_mass',\n",
       " 'st_masserr1',\n",
       " 'st_masserr2',\n",
       " 'st_masslim',\n",
       " 'st_massn',\n",
       " 'st_rad',\n",
       " 'st_raderr1',\n",
       " 'st_raderr2',\n",
       " 'st_radlim',\n",
       " 'st_radn',\n",
       " 'pl_nnotes',\n",
       " 'rowupdate',\n",
       " 'pl_facility',\n",
       " 'NAME_LOWERCASE',\n",
       " 'sky_coord']"
      ]
     },
     "execution_count": 9,
     "metadata": {},
     "output_type": "execute_result"
    }
   ],
   "source": [
    "exoplanet_archive_table.colnames"
   ]
  },
  {
   "cell_type": "markdown",
   "metadata": {},
   "source": [
    "We can query all exoplanets discovered by K2:"
   ]
  },
  {
   "cell_type": "code",
   "execution_count": 10,
   "metadata": {},
   "outputs": [
    {
     "data": {
      "text/plain": [
       "['HIP 116454 b',\n",
       " 'K2-3 b',\n",
       " 'K2-3 c',\n",
       " 'K2-3 d',\n",
       " 'K2-22 b',\n",
       " 'WASP-47 d',\n",
       " 'WASP-47 e',\n",
       " 'K2-29 b',\n",
       " 'K2-26 b',\n",
       " 'K2-27 b',\n",
       " 'K2-24 b',\n",
       " 'K2-24 c',\n",
       " 'K2-28 b',\n",
       " 'K2-19 d',\n",
       " 'K2-31 b',\n",
       " 'K2-32 b',\n",
       " 'K2-32 d',\n",
       " 'K2-32 c',\n",
       " 'K2-34 b',\n",
       " 'K2-4 b',\n",
       " 'K2-5 b',\n",
       " 'K2-25 b',\n",
       " 'K2-5 c',\n",
       " 'K2-6 b',\n",
       " 'K2-7 b',\n",
       " 'K2-8 b',\n",
       " 'K2-9 b',\n",
       " 'K2-19 b',\n",
       " 'K2-19 c',\n",
       " 'K2-10 b',\n",
       " 'K2-11 b',\n",
       " 'K2-12 b',\n",
       " 'K2-13 b',\n",
       " 'K2-14 b',\n",
       " 'K2-15 b',\n",
       " 'K2-16 b',\n",
       " 'K2-16 c',\n",
       " 'K2-17 b',\n",
       " 'K2-18 b',\n",
       " 'K2-33 b',\n",
       " 'K2-35 b',\n",
       " 'K2-35 c',\n",
       " 'K2-36 b',\n",
       " 'K2-36 c',\n",
       " 'K2-37 b',\n",
       " 'K2-37 c',\n",
       " 'K2-37 d',\n",
       " 'K2-38 b',\n",
       " 'K2-38 c',\n",
       " 'K2-8 c',\n",
       " 'HIP 41378 b',\n",
       " 'HIP 41378 e',\n",
       " 'HIP 41378 f',\n",
       " 'K2-42 b',\n",
       " 'K2-43 b',\n",
       " 'K2-44 b',\n",
       " 'K2-45 b',\n",
       " 'K2-46 b',\n",
       " 'K2-47 b',\n",
       " 'K2-48 b',\n",
       " 'K2-49 b',\n",
       " 'K2-50 b',\n",
       " 'K2-52 b',\n",
       " 'K2-53 b',\n",
       " 'K2-54 b',\n",
       " 'K2-55 b',\n",
       " 'HIP 41378 c',\n",
       " 'HIP 41378 d',\n",
       " 'BD+20 594 b',\n",
       " 'K2-97 b',\n",
       " 'K2-98 b',\n",
       " 'K2-100 b',\n",
       " 'K2-101 b',\n",
       " 'K2-102 b',\n",
       " 'EPIC 211822797 b',\n",
       " 'K2-104 b',\n",
       " 'K2-57 b',\n",
       " 'K2-58 b',\n",
       " 'K2-58 c',\n",
       " 'K2-58 d',\n",
       " 'K2-59 b',\n",
       " 'K2-59 c',\n",
       " 'K2-60 b',\n",
       " 'K2-61 b',\n",
       " 'K2-62 b',\n",
       " 'K2-62 c',\n",
       " 'K2-63 b',\n",
       " 'K2-64 b',\n",
       " 'K2-65 b',\n",
       " 'K2-66 b',\n",
       " 'K2-68 b',\n",
       " 'K2-69 b',\n",
       " 'K2-70 b',\n",
       " 'K2-71 b',\n",
       " 'K2-72 b',\n",
       " 'K2-72 c',\n",
       " 'K2-39 b',\n",
       " 'K2-21 b',\n",
       " 'K2-21 c',\n",
       " 'K2-30 b',\n",
       " 'K2-146 b',\n",
       " 'K2-147 b',\n",
       " 'K2-148 b',\n",
       " 'K2-148 c',\n",
       " 'K2-148 d',\n",
       " 'K2-263 b',\n",
       " 'K2-264 b',\n",
       " 'K2-264 c',\n",
       " 'K2-233 c',\n",
       " 'K2-233 d',\n",
       " 'K2-149 b',\n",
       " 'K2-150 b',\n",
       " 'K2-151 b',\n",
       " 'K2-152 b',\n",
       " 'K2-153 b',\n",
       " 'K2-154 b',\n",
       " 'K2-154 c',\n",
       " 'K2-155 b',\n",
       " 'K2-155 c',\n",
       " 'K2-155 d',\n",
       " 'K2-169 b',\n",
       " 'K2-170 b',\n",
       " 'K2-170 c',\n",
       " 'K2-171 b',\n",
       " 'K2-172 b',\n",
       " 'K2-172 c',\n",
       " 'K2-80 d',\n",
       " 'K2-173 b',\n",
       " 'K2-233 b',\n",
       " 'HD 89345 b',\n",
       " 'EPIC 211945201 b',\n",
       " 'K2-241 b',\n",
       " 'K2-242 b',\n",
       " 'K2-158 c',\n",
       " 'K2-174 b',\n",
       " 'K2-175 b',\n",
       " 'K2-176 b',\n",
       " 'K2-177 b',\n",
       " 'K2-178 b',\n",
       " 'K2-179 b',\n",
       " 'K2-180 b',\n",
       " 'K2-117 c',\n",
       " 'K2-118 b',\n",
       " 'K2-125 b',\n",
       " 'K2-243 b',\n",
       " 'K2-243 c',\n",
       " 'K2-244 b',\n",
       " 'K2-245 b',\n",
       " 'K2-246 b',\n",
       " 'K2-247 b',\n",
       " 'K2-247 c',\n",
       " 'K2-224 c',\n",
       " 'K2-248 b',\n",
       " 'K2-249 b',\n",
       " 'K2-250 b',\n",
       " 'K2-251 b',\n",
       " 'K2-252 b',\n",
       " 'K2-253 b',\n",
       " 'K2-254 b',\n",
       " 'K2-254 c',\n",
       " 'K2-255 b',\n",
       " 'K2-256 b',\n",
       " 'K2-257 b',\n",
       " 'K2-128 b',\n",
       " 'K2-129 b',\n",
       " 'K2-130 b',\n",
       " 'K2-116 b',\n",
       " 'K2-117 b',\n",
       " 'K2-119 b',\n",
       " 'K2-120 b',\n",
       " 'K2-121 b',\n",
       " 'K2-122 b',\n",
       " 'K2-123 b',\n",
       " 'K2-124 b',\n",
       " 'K2-126 b',\n",
       " 'K2-127 b',\n",
       " 'K2-132 b',\n",
       " 'K2-133 b',\n",
       " 'K2-133 c',\n",
       " 'K2-133 d',\n",
       " 'K2-258 b',\n",
       " 'K2-259 b',\n",
       " 'Wolf 503 b',\n",
       " 'K2-181 b',\n",
       " 'K2-182 b',\n",
       " 'K2-183 b',\n",
       " 'K2-183 c',\n",
       " 'K2-183 d',\n",
       " 'K2-184 b',\n",
       " 'K2-185 b',\n",
       " 'K2-186 b',\n",
       " 'K2-187 b',\n",
       " 'K2-187 c',\n",
       " 'K2-187 d',\n",
       " 'K2-187 e',\n",
       " 'K2-188 b',\n",
       " 'K2-188 c',\n",
       " 'K2-285 b',\n",
       " 'K2-285 c',\n",
       " 'K2-285 d',\n",
       " 'K2-285 e',\n",
       " 'K2-189 c',\n",
       " 'K2-189 b',\n",
       " 'K2-190 b',\n",
       " 'K2-190 c',\n",
       " 'K2-191 b',\n",
       " 'K2-192 b',\n",
       " 'K2-193 b',\n",
       " 'K2-194 b',\n",
       " 'K2-195 b',\n",
       " 'K2-195 c',\n",
       " 'K2-196 b',\n",
       " 'K2-197 b',\n",
       " 'K2-198 b',\n",
       " 'K2-199 b',\n",
       " 'K2-199 c',\n",
       " 'K2-200 b',\n",
       " 'K2-201 b',\n",
       " 'K2-201 c',\n",
       " 'K2-202 b',\n",
       " 'K2-203 b',\n",
       " 'K2-204 b',\n",
       " 'K2-205 b',\n",
       " 'K2-206 b',\n",
       " 'K2-207 b',\n",
       " 'K2-208 b',\n",
       " 'K2-209 b',\n",
       " 'K2-210 b',\n",
       " 'K2-211 b',\n",
       " 'K2-212 b',\n",
       " 'K2-213 b',\n",
       " 'K2-214 b',\n",
       " 'K2-215 b',\n",
       " 'K2-216 b',\n",
       " 'K2-217 b',\n",
       " 'K2-218 b',\n",
       " 'K2-219 b',\n",
       " 'K2-107 b',\n",
       " 'K2-108 b',\n",
       " 'K2-131 b',\n",
       " 'K2-136 b',\n",
       " 'K2-136 c',\n",
       " 'K2-136 d',\n",
       " 'K2-137 b',\n",
       " 'K2-139 b',\n",
       " 'K2-140 b',\n",
       " 'K2-138 b',\n",
       " 'K2-138 c',\n",
       " 'K2-138 d',\n",
       " 'K2-138 e',\n",
       " 'K2-138 f',\n",
       " 'K2-141 b',\n",
       " 'K2-141 c',\n",
       " 'K2-72 d',\n",
       " 'K2-72 e',\n",
       " 'K2-73 b',\n",
       " 'K2-74 b',\n",
       " 'K2-75 b',\n",
       " 'K2-75 c',\n",
       " 'K2-77 b',\n",
       " 'K2-79 b',\n",
       " 'K2-80 b',\n",
       " 'K2-80 c',\n",
       " 'K2-81 b',\n",
       " 'K2-83 b',\n",
       " 'K2-83 c',\n",
       " 'K2-84 b',\n",
       " 'K2-84 c',\n",
       " 'K2-85 b',\n",
       " 'K2-86 b',\n",
       " 'K2-87 b',\n",
       " 'K2-88 b',\n",
       " 'K2-89 b',\n",
       " 'K2-156 b',\n",
       " 'K2-157 b',\n",
       " 'K2-158 b',\n",
       " 'K2-159 b',\n",
       " 'K2-160 b',\n",
       " 'K2-161 b',\n",
       " 'K2-162 b',\n",
       " 'K2-163 b',\n",
       " 'K2-164 b',\n",
       " 'K2-165 b',\n",
       " 'K2-165 c',\n",
       " 'K2-165 d',\n",
       " 'K2-166 b',\n",
       " 'K2-167 b',\n",
       " 'K2-168 b',\n",
       " 'EPIC 220674823 b',\n",
       " 'EPIC 220674823 c',\n",
       " 'K2-90 b',\n",
       " 'K2-90 c',\n",
       " 'K2-91 b',\n",
       " 'K2-95 b',\n",
       " 'HD 3167 b',\n",
       " 'HD 3167 c',\n",
       " 'K2-105 b',\n",
       " 'K2-99 b',\n",
       " 'HD 106315 b',\n",
       " 'HD 106315 c',\n",
       " 'K2-111 b',\n",
       " 'K2-114 b',\n",
       " 'K2-115 b',\n",
       " 'K2-260 b',\n",
       " 'WASP-85 A b',\n",
       " 'K2-261 b',\n",
       " 'K2-265 b',\n",
       " 'K2-268 b',\n",
       " 'K2-268 c',\n",
       " 'K2-269 b',\n",
       " 'K2-270 b',\n",
       " 'K2-270 c',\n",
       " 'K2-271 b',\n",
       " 'K2-272 b',\n",
       " 'K2-273 b',\n",
       " 'K2-274 b',\n",
       " 'K2-275 b',\n",
       " 'K2-275 c',\n",
       " 'K2-276 b',\n",
       " 'K2-277 b',\n",
       " 'K2-278 b',\n",
       " 'K2-279 b',\n",
       " 'K2-280 b',\n",
       " 'K2-281 b',\n",
       " 'K2-282 b',\n",
       " 'K2-283 b',\n",
       " 'K2-284 b',\n",
       " 'K2-232 b',\n",
       " 'K2-231 b',\n",
       " 'K2-110 b',\n",
       " 'EPIC 246851721 b',\n",
       " 'K2-266 b',\n",
       " 'K2-266 c',\n",
       " 'K2-266 d',\n",
       " 'K2-266 e',\n",
       " 'K2-219 c',\n",
       " 'K2-219 d',\n",
       " 'K2-220 b',\n",
       " 'K2-221 b',\n",
       " 'K2-222 b',\n",
       " 'K2-223 b',\n",
       " 'K2-223 c',\n",
       " 'K2-224 b',\n",
       " 'K2-113 b',\n",
       " 'GJ 9827 b',\n",
       " 'GJ 9827 c',\n",
       " 'GJ 9827 d',\n",
       " 'K2-225 b',\n",
       " 'K2-226 b',\n",
       " 'K2-227 b',\n",
       " 'K2-228 b',\n",
       " 'K2-229 b',\n",
       " 'K2-229 c',\n",
       " 'K2-230 b',\n",
       " 'K2-239 b',\n",
       " 'K2-239 c',\n",
       " 'K2-239 d',\n",
       " 'K2-240 b',\n",
       " 'K2-240 c']"
      ]
     },
     "execution_count": 10,
     "metadata": {},
     "output_type": "execute_result"
    }
   ],
   "source": [
    "list(exoplanet_archive_table['pl_name'][exoplanet_archive_table['pl_facility'] == 'K2'])"
   ]
  },
  {
   "cell_type": "markdown",
   "metadata": {},
   "source": [
    "And we can query individual objects:"
   ]
  },
  {
   "cell_type": "code",
   "execution_count": 11,
   "metadata": {},
   "outputs": [
    {
     "data": {
      "text/html": [
       "<i>Row index=3877 masked=True</i>\n",
       "<table id=\"table140121163836104\">\n",
       "<thead><tr><th>pl_hostname</th><th>pl_letter</th><th>pl_name</th><th>pl_discmethod</th><th>pl_controvflag</th><th>pl_pnum</th><th>pl_orbper</th><th>pl_orbpererr1</th><th>pl_orbpererr2</th><th>pl_orbperlim</th><th>pl_orbpern</th><th>pl_orbsmax</th><th>pl_orbsmaxerr1</th><th>pl_orbsmaxerr2</th><th>pl_orbsmaxlim</th><th>pl_orbsmaxn</th><th>pl_orbeccen</th><th>pl_orbeccenerr1</th><th>pl_orbeccenerr2</th><th>pl_orbeccenlim</th><th>pl_orbeccenn</th><th>pl_orbincl</th><th>pl_orbinclerr1</th><th>pl_orbinclerr2</th><th>pl_orbincllim</th><th>pl_orbincln</th><th>pl_bmassj</th><th>pl_bmassjerr1</th><th>pl_bmassjerr2</th><th>pl_bmassjlim</th><th>pl_bmassn</th><th>pl_bmassprov</th><th>pl_radj</th><th>pl_radjerr1</th><th>pl_radjerr2</th><th>pl_radjlim</th><th>pl_radn</th><th>pl_dens</th><th>pl_denserr1</th><th>pl_denserr2</th><th>pl_denslim</th><th>pl_densn</th><th>pl_ttvflag</th><th>pl_kepflag</th><th>pl_k2flag</th><th>ra_str</th><th>dec_str</th><th>ra</th><th>st_raerr</th><th>dec</th><th>st_decerr</th><th>st_posn</th><th>st_dist</th><th>st_disterr1</th><th>st_disterr2</th><th>st_distlim</th><th>st_distn</th><th>st_optmag</th><th>st_optmagerr</th><th>st_optmaglim</th><th>st_optband</th><th>gaia_gmag</th><th>gaia_gmagerr</th><th>gaia_gmaglim</th><th>st_teff</th><th>st_tefferr1</th><th>st_tefferr2</th><th>st_tefflim</th><th>st_teffn</th><th>st_mass</th><th>st_masserr1</th><th>st_masserr2</th><th>st_masslim</th><th>st_massn</th><th>st_rad</th><th>st_raderr1</th><th>st_raderr2</th><th>st_radlim</th><th>st_radn</th><th>pl_nnotes</th><th>rowupdate</th><th>pl_facility</th><th>NAME_LOWERCASE</th><th>sky_coord</th></tr></thead>\n",
       "<thead><tr><th></th><th></th><th></th><th></th><th></th><th></th><th>d</th><th>d</th><th>d</th><th>d</th><th></th><th>AU</th><th>AU</th><th>AU</th><th>AU</th><th></th><th></th><th></th><th></th><th></th><th></th><th>deg</th><th>deg</th><th>deg</th><th>deg</th><th></th><th>jupiterMass</th><th>jupiterMass</th><th>jupiterMass</th><th>jupiterMass</th><th></th><th></th><th>jupiterRad</th><th>jupiterRad</th><th>jupiterRad</th><th>jupiterRad</th><th></th><th></th><th></th><th></th><th></th><th></th><th></th><th></th><th></th><th></th><th></th><th>deg</th><th></th><th>deg</th><th></th><th></th><th>pc</th><th>pc</th><th>pc</th><th>pc</th><th></th><th>mag</th><th>mag</th><th>mag</th><th></th><th></th><th></th><th></th><th>K</th><th>K</th><th>K</th><th>K</th><th></th><th>solMass</th><th>solMass</th><th>solMass</th><th>solMass</th><th></th><th>solRad</th><th>solRad</th><th>solRad</th><th>solRad</th><th></th><th></th><th></th><th></th><th></th><th>deg,deg</th></tr></thead>\n",
       "<thead><tr><th>str27</th><th>str1</th><th>str29</th><th>str29</th><th>int64</th><th>int64</th><th>float64</th><th>float64</th><th>float64</th><th>float64</th><th>int64</th><th>float64</th><th>float64</th><th>float64</th><th>float64</th><th>int64</th><th>float64</th><th>float64</th><th>float64</th><th>int64</th><th>int64</th><th>float64</th><th>float64</th><th>float64</th><th>float64</th><th>int64</th><th>float64</th><th>float64</th><th>float64</th><th>float64</th><th>int64</th><th>str14</th><th>float64</th><th>float64</th><th>float64</th><th>float64</th><th>int64</th><th>float64</th><th>float64</th><th>float64</th><th>int64</th><th>int64</th><th>int64</th><th>int64</th><th>int64</th><th>str14</th><th>str15</th><th>float64</th><th>float64</th><th>float64</th><th>float64</th><th>int64</th><th>float64</th><th>float64</th><th>float64</th><th>float64</th><th>int64</th><th>float64</th><th>float64</th><th>float64</th><th>str11</th><th>float64</th><th>int64</th><th>int64</th><th>float64</th><th>float64</th><th>float64</th><th>float64</th><th>int64</th><th>float64</th><th>float64</th><th>float64</th><th>float64</th><th>int64</th><th>float64</th><th>float64</th><th>float64</th><th>float64</th><th>int64</th><th>int64</th><th>str10</th><th>str44</th><th>str26</th><th>object</th></tr></thead>\n",
       "<tr><td>K2-223</td><td>c</td><td>K2-223 c</td><td>Transit</td><td>0</td><td>2</td><td>4.56327</td><td>0.00051</td><td>-0.00049</td><td>0.0</td><td>2</td><td>0.0549</td><td>0.0003</td><td>-0.0003</td><td>0.0</td><td>1</td><td>--</td><td>--</td><td>--</td><td>0</td><td>0</td><td>0.0</td><td>0.0</td><td>0.0</td><td>0.0</td><td>1</td><td>0.0</td><td>0.0</td><td>0.0</td><td>0.0</td><td>0</td><td>--</td><td>0.14</td><td>0.01</td><td>-0.006</td><td>0.0</td><td>2</td><td>--</td><td>--</td><td>--</td><td>0</td><td>0</td><td>0</td><td>0</td><td>1</td><td>12h21m13.48s</td><td>-10d16m55.3s</td><td>185.306152</td><td>0.0</td><td>-10.282037</td><td>0.0</td><td>1</td><td>201.1</td><td>2.5</td><td>-2.5</td><td>0.0</td><td>2</td><td>11.431</td><td>0.02</td><td>0.0</td><td>V (Johnson)</td><td>11.274</td><td>--</td><td>0</td><td>5835.0</td><td>38.0</td><td>-40.0</td><td>0.0</td><td>3</td><td>1.06</td><td>0.02</td><td>-0.02</td><td>0.0</td><td>2</td><td>0.99</td><td>0.01</td><td>-0.01</td><td>0.0</td><td>3</td><td>0</td><td>2018-07-12</td><td>K2</td><td>k2-223c</td><td>185.306152,-10.282037</td></tr>\n",
       "</table>"
      ],
      "text/plain": [
       "<Row index=3877 masked=True>\n",
       "pl_hostname pl_letter pl_name  pl_discmethod pl_controvflag pl_pnum pl_orbper pl_orbpererr1 pl_orbpererr2 pl_orbperlim pl_orbpern pl_orbsmax pl_orbsmaxerr1 pl_orbsmaxerr2 pl_orbsmaxlim pl_orbsmaxn pl_orbeccen pl_orbeccenerr1 pl_orbeccenerr2 pl_orbeccenlim pl_orbeccenn pl_orbincl pl_orbinclerr1 pl_orbinclerr2 pl_orbincllim pl_orbincln  pl_bmassj  pl_bmassjerr1 pl_bmassjerr2 pl_bmassjlim pl_bmassn pl_bmassprov  pl_radj   pl_radjerr1 pl_radjerr2 pl_radjlim pl_radn pl_dens pl_denserr1 pl_denserr2 pl_denslim pl_densn pl_ttvflag pl_kepflag pl_k2flag    ra_str      dec_str        ra     st_raerr    dec     st_decerr st_posn st_dist st_disterr1 st_disterr2 st_distlim st_distn st_optmag st_optmagerr st_optmaglim  st_optband gaia_gmag gaia_gmagerr gaia_gmaglim st_teff st_tefferr1 st_tefferr2 st_tefflim st_teffn st_mass st_masserr1 st_masserr2 st_masslim st_massn  st_rad st_raderr1 st_raderr2 st_radlim st_radn pl_nnotes rowupdate  pl_facility NAME_LOWERCASE       sky_coord      \n",
       "                                                                        d           d             d            d                      AU           AU             AU             AU                                                                                             deg          deg            deg            deg                  jupiterMass  jupiterMass   jupiterMass  jupiterMass                         jupiterRad  jupiterRad  jupiterRad jupiterRad                                                                                                                          deg                 deg                          pc        pc          pc         pc                 mag        mag          mag                                                         K         K           K          K               solMass   solMass     solMass    solMass             solRad   solRad     solRad     solRad                                                                 deg,deg       \n",
       "   str27       str1    str29       str29         int64       int64   float64     float64       float64      float64      int64     float64      float64        float64        float64       int64      float64       float64         float64         int64         int64      float64      float64        float64        float64       int64      float64      float64       float64      float64      int64      str14      float64     float64     float64    float64    int64  float64   float64     float64     int64     int64     int64      int64      int64      str14        str15      float64   float64   float64    float64   int64  float64   float64     float64    float64    int64    float64    float64      float64       str11     float64     int64        int64     float64   float64     float64    float64    int64   float64   float64     float64    float64    int64   float64  float64    float64    float64   int64    int64     str10       str44        str26              object       \n",
       "----------- --------- -------- ------------- -------------- ------- --------- ------------- ------------- ------------ ---------- ---------- -------------- -------------- ------------- ----------- ----------- --------------- --------------- -------------- ------------ ---------- -------------- -------------- ------------- ----------- ----------- ------------- ------------- ------------ --------- ------------ ---------- ----------- ----------- ---------- ------- ------- ----------- ----------- ---------- -------- ---------- ---------- --------- ------------ ------------ ---------- -------- ---------- --------- ------- ------- ----------- ----------- ---------- -------- --------- ------------ ------------ ----------- --------- ------------ ------------ ------- ----------- ----------- ---------- -------- ------- ----------- ----------- ---------- -------- ------- ---------- ---------- --------- ------- --------- ---------- ----------- -------------- ---------------------\n",
       "     K2-223         c K2-223 c       Transit              0       2   4.56327       0.00051      -0.00049          0.0          2     0.0549         0.0003        -0.0003           0.0           1          --              --              --              0            0        0.0            0.0            0.0           0.0           1         0.0           0.0           0.0          0.0         0           --       0.14        0.01      -0.006        0.0       2      --          --          --          0        0          0          0         1 12h21m13.48s -10d16m55.3s 185.306152      0.0 -10.282037       0.0       1   201.1         2.5        -2.5        0.0        2    11.431         0.02          0.0 V (Johnson)    11.274           --            0  5835.0        38.0       -40.0        0.0        3    1.06        0.02       -0.02        0.0        2    0.99       0.01      -0.01       0.0       3         0 2018-07-12          K2        k2-223c 185.306152,-10.282037"
      ]
     },
     "execution_count": 11,
     "metadata": {},
     "output_type": "execute_result"
    }
   ],
   "source": [
    "# extract a single planet\n",
    "k2whatever = NasaExoplanetArchive.query_planet( 'K2-223 c')\n",
    "\n",
    "k2whatever"
   ]
  },
  {
   "cell_type": "markdown",
   "metadata": {},
   "source": [
    "### SDSS images and catalogs\n",
    "\n",
    "[astroquery.sdss](https://astroquery.readthedocs.io/en/latest/sdss/sdss.html) provides an interface to the SDSS databases for images, photometry, and spectroscopy.\n",
    "\n",
    "The following example obtains image and photometry data for a given field and plots the image along with all sources found by SDSS:"
   ]
  },
  {
   "cell_type": "code",
   "execution_count": 12,
   "metadata": {},
   "outputs": [
    {
     "data": {
      "text/html": [
       "<i>Table length=2</i>\n",
       "<table id=\"table140121155031168\" class=\"table-striped table-bordered table-condensed\">\n",
       "<thead><tr><th>ra</th><th>dec</th><th>objid</th><th>run</th><th>rerun</th><th>camcol</th><th>field</th></tr></thead>\n",
       "<thead><tr><th>float64</th><th>float64</th><th>int64</th><th>int64</th><th>int64</th><th>int64</th><th>int64</th></tr></thead>\n",
       "<tr><td>153.409481650134</td><td>-0.925411819880563</td><td>1237648720145350665</td><td>756</td><td>301</td><td>1</td><td>251</td></tr>\n",
       "<tr><td>153.409484237648</td><td>-0.925423938718254</td><td>1237654873220120586</td><td>2188</td><td>301</td><td>6</td><td>209</td></tr>\n",
       "</table>"
      ],
      "text/plain": [
       "<Table length=2>\n",
       "       ra               dec                objid         run  rerun camcol field\n",
       "    float64           float64              int64        int64 int64 int64  int64\n",
       "---------------- ------------------ ------------------- ----- ----- ------ -----\n",
       "153.409481650134 -0.925411819880563 1237648720145350665   756   301      1   251\n",
       "153.409484237648 -0.925423938718254 1237654873220120586  2188   301      6   209"
      ]
     },
     "execution_count": 12,
     "metadata": {},
     "output_type": "execute_result"
    }
   ],
   "source": [
    "from astroquery.sdss import SDSS\n",
    "\n",
    "field = coord.SkyCoord('10h13m38.4s -00d55m32.6s', frame='icrs')\n",
    "xid = SDSS.query_region(field)\n",
    "xid"
   ]
  },
  {
   "cell_type": "code",
   "execution_count": 13,
   "metadata": {},
   "outputs": [],
   "source": [
    "# obtain image (as HDUList object)\n",
    "img = SDSS.get_images(run=756, field=251, camcol=1)"
   ]
  },
  {
   "cell_type": "code",
   "execution_count": 14,
   "metadata": {},
   "outputs": [
    {
     "data": {
      "text/html": [
       "<i>Table length=261</i>\n",
       "<table id=\"table140121153604968\" class=\"table-striped table-bordered table-condensed\">\n",
       "<thead><tr><th>ra</th><th>dec</th><th>psfMag_r</th></tr></thead>\n",
       "<thead><tr><th>float64</th><th>float64</th><th>float64</th></tr></thead>\n",
       "<tr><td>153.472703089594</td><td>-0.876673705277813</td><td>17.48574</td></tr>\n",
       "<tr><td>153.437227479459</td><td>-0.868768600579577</td><td>18.5815</td></tr>\n",
       "<tr><td>153.43472496213</td><td>-0.960633331676371</td><td>19.10736</td></tr>\n",
       "<tr><td>153.365781157937</td><td>-0.937145056132418</td><td>19.71221</td></tr>\n",
       "<tr><td>153.445573424181</td><td>-0.915289985297547</td><td>18.72964</td></tr>\n",
       "<tr><td>153.409520906361</td><td>-0.859439991502231</td><td>17.92762</td></tr>\n",
       "<tr><td>153.417109118692</td><td>-0.863707458707979</td><td>17.9507</td></tr>\n",
       "<tr><td>153.351628541607</td><td>-0.902820987655131</td><td>13.07184</td></tr>\n",
       "<tr><td>153.333029314224</td><td>-1.02128462442834</td><td>14.35627</td></tr>\n",
       "<tr><td>153.343030984597</td><td>-0.895336768824781</td><td>15.4853</td></tr>\n",
       "<tr><td>...</td><td>...</td><td>...</td></tr>\n",
       "<tr><td>153.351643763604</td><td>-0.902828610461236</td><td>13.09241</td></tr>\n",
       "<tr><td>153.444963527917</td><td>-0.959322211433774</td><td>19.00248</td></tr>\n",
       "<tr><td>153.472997015163</td><td>-0.993906425333117</td><td>19.05897</td></tr>\n",
       "<tr><td>153.462117159057</td><td>-0.9529161232589</td><td>14.55698</td></tr>\n",
       "<tr><td>153.464397034275</td><td>-0.905030558013494</td><td>17.83327</td></tr>\n",
       "<tr><td>153.345869901967</td><td>-1.01378415878915</td><td>19.6939</td></tr>\n",
       "<tr><td>153.423054148307</td><td>-0.972658275803967</td><td>16.02502</td></tr>\n",
       "<tr><td>153.38183788967</td><td>-1.03715236593839</td><td>18.4467</td></tr>\n",
       "<tr><td>153.380107658827</td><td>-0.935589103783202</td><td>19.49885</td></tr>\n",
       "<tr><td>153.357020822448</td><td>-0.909843651649945</td><td>17.05482</td></tr>\n",
       "</table>"
      ],
      "text/plain": [
       "<Table length=261>\n",
       "       ra               dec         psfMag_r\n",
       "    float64           float64       float64 \n",
       "---------------- ------------------ --------\n",
       "153.472703089594 -0.876673705277813 17.48574\n",
       "153.437227479459 -0.868768600579577  18.5815\n",
       " 153.43472496213 -0.960633331676371 19.10736\n",
       "153.365781157937 -0.937145056132418 19.71221\n",
       "153.445573424181 -0.915289985297547 18.72964\n",
       "153.409520906361 -0.859439991502231 17.92762\n",
       "153.417109118692 -0.863707458707979  17.9507\n",
       "153.351628541607 -0.902820987655131 13.07184\n",
       "153.333029314224  -1.02128462442834 14.35627\n",
       "153.343030984597 -0.895336768824781  15.4853\n",
       "             ...                ...      ...\n",
       "153.351643763604 -0.902828610461236 13.09241\n",
       "153.444963527917 -0.959322211433774 19.00248\n",
       "153.472997015163 -0.993906425333117 19.05897\n",
       "153.462117159057   -0.9529161232589 14.55698\n",
       "153.464397034275 -0.905030558013494 17.83327\n",
       "153.345869901967  -1.01378415878915  19.6939\n",
       "153.423054148307 -0.972658275803967 16.02502\n",
       " 153.38183788967  -1.03715236593839  18.4467\n",
       "153.380107658827 -0.935589103783202 19.49885\n",
       "153.357020822448 -0.909843651649945 17.05482"
      ]
     },
     "execution_count": 14,
     "metadata": {},
     "output_type": "execute_result"
    }
   ],
   "source": [
    "# obtain photometric data (as Table)\n",
    "phot = SDSS.query_photoobj(run=756, field=251, camcol=1, fields=['ra', 'dec', 'psfMag_r'])\n",
    "phot = phot[phot['psfMag_r'] != -9999]\n",
    "phot = phot[phot['psfMag_r'] < 20]\n",
    "phot"
   ]
  },
  {
   "cell_type": "code",
   "execution_count": 15,
   "metadata": {},
   "outputs": [
    {
     "name": "stderr",
     "output_type": "stream",
     "text": [
      "WARNING: FITSFixedWarning: RADECSYS= 'ICRS ' / International Celestial Ref. System \n",
      "the RADECSYS keyword is deprecated, use RADESYSa. [astropy.wcs.wcs]\n",
      "WARNING: FITSFixedWarning: 'datfix' made the change 'Changed '22/03/99' to '1999-03-22''. [astropy.wcs.wcs]\n"
     ]
    },
    {
     "data": {
      "text/plain": [
       "<matplotlib.collections.PathCollection at 0x7f707c946e80>"
      ]
     },
     "execution_count": 15,
     "metadata": {},
     "output_type": "execute_result"
    }
   ],
   "source": [
    "import matplotlib.pyplot as plt\n",
    "from astropy.wcs import WCS \n",
    "from astropy.visualization import (ZScaleInterval, MinMaxInterval,\n",
    "                                   LinearStretch, SqrtStretch, ImageNormalize)\n",
    "\n",
    "imgdat = img[0][0].data\n",
    "wcs = WCS(img[0][0].header)\n",
    "\n",
    "# define image scale and stretch\n",
    "norm = ImageNormalize(imgdat, interval=ZScaleInterval(), stretch=LinearStretch())\n",
    "\n",
    "# plot image\n",
    "fig = plt.figure(figsize=(15,15))\n",
    "ax = fig.add_subplot(111, projection=wcs)\n",
    "ax.imshow(imgdat, origin='lower', cmap=plt.cm.viridis, norm=norm)\n",
    "\n",
    "# convert ra and dec to image x and y\n",
    "x, y = wcs.all_world2pix(phot['ra'], phot['dec'], 1)\n",
    "\n",
    "# indicate sources\n",
    "ax.scatter(x, y, color='none', edgecolor='white', s=20+100*(20-phot['psfMag_r']), marker='o')"
   ]
  },
  {
   "cell_type": "markdown",
   "metadata": {},
   "source": [
    "### JPL Small-Body Database Browser\n",
    "\n",
    "[astroquery.jplsbdb](https://astroquery.readthedocs.io/en/latest/jplsbdb/jplsbdb.html) provides an interface to the query the [JPL Small-Body Database Browser](https://ssd.jpl.nasa.gov/sbdb.cgi). The following example queries a default subset of available information on asteroid 12893:"
   ]
  },
  {
   "cell_type": "code",
   "execution_count": 16,
   "metadata": {},
   "outputs": [
    {
     "data": {
      "text/plain": [
       "OrderedDict([('object',\n",
       "              OrderedDict([('shortname', '12893 Mommert'),\n",
       "                           ('neo', False),\n",
       "                           ('orbit_class',\n",
       "                            OrderedDict([('name', 'Main-belt Asteroid'),\n",
       "                                         ('code', 'MBA')])),\n",
       "                           ('pha', False),\n",
       "                           ('spkid', '2012893'),\n",
       "                           ('kind', 'an'),\n",
       "                           ('orbit_id', '19'),\n",
       "                           ('fullname', '12893 Mommert (1998 QS55)'),\n",
       "                           ('des', '12893'),\n",
       "                           ('prefix', None)])),\n",
       "             ('signature',\n",
       "              OrderedDict([('source',\n",
       "                            'NASA/JPL Small-Body Database (SBDB) API'),\n",
       "                           ('version', '1.1')])),\n",
       "             ('orbit',\n",
       "              OrderedDict([('source', 'JPL'),\n",
       "                           ('cov_epoch', Unit(\"2.45597e+06 d\")),\n",
       "                           ('moid_jup', Unit(\"2.33 AU\")),\n",
       "                           ('t_jup', '3.309'),\n",
       "                           ('condition_code', '0'),\n",
       "                           ('not_valid_before', None),\n",
       "                           ('rms', '0.51'),\n",
       "                           ('model_pars', []),\n",
       "                           ('orbit_id', '19'),\n",
       "                           ('producer', 'Otto Matic'),\n",
       "                           ('first_obs', '1983-10-08'),\n",
       "                           ('soln_date', '2018-10-03 17:15:04'),\n",
       "                           ('two_body', None),\n",
       "                           ('epoch', Unit(\"2.4586e+06 d\")),\n",
       "                           ('elements',\n",
       "                            OrderedDict([('e', '0.0706'),\n",
       "                                         ('e_sig', '5.3e-08'),\n",
       "                                         ('a', Unit(\"2.83 AU\")),\n",
       "                                         ('a_sig', Unit(\"1.6e-08 AU\")),\n",
       "                                         ('q', Unit(\"2.63 AU\")),\n",
       "                                         ('q_sig', Unit(\"1.5e-07 AU\")),\n",
       "                                         ('i', Unit(\"2.33 deg\")),\n",
       "                                         ('i_sig', Unit(\"5.6e-06 deg\")),\n",
       "                                         ('om', Unit(\"185 deg\")),\n",
       "                                         ('om_sig', Unit(\"9.7e-05 deg\")),\n",
       "                                         ('w', Unit(\"184 deg\")),\n",
       "                                         ('w_sig', Unit(\"0.0001 deg\")),\n",
       "                                         ('ma', Unit(\"134 deg\")),\n",
       "                                         ('ma_sig', Unit(\"2.8e-05 deg\")),\n",
       "                                         ('tp', Unit(\"2.45795e+06 d\")),\n",
       "                                         ('tp_sig', Unit(\"0.00013 d\")),\n",
       "                                         ('per', Unit(\"1740 d\")),\n",
       "                                         ('per_sig', Unit(\"1.5e-05 d\")),\n",
       "                                         ('n', Unit(\"0.207 deg / d\")),\n",
       "                                         ('n_sig', Unit(\"1.7e-09 deg / d\")),\n",
       "                                         ('ad', Unit(\"3.03 AU\")),\n",
       "                                         ('ad_sig', Unit(\"1.7e-08 AU\"))])),\n",
       "                           ('equinox', 'J2000'),\n",
       "                           ('data_arc', '12759'),\n",
       "                           ('not_valid_after', None),\n",
       "                           ('n_del_obs_used', None),\n",
       "                           ('sb_used', 'SB431-N16'),\n",
       "                           ('n_obs_used', '1344'),\n",
       "                           ('comment', None),\n",
       "                           ('pe_used', 'DE431'),\n",
       "                           ('last_obs', '2018-09-13'),\n",
       "                           ('moid', Unit(\"1.63 AU\")),\n",
       "                           ('n_dop_obs_used', None)]))])"
      ]
     },
     "execution_count": 16,
     "metadata": {},
     "output_type": "execute_result"
    }
   ],
   "source": [
    "from astroquery.jplsbdb import SBDB\n",
    "\n",
    "data = SBDB.query(12893)\n",
    "data"
   ]
  },
  {
   "cell_type": "markdown",
   "metadata": {},
   "source": [
    "The query results are read into an OrderedDict. A human-readable presentation of the data can be obtained using `SBDB.schematic()`:"
   ]
  },
  {
   "cell_type": "code",
   "execution_count": 17,
   "metadata": {},
   "outputs": [
    {
     "name": "stdout",
     "output_type": "stream",
     "text": [
      "+-+ object: \n",
      "| +-- shortname: 12893 Mommert\n",
      "| +-- neo: False\n",
      "| +-+ orbit_class: \n",
      "| | +-- name: Main-belt Asteroid\n",
      "| | +-- code: MBA\n",
      "| +-- pha: False\n",
      "| +-- spkid: 2012893\n",
      "| +-- kind: an\n",
      "| +-- orbit_id: 19\n",
      "| +-- fullname: 12893 Mommert (1998 QS55)\n",
      "| +-- des: 12893\n",
      "| +-- prefix: None\n",
      "+-+ signature: \n",
      "| +-- source: NASA/JPL Small-Body Database (SBDB) API\n",
      "| +-- version: 1.1\n",
      "+-+ orbit: \n",
      "| +-- source: JPL\n",
      "| +-- cov_epoch: 2.45597e+06 d\n",
      "| +-- moid_jup: 2.33 AU\n",
      "| +-- t_jup: 3.309\n",
      "| +-- condition_code: 0\n",
      "| +-- not_valid_before: None\n",
      "| +-- rms: 0.51\n",
      "| +-- model_pars: []\n",
      "| +-- orbit_id: 19\n",
      "| +-- producer: Otto Matic\n",
      "| +-- first_obs: 1983-10-08\n",
      "| +-- soln_date: 2018-10-03 17:15:04\n",
      "| +-- two_body: None\n",
      "| +-- epoch: 2.4586e+06 d\n",
      "| +-+ elements: \n",
      "| | +-- e: 0.0706\n",
      "| | +-- e_sig: 5.3e-08\n",
      "| | +-- a: 2.83 AU\n",
      "| | +-- a_sig: 1.6e-08 AU\n",
      "| | +-- q: 2.63 AU\n",
      "| | +-- q_sig: 1.5e-07 AU\n",
      "| | +-- i: 2.33 deg\n",
      "| | +-- i_sig: 5.6e-06 deg\n",
      "| | +-- om: 185 deg\n",
      "| | +-- om_sig: 9.7e-05 deg\n",
      "| | +-- w: 184 deg\n",
      "| | +-- w_sig: 0.0001 deg\n",
      "| | +-- ma: 134 deg\n",
      "| | +-- ma_sig: 2.8e-05 deg\n",
      "| | +-- tp: 2.45795e+06 d\n",
      "| | +-- tp_sig: 0.00013 d\n",
      "| | +-- per: 1740 d\n",
      "| | +-- per_sig: 1.5e-05 d\n",
      "| | +-- n: 0.207 deg / d\n",
      "| | +-- n_sig: 1.7e-09 deg / d\n",
      "| | +-- ad: 3.03 AU\n",
      "| | +-- ad_sig: 1.7e-08 AU\n",
      "| +-- equinox: J2000\n",
      "| +-- data_arc: 12759\n",
      "| +-- not_valid_after: None\n",
      "| +-- n_del_obs_used: None\n",
      "| +-- sb_used: SB431-N16\n",
      "| +-- n_obs_used: 1344\n",
      "| +-- comment: None\n",
      "| +-- pe_used: DE431\n",
      "| +-- last_obs: 2018-09-13\n",
      "| +-- moid: 1.63 AU\n",
      "| +-- n_dop_obs_used: None\n",
      "\n"
     ]
    }
   ],
   "source": [
    "print(SBDB.schematic(data))"
   ]
  },
  {
   "cell_type": "markdown",
   "metadata": {},
   "source": [
    "Individual parts of the data set can be accessed like any dictionary:"
   ]
  },
  {
   "cell_type": "code",
   "execution_count": 18,
   "metadata": {},
   "outputs": [
    {
     "data": {
      "text/plain": [
       "OrderedDict([('e', '0.0706'),\n",
       "             ('e_sig', '5.3e-08'),\n",
       "             ('a', Unit(\"2.83 AU\")),\n",
       "             ('a_sig', Unit(\"1.6e-08 AU\")),\n",
       "             ('q', Unit(\"2.63 AU\")),\n",
       "             ('q_sig', Unit(\"1.5e-07 AU\")),\n",
       "             ('i', Unit(\"2.33 deg\")),\n",
       "             ('i_sig', Unit(\"5.6e-06 deg\")),\n",
       "             ('om', Unit(\"185 deg\")),\n",
       "             ('om_sig', Unit(\"9.7e-05 deg\")),\n",
       "             ('w', Unit(\"184 deg\")),\n",
       "             ('w_sig', Unit(\"0.0001 deg\")),\n",
       "             ('ma', Unit(\"134 deg\")),\n",
       "             ('ma_sig', Unit(\"2.8e-05 deg\")),\n",
       "             ('tp', Unit(\"2.45795e+06 d\")),\n",
       "             ('tp_sig', Unit(\"0.00013 d\")),\n",
       "             ('per', Unit(\"1740 d\")),\n",
       "             ('per_sig', Unit(\"1.5e-05 d\")),\n",
       "             ('n', Unit(\"0.207 deg / d\")),\n",
       "             ('n_sig', Unit(\"1.7e-09 deg / d\")),\n",
       "             ('ad', Unit(\"3.03 AU\")),\n",
       "             ('ad_sig', Unit(\"1.7e-08 AU\"))])"
      ]
     },
     "execution_count": 18,
     "metadata": {},
     "output_type": "execute_result"
    }
   ],
   "source": [
    "data['orbit']['elements']"
   ]
  },
  {
   "cell_type": "code",
   "execution_count": 19,
   "metadata": {},
   "outputs": [
    {
     "data": {
      "text/plain": [
       "423361974.081"
      ]
     },
     "execution_count": 19,
     "metadata": {},
     "output_type": "execute_result"
    }
   ],
   "source": [
    "data['orbit']['elements']['a'].to('km')"
   ]
  },
  {
   "cell_type": "markdown",
   "metadata": {},
   "source": [
    "### JPLHorizons\n",
    "\n",
    "[astroquery.jplhorizons](https://astroquery.readthedocs.io/en/latest/jplhorizons/jplhorizons.html) provides an interface to the JPL Horizons systems, which offers orbital elements, ephemerides, and state vectors for every known Solar System object."
   ]
  },
  {
   "cell_type": "markdown",
   "metadata": {},
   "source": [
    "#### Ephemerides query\n",
    "\n",
    "The following example obtains ephemerides for asteroid 12893 as seen from the DCT (`location='G37'`) for the following night. Only epochs are returned when the Sun has set and the target's airmass is less than 2:"
   ]
  },
  {
   "cell_type": "code",
   "execution_count": 20,
   "metadata": {},
   "outputs": [],
   "source": [
    "from astroquery.jplhorizons import Horizons\n",
    "from astropy.time import Time\n",
    "\n",
    "obj = Horizons('12893', location='G37', epochs={'start': '2019-03-05', 'stop': '2019-03-06', 'step': '10m'})"
   ]
  },
  {
   "cell_type": "code",
   "execution_count": 21,
   "metadata": {},
   "outputs": [
    {
     "data": {
      "text/html": [
       "<i>Table masked=True length=49</i>\n",
       "<table id=\"table140121102347400\" class=\"table-striped table-bordered table-condensed\">\n",
       "<thead><tr><th>targetname</th><th>datetime_str</th><th>datetime_jd</th><th>H</th><th>G</th><th>solar_presence</th><th>flags</th><th>RA</th><th>DEC</th><th>RA_app</th><th>DEC_app</th><th>RA_rate</th><th>DEC_rate</th><th>AZ</th><th>EL</th><th>AZ_rate</th><th>EL_rate</th><th>sat_X</th><th>sat_Y</th><th>sat_PANG</th><th>siderealtime</th><th>airmass</th><th>magextinct</th><th>V</th><th>surfbright</th><th>illumination</th><th>illum_defect</th><th>sat_sep</th><th>sat_vis</th><th>ang_width</th><th>PDObsLon</th><th>PDObsLat</th><th>PDSunLon</th><th>PDSunLat</th><th>SubSol_ang</th><th>SubSol_dist</th><th>NPole_ang</th><th>NPole_dist</th><th>EclLon</th><th>EclLat</th><th>r</th><th>r_rate</th><th>delta</th><th>delta_rate</th><th>lighttime</th><th>vel_sun</th><th>vel_obs</th><th>elong</th><th>elongFlag</th><th>alpha</th><th>lunar_elong</th><th>lunar_illum</th><th>sat_alpha</th><th>sunTargetPA</th><th>velocityPA</th><th>OrbPlaneAng</th><th>constellation</th><th>TDB-UT</th><th>ObsEclLon</th><th>ObsEclLat</th><th>NPole_RA</th><th>NPole_DEC</th><th>GlxLon</th><th>GlxLat</th><th>solartime</th><th>earth_lighttime</th><th>RA_3sigma</th><th>DEC_3sigma</th><th>SMAA_3sigma</th><th>SMIA_3sigma</th><th>Theta_3sigma</th><th>Area_3sigma</th><th>RSS_3sigma</th><th>r_3sigma</th><th>r_rate_3sigma</th><th>SBand_3sigma</th><th>XBand_3sigma</th><th>DoppDelay_3sigma</th><th>true_anom</th><th>hour_angle</th><th>alpha_true</th><th>PABLon</th><th>PABLat</th></tr></thead>\n",
       "<thead><tr><th>---</th><th>---</th><th>d</th><th>mag</th><th>---</th><th>---</th><th>---</th><th>deg</th><th>deg</th><th>deg</th><th>deg</th><th>arcsec / h</th><th>arcsec / h</th><th>deg</th><th>deg</th><th>arcsec / min</th><th>arcsec / min</th><th>arcsec</th><th>arcsec</th><th>deg</th><th>---</th><th>---</th><th>mag</th><th>mag</th><th>mag / arcsec2</th><th>%</th><th>arcsec</th><th>arcsec</th><th>---</th><th>arcsec</th><th>deg</th><th>deg</th><th>deg</th><th>deg</th><th>deg</th><th>arcsec</th><th>deg</th><th>arcsec</th><th>deg</th><th>deg</th><th>AU</th><th>km / s</th><th>AU</th><th>km / s</th><th>min</th><th>km / s</th><th>km / s</th><th>deg</th><th>---</th><th>deg</th><th>deg</th><th>%</th><th>deg</th><th>deg</th><th>deg</th><th>deg</th><th>---</th><th>s</th><th>deg</th><th>deg</th><th>deg</th><th>deg</th><th>deg</th><th>deg</th><th>---</th><th>min</th><th>arcsec</th><th>arcsec</th><th>arcsec</th><th>arcsec</th><th>deg</th><th>arcsec2</th><th>arcsec</th><th>km</th><th>km / s</th><th>Hz</th><th>Hz</th><th>s</th><th>deg</th><th>---</th><th>deg</th><th>deg</th><th>deg</th></tr></thead>\n",
       "<thead><tr><th>str25</th><th>str17</th><th>float64</th><th>float64</th><th>float64</th><th>str1</th><th>str1</th><th>float64</th><th>float64</th><th>float64</th><th>float64</th><th>float64</th><th>float64</th><th>float64</th><th>float64</th><th>float64</th><th>float64</th><th>float64</th><th>float64</th><th>float64</th><th>float64</th><th>float64</th><th>float64</th><th>float64</th><th>float64</th><th>float64</th><th>float64</th><th>float64</th><th>str1</th><th>float64</th><th>int64</th><th>int64</th><th>int64</th><th>int64</th><th>float64</th><th>float64</th><th>int64</th><th>int64</th><th>float64</th><th>float64</th><th>float64</th><th>float64</th><th>float64</th><th>float64</th><th>float64</th><th>float64</th><th>float64</th><th>float64</th><th>str2</th><th>float64</th><th>float64</th><th>float64</th><th>float64</th><th>float64</th><th>float64</th><th>float64</th><th>str3</th><th>float64</th><th>float64</th><th>float64</th><th>int64</th><th>int64</th><th>float64</th><th>float64</th><th>float64</th><th>float64</th><th>float64</th><th>float64</th><th>float64</th><th>float64</th><th>float64</th><th>float64</th><th>float64</th><th>float64</th><th>float64</th><th>float64</th><th>float64</th><th>float64</th><th>float64</th><th>float64</th><th>float64</th><th>float64</th><th>float64</th></tr></thead>\n",
       "<tr><td>12893 Mommert (1998 QS55)</td><td>2019-Mar-05 01:30</td><td>2458547.5625</td><td>13.9</td><td>0.15</td><td>C</td><td></td><td>129.47997</td><td>16.04418</td><td>129.74961</td><td>15.97515</td><td>-17.5366</td><td>7.313429</td><td>95.6486</td><td>36.64</td><td>456.31</td><td>738.27</td><td>516506.9</td><td>79925.63</td><td>71.38</td><td>4.9060801926</td><td>1.672</td><td>0.255</td><td>18.55</td><td>5.96</td><td>98.998</td><td>3.4e-05</td><td>517419.7</td><td>*</td><td>0.003444</td><td>--</td><td>--</td><td>--</td><td>--</td><td>281.5</td><td>0.0</td><td>--</td><td>--</td><td>139.1801</td><td>-1.6848</td><td>2.945937632601</td><td>0.9690354</td><td>2.08748069151184</td><td>14.6492561</td><td>17.361048</td><td>16.98885</td><td>16.68631</td><td>143.7277</td><td>/T</td><td>11.4827</td><td>161.4</td><td>2.6</td><td>24.7863</td><td>101.42</td><td>283.48</td><td>0.41161</td><td>Cnc</td><td>69.185453</td><td>127.9714391</td><td>-2.376297</td><td>--</td><td>--</td><td>209.630328</td><td>30.619291</td><td>17.8778071219</td><td>0.000354</td><td>0.1</td><td>0.08</td><td>0.101</td><td>0.079</td><td>-13.358</td><td>0.05</td><td>0.128</td><td>61.5873</td><td>5.1e-06</td><td>0.14</td><td>0.5</td><td>0.000411</td><td>129.3027</td><td>-3.743893485</td><td>11.4874</td><td>133.4412</td><td>-2.0416</td></tr>\n",
       "<tr><td>12893 Mommert (1998 QS55)</td><td>2019-Mar-05 01:40</td><td>2458547.569444444</td><td>13.9</td><td>0.15</td><td>C</td><td></td><td>129.47913</td><td>16.04452</td><td>129.74876</td><td>15.97549</td><td>-17.5634</td><td>7.305669</td><td>97.2563</td><td>38.6877</td><td>460.07</td><td>735.93</td><td>516483.4</td><td>79917.17</td><td>71.379</td><td>5.0732031667</td><td>1.597</td><td>0.243</td><td>18.55</td><td>5.96</td><td>98.998</td><td>3.5e-05</td><td>517391.6</td><td>*</td><td>0.003444</td><td>--</td><td>--</td><td>--</td><td>--</td><td>281.5</td><td>0.0</td><td>--</td><td>--</td><td>139.1815</td><td>-1.6847</td><td>2.945941518935</td><td>0.969017</td><td>2.08753947021461</td><td>14.6611662</td><td>17.361536</td><td>16.98883</td><td>16.70126</td><td>143.7199</td><td>/T</td><td>11.4849</td><td>161.3</td><td>2.6</td><td>24.792</td><td>101.421</td><td>283.48</td><td>0.41147</td><td>Cnc</td><td>69.185454</td><td>127.9705685</td><td>-2.3761755</td><td>--</td><td>--</td><td>209.629606</td><td>30.61867</td><td>18.044499479</td><td>0.000354</td><td>0.1</td><td>0.08</td><td>0.101</td><td>0.079</td><td>-13.358</td><td>0.05</td><td>0.128</td><td>61.5906</td><td>5.1e-06</td><td>0.14</td><td>0.5</td><td>0.000411</td><td>129.304</td><td>-3.57671433</td><td>11.4896</td><td>133.4415</td><td>-2.0416</td></tr>\n",
       "<tr><td>12893 Mommert (1998 QS55)</td><td>2019-Mar-05 01:50</td><td>2458547.576388889</td><td>13.9</td><td>0.15</td><td>N</td><td></td><td>129.47828</td><td>16.04486</td><td>129.74792</td><td>15.97583</td><td>-17.5892</td><td>7.297523</td><td>98.9261</td><td>40.7279</td><td>464.89</td><td>732.89</td><td>516459.9</td><td>79908.71</td><td>71.377</td><td>5.2403261408</td><td>1.53</td><td>0.233</td><td>18.55</td><td>5.96</td><td>98.998</td><td>3.5e-05</td><td>517363.5</td><td>*</td><td>0.003444</td><td>--</td><td>--</td><td>--</td><td>--</td><td>281.5</td><td>0.0</td><td>--</td><td>--</td><td>139.1828</td><td>-1.6847</td><td>2.945945405196</td><td>0.9689987</td><td>2.08759829783006</td><td>14.6736436</td><td>17.362026</td><td>16.9888</td><td>16.71648</td><td>143.7121</td><td>/T</td><td>11.4871</td><td>161.2</td><td>2.5</td><td>24.7976</td><td>101.421</td><td>283.48</td><td>0.41133</td><td>Cnc</td><td>69.185454</td><td>127.9696968</td><td>-2.3760545</td><td>--</td><td>--</td><td>209.628884</td><td>30.618048</td><td>18.211191583</td><td>0.000354</td><td>0.1</td><td>0.08</td><td>0.101</td><td>0.079</td><td>-13.357</td><td>0.05</td><td>0.128</td><td>61.5938</td><td>5.1e-06</td><td>0.14</td><td>0.5</td><td>0.000411</td><td>129.3053</td><td>-3.409535085</td><td>11.4918</td><td>133.4417</td><td>-2.0415</td></tr>\n",
       "<tr><td>12893 Mommert (1998 QS55)</td><td>2019-Mar-05 02:00</td><td>2458547.583333333</td><td>13.9</td><td>0.15</td><td>N</td><td></td><td>129.47743</td><td>16.04519</td><td>129.74707</td><td>15.97617</td><td>-17.6139</td><td>7.289003</td><td>100.668</td><td>42.7586</td><td>470.88</td><td>729.05</td><td>516436.4</td><td>79900.25</td><td>71.376</td><td>5.4074491149</td><td>1.471</td><td>0.224</td><td>18.55</td><td>5.96</td><td>98.997</td><td>3.5e-05</td><td>517335.4</td><td>*</td><td>0.003444</td><td>--</td><td>--</td><td>--</td><td>--</td><td>281.5</td><td>0.0</td><td>--</td><td>--</td><td>139.1841</td><td>-1.6847</td><td>2.945949291383</td><td>0.9689804</td><td>2.0876571765962</td><td>14.6866695</td><td>17.362515</td><td>16.98878</td><td>16.73196</td><td>143.7043</td><td>/T</td><td>11.4893</td><td>161.1</td><td>2.5</td><td>24.8032</td><td>101.422</td><td>283.48</td><td>0.4112</td><td>Cnc</td><td>69.185454</td><td>127.968824</td><td>-2.3759343</td><td>--</td><td>--</td><td>209.628161</td><td>30.617425</td><td>18.3778834339</td><td>0.000354</td><td>0.1</td><td>0.08</td><td>0.101</td><td>0.079</td><td>-13.357</td><td>0.05</td><td>0.128</td><td>61.597</td><td>5.1e-06</td><td>0.14</td><td>0.5</td><td>0.000411</td><td>129.3067</td><td>-3.242355752</td><td>11.494</td><td>133.4419</td><td>-2.0414</td></tr>\n",
       "<tr><td>12893 Mommert (1998 QS55)</td><td>2019-Mar-05 02:10</td><td>2458547.590277778</td><td>13.9</td><td>0.15</td><td>N</td><td></td><td>129.47658</td><td>16.04553</td><td>129.74623</td><td>15.97651</td><td>-17.6374</td><td>7.280123</td><td>102.4932</td><td>44.7774</td><td>478.15</td><td>724.31</td><td>516412.8</td><td>79891.78</td><td>71.374</td><td>5.574572089</td><td>1.418</td><td>0.216</td><td>18.55</td><td>5.96</td><td>98.997</td><td>3.5e-05</td><td>517307.2</td><td>*</td><td>0.003443</td><td>--</td><td>--</td><td>--</td><td>--</td><td>281.51</td><td>0.0</td><td>--</td><td>--</td><td>139.1854</td><td>-1.6846</td><td>2.945953177496</td><td>0.968962</td><td>2.08771610867336</td><td>14.700224</td><td>17.363005</td><td>16.98876</td><td>16.74766</td><td>143.6964</td><td>/T</td><td>11.4915</td><td>161.0</td><td>2.5</td><td>24.8088</td><td>101.423</td><td>283.479</td><td>0.41106</td><td>Cnc</td><td>69.185454</td><td>127.9679501</td><td>-2.3758146</td><td>--</td><td>--</td><td>209.627439</td><td>30.6168</td><td>18.5445750322</td><td>0.000354</td><td>0.1</td><td>0.08</td><td>0.101</td><td>0.079</td><td>-13.357</td><td>0.05</td><td>0.128</td><td>61.6002</td><td>5.1e-06</td><td>0.14</td><td>0.5</td><td>0.000411</td><td>129.308</td><td>-3.075176336</td><td>11.4962</td><td>133.4421</td><td>-2.0413</td></tr>\n",
       "<tr><td>12893 Mommert (1998 QS55)</td><td>2019-Mar-05 02:20</td><td>2458547.597222222</td><td>13.9</td><td>0.15</td><td>A</td><td></td><td>129.47573</td><td>16.04587</td><td>129.74538</td><td>15.97685</td><td>-17.6597</td><td>7.270897</td><td>104.4148</td><td>46.7816</td><td>486.8</td><td>718.52</td><td>516389.3</td><td>79883.32</td><td>71.372</td><td>5.741695063</td><td>1.37</td><td>0.209</td><td>18.55</td><td>5.96</td><td>98.997</td><td>3.5e-05</td><td>517279.0</td><td>*</td><td>0.003443</td><td>--</td><td>--</td><td>--</td><td>--</td><td>281.51</td><td>0.0</td><td>--</td><td>--</td><td>139.1868</td><td>-1.6846</td><td>2.945957063535</td><td>0.9689437</td><td>2.0877750961401</td><td>14.7142862</td><td>17.363496</td><td>16.98873</td><td>16.76356</td><td>143.6886</td><td>/T</td><td>11.4937</td><td>160.9</td><td>2.5</td><td>24.8145</td><td>101.424</td><td>283.479</td><td>0.41092</td><td>Cnc</td><td>69.185454</td><td>127.9670752</td><td>-2.3756957</td><td>--</td><td>--</td><td>209.626716</td><td>30.616174</td><td>18.7112663788</td><td>0.000354</td><td>0.1</td><td>0.08</td><td>0.101</td><td>0.079</td><td>-13.357</td><td>0.05</td><td>0.128</td><td>61.6035</td><td>5.1e-06</td><td>0.14</td><td>0.51</td><td>0.000411</td><td>129.3093</td><td>-2.907996839</td><td>11.4984</td><td>133.4423</td><td>-2.0413</td></tr>\n",
       "<tr><td>12893 Mommert (1998 QS55)</td><td>2019-Mar-05 02:30</td><td>2458547.604166667</td><td>13.9</td><td>0.15</td><td>A</td><td></td><td>129.47488</td><td>16.0462</td><td>129.74453</td><td>15.97718</td><td>-17.6807</td><td>7.26134</td><td>106.4479</td><td>48.768</td><td>496.97</td><td>711.52</td><td>516365.7</td><td>79874.85</td><td>71.371</td><td>5.908818037</td><td>1.328</td><td>0.202</td><td>18.55</td><td>5.96</td><td>98.996</td><td>3.5e-05</td><td>517250.8</td><td>*</td><td>0.003443</td><td>--</td><td>--</td><td>--</td><td>--</td><td>281.51</td><td>0.0</td><td>--</td><td>--</td><td>139.1881</td><td>-1.6846</td><td>2.945960949501</td><td>0.9689254</td><td>2.08783414098922</td><td>14.7288342</td><td>17.363987</td><td>16.98871</td><td>16.77963</td><td>143.6808</td><td>/T</td><td>11.4958</td><td>160.8</td><td>2.5</td><td>24.8201</td><td>101.425</td><td>283.479</td><td>0.41079</td><td>Cnc</td><td>69.185454</td><td>127.9661993</td><td>-2.3755774</td><td>--</td><td>--</td><td>209.625994</td><td>30.615547</td><td>18.8779574752</td><td>0.000354</td><td>0.1</td><td>0.08</td><td>0.101</td><td>0.079</td><td>-13.356</td><td>0.05</td><td>0.128</td><td>61.6067</td><td>5.1e-06</td><td>0.14</td><td>0.51</td><td>0.000411</td><td>129.3106</td><td>-2.740817265</td><td>11.5006</td><td>133.4426</td><td>-2.0412</td></tr>\n",
       "<tr><td>12893 Mommert (1998 QS55)</td><td>2019-Mar-05 02:40</td><td>2458547.611111111</td><td>13.9</td><td>0.15</td><td>A</td><td></td><td>129.47403</td><td>16.04653</td><td>129.74368</td><td>15.97752</td><td>-17.7005</td><td>7.251467</td><td>108.61</td><td>50.7331</td><td>508.83</td><td>703.09</td><td>516342.1</td><td>79866.38</td><td>71.369</td><td>6.075941011</td><td>1.29</td><td>0.197</td><td>18.55</td><td>5.96</td><td>98.996</td><td>3.5e-05</td><td>517222.6</td><td>*</td><td>0.003443</td><td>--</td><td>--</td><td>--</td><td>--</td><td>281.51</td><td>0.0</td><td>--</td><td>--</td><td>139.1894</td><td>-1.6845</td><td>2.945964835393</td><td>0.968907</td><td>2.08789324512392</td><td>14.7438453</td><td>17.364479</td><td>16.98869</td><td>16.79583</td><td>143.673</td><td>/T</td><td>11.498</td><td>160.7</td><td>2.4</td><td>24.8258</td><td>101.426</td><td>283.479</td><td>0.41065</td><td>Cnc</td><td>69.185454</td><td>127.9653225</td><td>-2.3754598</td><td>--</td><td>--</td><td>209.625271</td><td>30.614919</td><td>19.0446483233</td><td>0.000354</td><td>0.1</td><td>0.08</td><td>0.101</td><td>0.079</td><td>-13.356</td><td>0.05</td><td>0.128</td><td>61.6099</td><td>5.1e-06</td><td>0.14</td><td>0.51</td><td>0.000411</td><td>129.312</td><td>-2.573637619</td><td>11.5028</td><td>133.4428</td><td>-2.0411</td></tr>\n",
       "<tr><td>12893 Mommert (1998 QS55)</td><td>2019-Mar-05 02:50</td><td>2458547.618055556</td><td>13.9</td><td>0.15</td><td></td><td></td><td>129.47317</td><td>16.04687</td><td>129.74283</td><td>15.97786</td><td>-17.7188</td><td>7.241295</td><td>110.9214</td><td>52.6726</td><td>522.52</td><td>692.98</td><td>516318.5</td><td>79857.91</td><td>71.367</td><td>6.2430639849</td><td>1.256</td><td>0.192</td><td>18.55</td><td>5.96</td><td>98.995</td><td>3.5e-05</td><td>517194.4</td><td>*</td><td>0.003443</td><td>--</td><td>--</td><td>--</td><td>--</td><td>281.51</td><td>0.0</td><td>--</td><td>--</td><td>139.1907</td><td>-1.6845</td><td>2.945968721211</td><td>0.9688887</td><td>2.08795241035417</td><td>14.7592958</td><td>17.364971</td><td>16.98866</td><td>16.81215</td><td>143.6651</td><td>/T</td><td>11.5002</td><td>160.6</td><td>2.4</td><td>24.8314</td><td>101.426</td><td>283.478</td><td>0.41052</td><td>Cnc</td><td>69.185454</td><td>127.9644449</td><td>-2.3753429</td><td>--</td><td>--</td><td>209.624549</td><td>30.614289</td><td>19.2113389255</td><td>0.000354</td><td>0.1</td><td>0.08</td><td>0.101</td><td>0.079</td><td>-13.356</td><td>0.05</td><td>0.128</td><td>61.6132</td><td>5.1e-06</td><td>0.14</td><td>0.51</td><td>0.000411</td><td>129.3133</td><td>-2.406457904</td><td>11.505</td><td>133.443</td><td>-2.0411</td></tr>\n",
       "<tr><td>...</td><td>...</td><td>...</td><td>...</td><td>...</td><td>...</td><td>...</td><td>...</td><td>...</td><td>...</td><td>...</td><td>...</td><td>...</td><td>...</td><td>...</td><td>...</td><td>...</td><td>...</td><td>...</td><td>...</td><td>...</td><td>...</td><td>...</td><td>...</td><td>...</td><td>...</td><td>...</td><td>...</td><td>...</td><td>...</td><td>...</td><td>...</td><td>...</td><td>...</td><td>...</td><td>...</td><td>...</td><td>...</td><td>...</td><td>...</td><td>...</td><td>...</td><td>...</td><td>...</td><td>...</td><td>...</td><td>...</td><td>...</td><td>...</td><td>...</td><td>...</td><td>...</td><td>...</td><td>...</td><td>...</td><td>...</td><td>...</td><td>...</td><td>...</td><td>...</td><td>...</td><td>...</td><td>...</td><td>...</td><td>...</td><td>...</td><td>...</td><td>...</td><td>...</td><td>...</td><td>...</td><td>...</td><td>...</td><td>...</td><td>...</td><td>...</td><td>...</td><td>...</td><td>...</td><td>...</td><td>...</td><td>...</td><td>...</td></tr>\n",
       "<tr><td>12893 Mommert (1998 QS55)</td><td>2019-Mar-05 08:00</td><td>2458547.833333333</td><td>13.9</td><td>0.15</td><td></td><td></td><td>129.44667</td><td>16.05696</td><td>129.71634</td><td>15.98802</td><td>-17.4832</td><td>6.882125</td><td>254.005</td><td>48.3564</td><td>494.73</td><td>-713.02</td><td>515580.2</td><td>79594.72</td><td>71.318</td><td>11.4238761627</td><td>1.337</td><td>0.204</td><td>18.56</td><td>5.96</td><td>98.984</td><td>3.5e-05</td><td>516315.1</td><td>*</td><td>0.00344</td><td>--</td><td>--</td><td>--</td><td>--</td><td>281.53</td><td>0.0</td><td>--</td><td>--</td><td>139.2317</td><td>-1.6833</td><td>2.946089144978</td><td>0.96832</td><td>2.08982159442691</td><td>15.3024709</td><td>17.380516</td><td>16.98794</td><td>17.22566</td><td>143.4209</td><td>/T</td><td>11.5682</td><td>157.2</td><td>1.7</td><td>25.0077</td><td>101.45</td><td>283.471</td><td>0.4066</td><td>Cnc</td><td>69.185459</td><td>127.9372089</td><td>-2.3719971</td><td>--</td><td>--</td><td>209.602391</td><td>30.594586</td><td>0.3786584205</td><td>0.000354</td><td>0.1</td><td>0.08</td><td>0.101</td><td>0.079</td><td>-13.348</td><td>0.05</td><td>0.128</td><td>61.7135</td><td>5.1e-06</td><td>0.14</td><td>0.5</td><td>0.000412</td><td>129.3545</td><td>2.776120225</td><td>11.5729</td><td>133.4499</td><td>-2.0389</td></tr>\n",
       "<tr><td>12893 Mommert (1998 QS55)</td><td>2019-Mar-05 08:10</td><td>2458547.840277778</td><td>13.9</td><td>0.15</td><td></td><td></td><td>129.44583</td><td>16.05728</td><td>129.7155</td><td>15.98834</td><td>-17.4502</td><td>6.872639</td><td>256.0136</td><td>46.3662</td><td>484.89</td><td>-719.75</td><td>515556.4</td><td>79586.22</td><td>71.316</td><td>11.5909991357</td><td>1.38</td><td>0.21</td><td>18.56</td><td>5.96</td><td>98.983</td><td>3.5e-05</td><td>516286.7</td><td>*</td><td>0.00344</td><td>--</td><td>--</td><td>--</td><td>--</td><td>281.53</td><td>0.0</td><td>--</td><td>--</td><td>139.2331</td><td>-1.6833</td><td>2.946093028435</td><td>0.9683017</td><td>2.08988299844572</td><td>15.3169011</td><td>17.381027</td><td>16.98791</td><td>17.232</td><td>143.413</td><td>/T</td><td>11.5704</td><td>157.1</td><td>1.6</td><td>25.0134</td><td>101.451</td><td>283.471</td><td>0.40648</td><td>Cnc</td><td>69.185459</td><td>127.9363425</td><td>-2.3718948</td><td>--</td><td>--</td><td>209.601691</td><td>30.593957</td><td>0.5453448183</td><td>0.000354</td><td>0.1</td><td>0.08</td><td>0.101</td><td>0.079</td><td>-13.347</td><td>0.05</td><td>0.128</td><td>61.7167</td><td>5.1e-06</td><td>0.14</td><td>0.5</td><td>0.000412</td><td>129.3558</td><td>2.943299449</td><td>11.5751</td><td>133.4501</td><td>-2.0389</td></tr>\n",
       "<tr><td>12893 Mommert (1998 QS55)</td><td>2019-Mar-05 08:20</td><td>2458547.847222222</td><td>13.9</td><td>0.15</td><td></td><td></td><td>129.44499</td><td>16.0576</td><td>129.71465</td><td>15.98866</td><td>-17.4161</td><td>6.863488</td><td>257.9141</td><td>44.3589</td><td>476.54</td><td>-725.3</td><td>515532.5</td><td>79577.72</td><td>71.315</td><td>11.7581221088</td><td>1.428</td><td>0.218</td><td>18.56</td><td>5.97</td><td>98.983</td><td>3.5e-05</td><td>516258.3</td><td>*</td><td>0.00344</td><td>--</td><td>--</td><td>--</td><td>--</td><td>281.53</td><td>0.0</td><td>--</td><td>--</td><td>139.2344</td><td>-1.6833</td><td>2.946096911818</td><td>0.9682833</td><td>2.0899444593628</td><td>15.3308398</td><td>17.381538</td><td>16.98789</td><td>17.23773</td><td>143.4051</td><td>/T</td><td>11.5726</td><td>157.0</td><td>1.6</td><td>25.0191</td><td>101.451</td><td>283.47</td><td>0.40636</td><td>Cnc</td><td>69.18546</td><td>127.9354777</td><td>-2.3717926</td><td>--</td><td>--</td><td>209.600991</td><td>30.593329</td><td>0.7120312496</td><td>0.000354</td><td>0.1</td><td>0.08</td><td>0.101</td><td>0.079</td><td>-13.347</td><td>0.05</td><td>0.128</td><td>61.72</td><td>5.1e-06</td><td>0.14</td><td>0.5</td><td>0.000412</td><td>129.3572</td><td>3.110478572</td><td>11.5773</td><td>133.4504</td><td>-2.0388</td></tr>\n",
       "<tr><td>12893 Mommert (1998 QS55)</td><td>2019-Mar-05 08:30</td><td>2458547.854166667</td><td>13.9</td><td>0.15</td><td></td><td></td><td>129.44415</td><td>16.05791</td><td>129.71381</td><td>15.98897</td><td>-17.3807</td><td>6.854685</td><td>259.721</td><td>42.3376</td><td>469.56</td><td>-729.84</td><td>515508.6</td><td>79569.21</td><td>71.313</td><td>11.9252450817</td><td>1.482</td><td>0.226</td><td>18.56</td><td>5.97</td><td>98.982</td><td>3.5e-05</td><td>516229.9</td><td>*</td><td>0.00344</td><td>--</td><td>--</td><td>--</td><td>--</td><td>281.53</td><td>0.0</td><td>--</td><td>--</td><td>139.2357</td><td>-1.6832</td><td>2.946100795127</td><td>0.968265</td><td>2.09000597516325</td><td>15.3442654</td><td>17.38205</td><td>16.98787</td><td>17.24284</td><td>143.3972</td><td>/T</td><td>11.5747</td><td>156.9</td><td>1.6</td><td>25.0248</td><td>101.452</td><td>283.47</td><td>0.40624</td><td>Cnc</td><td>69.18546</td><td>127.9346144</td><td>-2.3716904</td><td>--</td><td>--</td><td>209.600292</td><td>30.592702</td><td>0.8787177255</td><td>0.000354</td><td>0.1</td><td>0.08</td><td>0.101</td><td>0.079</td><td>-13.347</td><td>0.05</td><td>0.128</td><td>61.7232</td><td>5.1e-06</td><td>0.14</td><td>0.5</td><td>0.000412</td><td>129.3585</td><td>3.277657591</td><td>11.5794</td><td>133.4506</td><td>-2.0387</td></tr>\n",
       "<tr><td>12893 Mommert (1998 QS55)</td><td>2019-Mar-05 08:40</td><td>2458547.861111111</td><td>13.9</td><td>0.15</td><td></td><td></td><td>129.44332</td><td>16.05823</td><td>129.71297</td><td>15.98929</td><td>-17.3442</td><td>6.846246</td><td>261.4471</td><td>40.305</td><td>463.82</td><td>-733.49</td><td>515484.8</td><td>79560.71</td><td>71.311</td><td>12.0923680546</td><td>1.543</td><td>0.235</td><td>18.56</td><td>5.97</td><td>98.982</td><td>3.5e-05</td><td>516201.6</td><td>*</td><td>0.00344</td><td>--</td><td>--</td><td>--</td><td>--</td><td>281.54</td><td>0.0</td><td>--</td><td>--</td><td>139.237</td><td>-1.6832</td><td>2.946104678363</td><td>0.9682466</td><td>2.09006754374728</td><td>15.3571572</td><td>17.382562</td><td>16.98784</td><td>17.24731</td><td>143.3893</td><td>/T</td><td>11.5769</td><td>156.8</td><td>1.6</td><td>25.0305</td><td>101.453</td><td>283.47</td><td>0.40612</td><td>Cnc</td><td>69.18546</td><td>127.9337527</td><td>-2.3715882</td><td>--</td><td>--</td><td>209.599595</td><td>30.592077</td><td>1.0454042571</td><td>0.000354</td><td>0.1</td><td>0.08</td><td>0.101</td><td>0.079</td><td>-13.347</td><td>0.05</td><td>0.128</td><td>61.7264</td><td>5.1e-06</td><td>0.14</td><td>0.5</td><td>0.000412</td><td>129.3598</td><td>3.444836501</td><td>11.5816</td><td>133.4508</td><td>-2.0387</td></tr>\n",
       "<tr><td>12893 Mommert (1998 QS55)</td><td>2019-Mar-05 08:50</td><td>2458547.868055556</td><td>13.9</td><td>0.15</td><td></td><td></td><td>129.44248</td><td>16.05855</td><td>129.71214</td><td>15.98961</td><td>-17.3067</td><td>6.838182</td><td>263.1034</td><td>38.2634</td><td>459.23</td><td>-736.38</td><td>515460.9</td><td>79552.2</td><td>71.31</td><td>12.2594910275</td><td>1.611</td><td>0.246</td><td>18.56</td><td>5.97</td><td>98.982</td><td>3.5e-05</td><td>516173.2</td><td>*</td><td>0.00344</td><td>--</td><td>--</td><td>--</td><td>--</td><td>281.54</td><td>0.0</td><td>--</td><td>--</td><td>139.2384</td><td>-1.6831</td><td>2.946108561525</td><td>0.9682283</td><td>2.0901291629342</td><td>15.3694956</td><td>17.383074</td><td>16.98782</td><td>17.25115</td><td>143.3814</td><td>/T</td><td>11.5791</td><td>156.7</td><td>1.6</td><td>25.0362</td><td>101.454</td><td>283.47</td><td>0.406</td><td>Cnc</td><td>69.18546</td><td>127.9328928</td><td>-2.371486</td><td>--</td><td>--</td><td>209.598899</td><td>30.591452</td><td>1.2120908555</td><td>0.000354</td><td>0.1</td><td>0.08</td><td>0.101</td><td>0.079</td><td>-13.346</td><td>0.05</td><td>0.128</td><td>61.7296</td><td>5.1e-06</td><td>0.14</td><td>0.5</td><td>0.000412</td><td>129.3612</td><td>3.612015298</td><td>11.5838</td><td>133.4511</td><td>-2.0386</td></tr>\n",
       "<tr><td>12893 Mommert (1998 QS55)</td><td>2019-Mar-05 09:00</td><td>2458547.875</td><td>13.9</td><td>0.15</td><td></td><td></td><td>129.44165</td><td>16.05886</td><td>129.7113</td><td>15.98993</td><td>-17.2681</td><td>6.830508</td><td>264.6994</td><td>36.2147</td><td>455.69</td><td>-738.57</td><td>515437.1</td><td>79543.7</td><td>71.308</td><td>12.4266140004</td><td>1.689</td><td>0.257</td><td>18.56</td><td>5.97</td><td>98.981</td><td>3.5e-05</td><td>516144.9</td><td>*</td><td>0.003439</td><td>--</td><td>--</td><td>--</td><td>--</td><td>281.54</td><td>0.0</td><td>--</td><td>--</td><td>139.2397</td><td>-1.6831</td><td>2.946112444612</td><td>0.9682099</td><td>2.09019083046664</td><td>15.3812619</td><td>17.383587</td><td>16.9878</td><td>17.25435</td><td>143.3736</td><td>/T</td><td>11.5813</td><td>156.6</td><td>1.5</td><td>25.0419</td><td>101.454</td><td>283.469</td><td>0.40588</td><td>Cnc</td><td>69.18546</td><td>127.9320345</td><td>-2.3713838</td><td>--</td><td>--</td><td>209.598204</td><td>30.590829</td><td>1.3787775316</td><td>0.000354</td><td>0.1</td><td>0.08</td><td>0.101</td><td>0.079</td><td>-13.346</td><td>0.05</td><td>0.128</td><td>61.7328</td><td>5.1e-06</td><td>0.14</td><td>0.5</td><td>0.000412</td><td>129.3625</td><td>3.779193978</td><td>11.5859</td><td>133.4513</td><td>-2.0385</td></tr>\n",
       "<tr><td>12893 Mommert (1998 QS55)</td><td>2019-Mar-05 09:10</td><td>2458547.881944444</td><td>13.9</td><td>0.15</td><td></td><td></td><td>129.44082</td><td>16.05918</td><td>129.71047</td><td>15.99024</td><td>-17.2286</td><td>6.823235</td><td>266.2438</td><td>34.1608</td><td>453.11</td><td>-740.15</td><td>515413.3</td><td>79535.19</td><td>71.307</td><td>12.5937369732</td><td>1.776</td><td>0.271</td><td>18.56</td><td>5.97</td><td>98.981</td><td>3.5e-05</td><td>516116.5</td><td>*</td><td>0.003439</td><td>--</td><td>--</td><td>--</td><td>--</td><td>281.54</td><td>0.0</td><td>--</td><td>--</td><td>139.241</td><td>-1.6831</td><td>2.946116327627</td><td>0.9681916</td><td>2.09025254401489</td><td>15.3924387</td><td>17.3841</td><td>16.98777</td><td>17.2569</td><td>143.3657</td><td>/T</td><td>11.5834</td><td>156.5</td><td>1.5</td><td>25.0476</td><td>101.455</td><td>283.469</td><td>0.40576</td><td>Cnc</td><td>69.185461</td><td>127.9311781</td><td>-2.3712815</td><td>--</td><td>--</td><td>209.59751</td><td>30.590208</td><td>1.5454642962</td><td>0.000354</td><td>0.1</td><td>0.08</td><td>0.101</td><td>0.079</td><td>-13.346</td><td>0.05</td><td>0.128</td><td>61.7361</td><td>5.1e-06</td><td>0.14</td><td>0.5</td><td>0.000412</td><td>129.3638</td><td>3.946372538</td><td>11.5881</td><td>133.4515</td><td>-2.0385</td></tr>\n",
       "<tr><td>12893 Mommert (1998 QS55)</td><td>2019-Mar-05 09:20</td><td>2458547.888888889</td><td>13.9</td><td>0.15</td><td></td><td></td><td>129.43999</td><td>16.05949</td><td>129.70963</td><td>15.99056</td><td>-17.1881</td><td>6.816373</td><td>267.744</td><td>32.1033</td><td>451.44</td><td>-741.17</td><td>515389.4</td><td>79526.69</td><td>71.305</td><td>12.760859946</td><td>1.876</td><td>0.286</td><td>18.56</td><td>5.97</td><td>98.98</td><td>3.5e-05</td><td>516088.2</td><td>*</td><td>0.003439</td><td>--</td><td>--</td><td>--</td><td>--</td><td>281.54</td><td>0.0</td><td>--</td><td>--</td><td>139.2423</td><td>-1.683</td><td>2.946120210567</td><td>0.9681732</td><td>2.09031430118127</td><td>15.4030096</td><td>17.384614</td><td>16.98775</td><td>17.25881</td><td>143.3578</td><td>/T</td><td>11.5856</td><td>156.4</td><td>1.5</td><td>25.0533</td><td>101.456</td><td>283.469</td><td>0.40564</td><td>Cnc</td><td>69.185461</td><td>127.9303234</td><td>-2.371179</td><td>--</td><td>--</td><td>209.596817</td><td>30.589588</td><td>1.7121511598</td><td>0.000354</td><td>0.1</td><td>0.08</td><td>0.101</td><td>0.079</td><td>-13.346</td><td>0.05</td><td>0.128</td><td>61.7393</td><td>5.1e-06</td><td>0.14</td><td>0.5</td><td>0.000412</td><td>129.3652</td><td>4.113550976</td><td>11.5903</td><td>133.4518</td><td>-2.0384</td></tr>\n",
       "<tr><td>12893 Mommert (1998 QS55)</td><td>2019-Mar-05 09:30</td><td>2458547.895833333</td><td>13.9</td><td>0.15</td><td></td><td></td><td>129.43916</td><td>16.0598</td><td>129.7088</td><td>15.99087</td><td>-17.1469</td><td>6.809935</td><td>269.2066</td><td>30.0436</td><td>450.61</td><td>-741.67</td><td>515365.6</td><td>79518.18</td><td>71.304</td><td>12.9279829188</td><td>1.99</td><td>0.303</td><td>18.56</td><td>5.97</td><td>98.98</td><td>3.5e-05</td><td>516059.9</td><td>*</td><td>0.003439</td><td>--</td><td>--</td><td>--</td><td>--</td><td>281.54</td><td>0.0</td><td>--</td><td>--</td><td>139.2436</td><td>-1.683</td><td>2.946124093434</td><td>0.9681549</td><td>2.09037609950479</td><td>15.4129594</td><td>17.385128</td><td>16.98773</td><td>17.26007</td><td>143.35</td><td>/T</td><td>11.5878</td><td>156.3</td><td>1.5</td><td>25.059</td><td>101.457</td><td>283.469</td><td>0.40551</td><td>Cnc</td><td>69.185461</td><td>127.9294706</td><td>-2.3710765</td><td>--</td><td>--</td><td>209.596126</td><td>30.58897</td><td>1.8788381331</td><td>0.000354</td><td>0.1</td><td>0.08</td><td>0.101</td><td>0.079</td><td>-13.345</td><td>0.05</td><td>0.128</td><td>61.7425</td><td>5.1e-06</td><td>0.14</td><td>0.5</td><td>0.000412</td><td>129.3665</td><td>4.280729286</td><td>11.5924</td><td>133.452</td><td>-2.0383</td></tr>\n",
       "</table>"
      ],
      "text/plain": [
       "<Table masked=True length=49>\n",
       "        targetname           datetime_str   ...  PABLon   PABLat\n",
       "           ---                   ---        ...   deg      deg  \n",
       "          str25                 str17       ... float64  float64\n",
       "------------------------- ----------------- ... -------- -------\n",
       "12893 Mommert (1998 QS55) 2019-Mar-05 01:30 ... 133.4412 -2.0416\n",
       "12893 Mommert (1998 QS55) 2019-Mar-05 01:40 ... 133.4415 -2.0416\n",
       "12893 Mommert (1998 QS55) 2019-Mar-05 01:50 ... 133.4417 -2.0415\n",
       "12893 Mommert (1998 QS55) 2019-Mar-05 02:00 ... 133.4419 -2.0414\n",
       "12893 Mommert (1998 QS55) 2019-Mar-05 02:10 ... 133.4421 -2.0413\n",
       "12893 Mommert (1998 QS55) 2019-Mar-05 02:20 ... 133.4423 -2.0413\n",
       "12893 Mommert (1998 QS55) 2019-Mar-05 02:30 ... 133.4426 -2.0412\n",
       "12893 Mommert (1998 QS55) 2019-Mar-05 02:40 ... 133.4428 -2.0411\n",
       "12893 Mommert (1998 QS55) 2019-Mar-05 02:50 ...  133.443 -2.0411\n",
       "                      ...               ... ...      ...     ...\n",
       "12893 Mommert (1998 QS55) 2019-Mar-05 08:00 ... 133.4499 -2.0389\n",
       "12893 Mommert (1998 QS55) 2019-Mar-05 08:10 ... 133.4501 -2.0389\n",
       "12893 Mommert (1998 QS55) 2019-Mar-05 08:20 ... 133.4504 -2.0388\n",
       "12893 Mommert (1998 QS55) 2019-Mar-05 08:30 ... 133.4506 -2.0387\n",
       "12893 Mommert (1998 QS55) 2019-Mar-05 08:40 ... 133.4508 -2.0387\n",
       "12893 Mommert (1998 QS55) 2019-Mar-05 08:50 ... 133.4511 -2.0386\n",
       "12893 Mommert (1998 QS55) 2019-Mar-05 09:00 ... 133.4513 -2.0385\n",
       "12893 Mommert (1998 QS55) 2019-Mar-05 09:10 ... 133.4515 -2.0385\n",
       "12893 Mommert (1998 QS55) 2019-Mar-05 09:20 ... 133.4518 -2.0384\n",
       "12893 Mommert (1998 QS55) 2019-Mar-05 09:30 ...  133.452 -2.0383"
      ]
     },
     "execution_count": 21,
     "metadata": {},
     "output_type": "execute_result"
    }
   ],
   "source": [
    "eph = obj.ephemerides(airmass_lessthan=2, skip_daylight=True)\n",
    "eph"
   ]
  },
  {
   "cell_type": "markdown",
   "metadata": {},
   "source": [
    "#### Orbital elements query\n",
    "\n",
    "The following example queries the osculating orbital elements for asteroid Ceres over the next 100 years in 1 year steps:"
   ]
  },
  {
   "cell_type": "code",
   "execution_count": 22,
   "metadata": {},
   "outputs": [],
   "source": [
    "obj = Horizons('Ceres', epochs={'start': '2019-03-05', 'stop': '2119-03-06', 'step': '1y'})"
   ]
  },
  {
   "cell_type": "code",
   "execution_count": 23,
   "metadata": {},
   "outputs": [
    {
     "data": {
      "text/html": [
       "<i>Table masked=True length=101</i>\n",
       "<table id=\"table140121101426472\" class=\"table-striped table-bordered table-condensed\">\n",
       "<thead><tr><th>targetname</th><th>datetime_jd</th><th>datetime_str</th><th>H</th><th>G</th><th>e</th><th>q</th><th>incl</th><th>Omega</th><th>w</th><th>Tp_jd</th><th>n</th><th>M</th><th>nu</th><th>a</th><th>Q</th><th>P</th></tr></thead>\n",
       "<thead><tr><th>---</th><th>d</th><th>---</th><th>mag</th><th>---</th><th>---</th><th>AU</th><th>deg</th><th>deg</th><th>deg</th><th>d</th><th>deg / d</th><th>deg</th><th>deg</th><th>AU</th><th>AU</th><th>d</th></tr></thead>\n",
       "<thead><tr><th>str7</th><th>float64</th><th>str30</th><th>float64</th><th>float64</th><th>float64</th><th>float64</th><th>float64</th><th>float64</th><th>float64</th><th>float64</th><th>float64</th><th>float64</th><th>float64</th><th>float64</th><th>float64</th><th>float64</th></tr></thead>\n",
       "<tr><td>1 Ceres</td><td>2458547.5</td><td>A.D. 2019-Mar-05 00:00:00.0000</td><td>3.34</td><td>0.12</td><td>0.07589615719858286</td><td>2.558512120036736</td><td>10.59395452449465</td><td>80.30583708798557</td><td>73.4783156492489</td><td>2458238.253099298</td><td>0.2139459256600069</td><td>66.1621144281895</td><td>74.40523547428275</td><td>2.768641359915371</td><td>2.978770599794005</td><td>1682.668173695887</td></tr>\n",
       "<tr><td>1 Ceres</td><td>2458913.5</td><td>A.D. 2020-Mar-05 00:00:00.0000</td><td>3.34</td><td>0.12</td><td>0.077190941537906</td><td>2.554855979183249</td><td>10.58997936740895</td><td>80.29593557208541</td><td>73.76448458590265</td><td>2458240.282580242</td><td>0.2139548877626677</td><td>144.0381574841122</td><td>148.8497417519648</td><td>2.768564044485042</td><td>2.982272109786836</td><td>1682.597690403478</td></tr>\n",
       "<tr><td>1 Ceres</td><td>2459278.5</td><td>A.D. 2021-Mar-05 00:00:00.0000</td><td>3.34</td><td>0.12</td><td>0.07828348521787522</td><td>2.549305618054649</td><td>10.5880216125256</td><td>80.26930660085061</td><td>73.73665865247561</td><td>2459921.350199848</td><td>0.214272912508768</td><td>222.2546153716386</td><td>216.6398139258199</td><td>2.765823956899865</td><td>2.98234229574508</td><td>1680.100371927641</td></tr>\n",
       "<tr><td>1 Ceres</td><td>2459643.5</td><td>A.D. 2022-Mar-05 00:00:00.0000</td><td>3.34</td><td>0.12</td><td>0.07852267020585173</td><td>2.548912416148357</td><td>10.58757281171737</td><td>80.26858153109809</td><td>73.62417690170794</td><td>2459920.748617893</td><td>0.2142390764090452</td><td>300.602512166968</td><td>292.4787619050309</td><td>2.766115165001148</td><td>2.983317913853938</td><td>1680.365720549758</td></tr>\n",
       "<tr><td>1 Ceres</td><td>2460008.5</td><td>A.D. 2023-Mar-05 00:00:00.0000</td><td>3.34</td><td>0.12</td><td>0.07882482879740688</td><td>2.549077082793916</td><td>10.58634723084486</td><td>80.25989488975324</td><td>73.46956543941194</td><td>2459920.092108749</td><td>0.214112960653763</td><td>18.92927534084503</td><td>22.1575230045031</td><td>2.76720124736547</td><td>2.985325411937025</td><td>1681.355481241266</td></tr>\n",
       "<tr><td>1 Ceres</td><td>2460374.5</td><td>A.D. 2024-Mar-05 00:00:00.0000</td><td>3.34</td><td>0.12</td><td>0.07901214272513817</td><td>2.548491952707099</td><td>10.58751566100413</td><td>80.2535128636087</td><td>73.372790388798</td><td>2459919.74476173</td><td>0.2141213784060003</td><td>97.37281845577928</td><td>106.2046091071006</td><td>2.767128722248203</td><td>2.985765491789307</td><td>1681.289382125104</td></tr>\n",
       "<tr><td>1 Ceres</td><td>2460739.5</td><td>A.D. 2025-Mar-05 00:00:00.0000</td><td>3.34</td><td>0.12</td><td>0.07935746033177356</td><td>2.546647871505817</td><td>10.58786322008241</td><td>80.25350256534077</td><td>73.26425222835711</td><td>2459919.632088958</td><td>0.2142334508096702</td><td>175.6431317907191</td><td>176.2715800823452</td><td>2.766163588773072</td><td>2.985679306040327</td><td>1680.409845611981</td></tr>\n",
       "<tr><td>1 Ceres</td><td>2461104.5</td><td>A.D. 2026-Mar-05 00:00:00.0000</td><td>3.34</td><td>0.12</td><td>0.07963938783553738</td><td>2.545279842923952</td><td>10.58800693897349</td><td>80.24873554624939</td><td>73.30567596296581</td><td>2461599.91842923</td><td>0.214307713672897</td><td>253.8280091202413</td><td>245.3309674828608</td><td>2.765524522978095</td><td>2.985769203032238</td><td>1679.82754250963</td></tr>\n",
       "<tr><td>1 Ceres</td><td>2461469.5</td><td>A.D. 2027-Mar-05 00:00:00.0000</td><td>3.34</td><td>0.12</td><td>0.08000949692899187</td><td>2.545748082207302</td><td>10.58487018531394</td><td>80.24268327865128</td><td>72.97191184321062</td><td>2461598.511685108</td><td>0.2141193677361093</td><td>332.3760995540532</td><td>327.7186932877535</td><td>2.767146045213916</td><td>2.988544008220531</td><td>1681.30517013146</td></tr>\n",
       "<tr><td>...</td><td>...</td><td>...</td><td>...</td><td>...</td><td>...</td><td>...</td><td>...</td><td>...</td><td>...</td><td>...</td><td>...</td><td>...</td><td>...</td><td>...</td><td>...</td><td>...</td></tr>\n",
       "<tr><td>1 Ceres</td><td>2491784.5</td><td>A.D. 2110-Mar-05 00:00:00.0000</td><td>3.34</td><td>0.12</td><td>0.07945314224587119</td><td>2.547979114219324</td><td>10.57317689066339</td><td>79.00840901806546</td><td>75.07922752290226</td><td>2491871.18212533</td><td>0.2140322061830373</td><td>341.4472334790898</td><td>338.2523140677375</td><td>2.767897247985469</td><td>2.987815381751613</td><td>1681.989857601772</td></tr>\n",
       "<tr><td>1 Ceres</td><td>2492149.5</td><td>A.D. 2111-Mar-05 00:00:00.0000</td><td>3.34</td><td>0.12</td><td>0.07900470418096522</td><td>2.547633036751098</td><td>10.57285962963328</td><td>78.95543831815134</td><td>74.61759681524323</td><td>2491869.123802586</td><td>0.2142322671402284</td><td>60.06562842425469</td><td>68.28845879363189</td><td>2.766173777777557</td><td>2.984714518804016</td><td>1680.419130160059</td></tr>\n",
       "<tr><td>1 Ceres</td><td>2492515.5</td><td>A.D. 2112-Mar-05 00:00:00.0000</td><td>3.34</td><td>0.12</td><td>0.07876692082688572</td><td>2.548226147945476</td><td>10.57288981793472</td><td>78.95304912575408</td><td>74.58510328676893</td><td>2491868.85139769</td><td>0.214240418588595</td><td>138.5382672386445</td><td>144.0942737285686</td><td>2.76610361216374</td><td>2.983981076382004</td><td>1680.355193346157</td></tr>\n",
       "<tr><td>1 Ceres</td><td>2492880.5</td><td>A.D. 2113-Mar-05 00:00:00.0000</td><td>3.34</td><td>0.12</td><td>0.07844307814109398</td><td>2.54987298612674</td><td>10.57239811080283</td><td>78.94413414260443</td><td>74.6380363275533</td><td>2493549.814581203</td><td>0.214145769961937</td><td>216.6691136615027</td><td>211.6995945611601</td><td>2.766918597912865</td><td>2.983964209698991</td><td>1681.097880495084</td></tr>\n",
       "<tr><td>1 Ceres</td><td>2493245.5</td><td>A.D. 2114-Mar-05 00:00:00.0000</td><td>3.34</td><td>0.12</td><td>0.07821525649104208</td><td>2.550808546285075</td><td>10.57290347712713</td><td>78.9406776772912</td><td>74.60096820139042</td><td>2493549.822103026</td><td>0.2141073383125492</td><td>294.8424045314093</td><td>286.3920797806597</td><td>2.767249690610969</td><td>2.983690834936863</td><td>1681.399632713569</td></tr>\n",
       "<tr><td>1 Ceres</td><td>2493610.5</td><td>A.D. 2115-Mar-05 00:00:00.0000</td><td>3.34</td><td>0.12</td><td>0.0779504898120943</td><td>2.550895765992824</td><td>10.57267374951438</td><td>78.93849840567518</td><td>74.60731458377454</td><td>2493549.858943301</td><td>0.2141886071558706</td><td>12.98862347089505</td><td>15.205315442329</td><td>2.766549667677796</td><td>2.982203569362767</td><td>1680.761665059144</td></tr>\n",
       "<tr><td>1 Ceres</td><td>2493976.5</td><td>A.D. 2116-Mar-05 00:00:00.0000</td><td>3.34</td><td>0.12</td><td>0.07769638539776821</td><td>2.551149769363172</td><td>10.57278462515632</td><td>78.93594823804285</td><td>74.58768413038457</td><td>2493549.721444434</td><td>0.2142451537677059</td><td>91.43523726202767</td><td>100.2789622632058</td><td>2.766062854977993</td><td>2.980975940592814</td><td>1680.318054663341</td></tr>\n",
       "<tr><td>1 Ceres</td><td>2494341.5</td><td>A.D. 2117-Mar-05 00:00:00.0000</td><td>3.34</td><td>0.12</td><td>0.07679039817086553</td><td>2.556254016597217</td><td>10.56616982127074</td><td>78.9002373931385</td><td>75.09093643387348</td><td>2493550.886626594</td><td>0.2139185919548716</td><td>169.1268996196708</td><td>170.6432011742299</td><td>2.768877199210849</td><td>2.981500381824481</td><td>1682.883178643705</td></tr>\n",
       "<tr><td>1 Ceres</td><td>2494706.5</td><td>A.D. 2118-Mar-05 00:00:00.0000</td><td>3.34</td><td>0.12</td><td>0.07542872567055807</td><td>2.561388857287158</td><td>10.5731679674051</td><td>78.70436613271993</td><td>76.18390534507007</td><td>2495239.476059828</td><td>0.2137476724359553</td><td>246.0776077476426</td><td>238.4901069607764</td><td>2.770353058118576</td><td>2.979317258949993</td><td>1684.228866201413</td></tr>\n",
       "<tr><td>1 Ceres</td><td>2495071.5</td><td>A.D. 2119-Mar-05 00:00:00.0000</td><td>3.34</td><td>0.12</td><td>0.07513542588032414</td><td>2.558908128374798</td><td>10.58180263584563</td><td>78.68196553220626</td><td>77.19898302448962</td><td>2495243.512214886</td><td>0.2141604398054749</td><td>323.1617884080687</td><td>317.5904860238675</td><td>2.766792241783584</td><td>2.97467635519237</td><td>1680.982726440949</td></tr>\n",
       "</table>"
      ],
      "text/plain": [
       "<Table masked=True length=101>\n",
       "targetname datetime_jd ...         Q                 P        \n",
       "   ---          d      ...         AU                d        \n",
       "   str7      float64   ...      float64           float64     \n",
       "---------- ----------- ... ----------------- -----------------\n",
       "   1 Ceres   2458547.5 ... 2.978770599794005 1682.668173695887\n",
       "   1 Ceres   2458913.5 ... 2.982272109786836 1682.597690403478\n",
       "   1 Ceres   2459278.5 ...  2.98234229574508 1680.100371927641\n",
       "   1 Ceres   2459643.5 ... 2.983317913853938 1680.365720549758\n",
       "   1 Ceres   2460008.5 ... 2.985325411937025 1681.355481241266\n",
       "   1 Ceres   2460374.5 ... 2.985765491789307 1681.289382125104\n",
       "   1 Ceres   2460739.5 ... 2.985679306040327 1680.409845611981\n",
       "   1 Ceres   2461104.5 ... 2.985769203032238  1679.82754250963\n",
       "   1 Ceres   2461469.5 ... 2.988544008220531  1681.30517013146\n",
       "       ...         ... ...               ...               ...\n",
       "   1 Ceres   2491784.5 ... 2.987815381751613 1681.989857601772\n",
       "   1 Ceres   2492149.5 ... 2.984714518804016 1680.419130160059\n",
       "   1 Ceres   2492515.5 ... 2.983981076382004 1680.355193346157\n",
       "   1 Ceres   2492880.5 ... 2.983964209698991 1681.097880495084\n",
       "   1 Ceres   2493245.5 ... 2.983690834936863 1681.399632713569\n",
       "   1 Ceres   2493610.5 ... 2.982203569362767 1680.761665059144\n",
       "   1 Ceres   2493976.5 ... 2.980975940592814 1680.318054663341\n",
       "   1 Ceres   2494341.5 ... 2.981500381824481 1682.883178643705\n",
       "   1 Ceres   2494706.5 ... 2.979317258949993 1684.228866201413\n",
       "   1 Ceres   2495071.5 ...  2.97467635519237 1680.982726440949"
      ]
     },
     "execution_count": 23,
     "metadata": {},
     "output_type": "execute_result"
    }
   ],
   "source": [
    "el = obj.elements()\n",
    "el"
   ]
  },
  {
   "cell_type": "markdown",
   "metadata": {},
   "source": [
    "We plot the semi-major of Ceres as a function of time:"
   ]
  },
  {
   "cell_type": "code",
   "execution_count": 24,
   "metadata": {},
   "outputs": [
    {
     "data": {
      "text/plain": [
       "Text(0,0.5,'Semi-major axis (au)')"
      ]
     },
     "execution_count": 24,
     "metadata": {},
     "output_type": "execute_result"
    },
    {
     "data": {
      "image/png": "[encoded data removed]",
      "text/plain": [
       "<Figure size 432x288 with 1 Axes>"
      ]
     },
     "metadata": {},
     "output_type": "display_data"
    }
   ],
   "source": [
    "import matplotlib.pyplot as plt\n",
    "\n",
    "plt.plot((el['datetime_jd']-el['datetime_jd'][0])/365.25, el['a'])\n",
    "plt.xlabel('Year from now')\n",
    "plt.ylabel('Semi-major axis (au)')"
   ]
  },
  {
   "cell_type": "code",
   "execution_count": null,
   "metadata": {},
   "outputs": [],
   "source": []
  }
 ],
 "metadata": {
  "kernelspec": {
   "display_name": "Python 3",
   "language": "python",
   "name": "python3"
  },
  "language_info": {
   "codemirror_mode": {
    "name": "ipython",
    "version": 3
   },
   "file_extension": ".py",
   "mimetype": "text/x-python",
   "name": "python",
   "nbconvert_exporter": "python",
   "pygments_lexer": "ipython3",
   "version": "3.6.8"
  }
 },
 "nbformat": 4,
 "nbformat_minor": 2
}
